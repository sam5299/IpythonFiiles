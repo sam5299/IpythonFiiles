{
 "cells": [
  {
   "cell_type": "markdown",
   "metadata": {},
   "source": [
    "### Create tuple litral \n",
    "### Tupple litral can be cerated using the () bracket in which data is enclosed or using tuple() constructor we can create the tuple litral\n",
    "### Tuple can hold differnt data type\n",
    "### Tuple is immutable that means we cannot modify contains of tupple\n",
    "### Tuple is orderd that means tuple data has index values starts from 0 to onwards"
   ]
  },
  {
   "cell_type": "code",
   "execution_count": 5,
   "metadata": {},
   "outputs": [
    {
     "name": "stdout",
     "output_type": "stream",
     "text": [
      "(1, 2, 'sameer', 'Learnig', 'Python', '3.5')\n"
     ]
    }
   ],
   "source": [
    "simple_tuple=(1,2,\"sameer\",'Learnig','Python','3.5')\n",
    "print(simple_tuple)"
   ]
  },
  {
   "cell_type": "code",
   "execution_count": 12,
   "metadata": {},
   "outputs": [
    {
     "name": "stdout",
     "output_type": "stream",
     "text": [
      "(1, 2, 3, 'Sameer', 3.44, True)\n",
      "<class 'int'>\n",
      "<class 'int'>\n",
      "<class 'int'>\n",
      "<class 'str'>\n",
      "<class 'float'>\n",
      "<class 'bool'>\n"
     ]
    }
   ],
   "source": [
    "tuple_constructor=tuple((1,2,3,\"Sameer\",3.44,True)) #create tuple using constructor\n",
    "print(tuple_constructor)\n",
    "for x in tuple_constructor:\n",
    "    print(type(x))"
   ]
  },
  {
   "cell_type": "code",
   "execution_count": 15,
   "metadata": {
    "scrolled": true
   },
   "outputs": [
    {
     "name": "stdout",
     "output_type": "stream",
     "text": [
      "1\n"
     ]
    },
    {
     "ename": "TypeError",
     "evalue": "'tuple' object does not support item assignment",
     "output_type": "error",
     "traceback": [
      "\u001b[1;31m---------------------------------------------------------------------------\u001b[0m",
      "\u001b[1;31mTypeError\u001b[0m                                 Traceback (most recent call last)",
      "\u001b[1;32m<ipython-input-15-e1a7075c6ff7>\u001b[0m in \u001b[0;36m<module>\u001b[1;34m\u001b[0m\n\u001b[0;32m      2\u001b[0m \u001b[0msample_tuple\u001b[0m\u001b[1;33m=\u001b[0m\u001b[1;33m(\u001b[0m\u001b[1;36m1\u001b[0m\u001b[1;33m,\u001b[0m\u001b[1;36m2\u001b[0m\u001b[1;33m,\u001b[0m\u001b[1;36m3\u001b[0m\u001b[1;33m,\u001b[0m\u001b[1;36m4\u001b[0m\u001b[1;33m,\u001b[0m\u001b[1;36m5\u001b[0m\u001b[1;33m)\u001b[0m\u001b[1;33m\u001b[0m\u001b[1;33m\u001b[0m\u001b[0m\n\u001b[0;32m      3\u001b[0m \u001b[0mprint\u001b[0m\u001b[1;33m(\u001b[0m\u001b[0msample_tuple\u001b[0m\u001b[1;33m[\u001b[0m\u001b[1;36m0\u001b[0m\u001b[1;33m]\u001b[0m\u001b[1;33m)\u001b[0m\u001b[1;33m\u001b[0m\u001b[1;33m\u001b[0m\u001b[0m\n\u001b[1;32m----> 4\u001b[1;33m \u001b[0msample_tuple\u001b[0m\u001b[1;33m[\u001b[0m\u001b[1;36m0\u001b[0m\u001b[1;33m]\u001b[0m\u001b[1;33m=\u001b[0m\u001b[1;36m10\u001b[0m         \u001b[1;31m#this will generate an error TypeError: 'tuple' object does not support item assignment\u001b[0m\u001b[1;33m\u001b[0m\u001b[1;33m\u001b[0m\u001b[0m\n\u001b[0m",
      "\u001b[1;31mTypeError\u001b[0m: 'tuple' object does not support item assignment"
     ]
    }
   ],
   "source": [
    "#try to update tuple\n",
    "sample_tuple=(1,2,3,4,5)\n",
    "print(sample_tuple[0])\n",
    "sample_tuple[0]=10         #this will generate an error TypeError: 'tuple' object does not support item assignment"
   ]
  },
  {
   "cell_type": "code",
   "execution_count": 16,
   "metadata": {},
   "outputs": [
    {
     "name": "stdout",
     "output_type": "stream",
     "text": [
      "1\n",
      "2\n",
      "3\n",
      "4\n",
      "5\n",
      "6\n",
      "7\n",
      "8\n",
      "9\n"
     ]
    }
   ],
   "source": [
    "#use tupple in for loop directly\n",
    "for x in tuple(range(1,10)): #create a tuple of range 1 to 10 \n",
    "    print(x)"
   ]
  },
  {
   "cell_type": "code",
   "execution_count": 53,
   "metadata": {},
   "outputs": [
    {
     "name": "stdout",
     "output_type": "stream",
     "text": [
      "Enter number of element in tuple:5\n",
      "4\n"
     ]
    }
   ],
   "source": [
    "n=int(input('Enter number of element in tuple:'))\n",
    "s_tuple=(1,2,3,4)\n",
    "print(s_tuple[-1])  #negative index also works in tuple "
   ]
  },
  {
   "cell_type": "code",
   "execution_count": 21,
   "metadata": {},
   "outputs": [
    {
     "name": "stdout",
     "output_type": "stream",
     "text": [
      "(4, 'Sameer')\n"
     ]
    }
   ],
   "source": [
    "#tuple slicing\n",
    "x_tuple=(1,2,3,4,'Sameer','Loves',\"cats\")\n",
    "new_tuple=x_tuple[3:5]                    #sliciing\n",
    "print(new_tuple)"
   ]
  },
  {
   "cell_type": "code",
   "execution_count": 22,
   "metadata": {},
   "outputs": [
    {
     "name": "stdout",
     "output_type": "stream",
     "text": [
      "('cats', 'Loves', 'Sameer', 4, 3, 2, 1)\n"
     ]
    }
   ],
   "source": [
    "reverse_tuple=x_tuple[::-1] #reverse slicing\n",
    "print(reverse_tuple)"
   ]
  },
  {
   "cell_type": "code",
   "execution_count": 30,
   "metadata": {},
   "outputs": [
    {
     "name": "stdout",
     "output_type": "stream",
     "text": [
      "('cats', 'Loves', 'Sameer')\n"
     ]
    }
   ],
   "source": [
    "some_tuple=x_tuple[-1:3:-1] #postive negative slicing start from -1 index and till 3 index in -1 means reverse order\n",
    "print(some_tuple)"
   ]
  },
  {
   "cell_type": "code",
   "execution_count": 34,
   "metadata": {},
   "outputs": [
    {
     "name": "stdout",
     "output_type": "stream",
     "text": [
      "('Sameer', 'Loves', 'cats')\n"
     ]
    }
   ],
   "source": [
    "#using filter function in map lambda\n",
    "lambda_tuple=tuple(filter(lambda x:type(x)==type(\"\"),x_tuple)) #filter only that values form tuple which has datatype class str\n",
    "print(lambda_tuple)"
   ]
  },
  {
   "cell_type": "code",
   "execution_count": 39,
   "metadata": {},
   "outputs": [
    {
     "name": "stdout",
     "output_type": "stream",
     "text": [
      "('1Sameer', '2Ramesh', '3shinde', '4Sakarwadi', '5Kopargaon')\n"
     ]
    }
   ],
   "source": [
    "x_tuple=(1,2,3,4,5)\n",
    "y_tuple=('Sameer',\"Ramesh\",\"shinde\",'Sakarwadi',\"Kopargaon\")\n",
    "new_tuple=tuple(map(lambda x,y:str(x)+y,x_tuple,y_tuple))    #map the vales of x_tuple and y_tuple and attach it\n",
    "print(new_tuple)"
   ]
  },
  {
   "cell_type": "code",
   "execution_count": 45,
   "metadata": {},
   "outputs": [
    {
     "name": "stdout",
     "output_type": "stream",
     "text": [
      "16\n"
     ]
    }
   ],
   "source": [
    "from functools import reduce\n",
    "num1_tuple=(2,2,3,4,5)\n",
    "num2_tuple=tuple((1,2,3,4,5))\n",
    "reduced_tuple=(reduce(lambda x,y:x+y,num1_tuple))\n",
    "print(reduced_tuple)"
   ]
  },
  {
   "cell_type": "markdown",
   "metadata": {},
   "source": [
    "### How lists are different from tuple\n",
    "### The biggest difference between list and tuple is lists are mutable and tuples are immutable\n",
    "### The second difference is that the lists has dynamic size it can be extends as we append new element but the tuple size is static it stores only element which we have inserted at the time of initilization further modifications are not possible"
   ]
  },
  {
   "cell_type": "code",
   "execution_count": 46,
   "metadata": {},
   "outputs": [
    {
     "name": "stdout",
     "output_type": "stream",
     "text": [
      "[1, 2, 3, 4, 'Sameer']\n",
      "[1, 2, 'new element', 4, 'Sameer']\n"
     ]
    }
   ],
   "source": [
    "list_exe=[1,2,3,4,'Sameer']\n",
    "print(list_exe)\n",
    "list_exe[2]=\"new element\"    #<-- This statement is invalid in tuple that the we cannot modify the values once inserted\n",
    "print(list_exe)"
   ]
  },
  {
   "cell_type": "code",
   "execution_count": 51,
   "metadata": {},
   "outputs": [
    {
     "ename": "SyntaxError",
     "evalue": "invalid syntax (<ipython-input-51-f73039cc5264>, line 2)",
     "output_type": "error",
     "traceback": [
      "\u001b[1;36m  File \u001b[1;32m\"<ipython-input-51-f73039cc5264>\"\u001b[1;36m, line \u001b[1;32m2\u001b[0m\n\u001b[1;33m    temp_exe[1:4]=range(10,13)   <-- Slicing the list and assigning new value in range\u001b[0m\n\u001b[1;37m                                             ^\u001b[0m\n\u001b[1;31mSyntaxError\u001b[0m\u001b[1;31m:\u001b[0m invalid syntax\n"
     ]
    }
   ],
   "source": [
    "temp_exe=[1,2,3,4,5,6]\n",
    "temp_exe[1:4]=range(10,13)   #<-- Slicing the list and assigning new value in range\n",
    "print(temp_exe)"
   ]
  },
  {
   "cell_type": "markdown",
   "metadata": {},
   "source": [
    "### Slcing of the list"
   ]
  },
  {
   "cell_type": "code",
   "execution_count": 69,
   "metadata": {},
   "outputs": [
    {
     "name": "stdout",
     "output_type": "stream",
     "text": [
      "[1, 2]\n",
      "[5, True]\n",
      "[2, 3, 'Sameer', 'Shinde', 7.5, 11, 5]\n",
      "[True, 5, 11, 7.5, 'Shinde', 'Sameer', 3, 2, 1]\n",
      "[7.5, 11]\n"
     ]
    }
   ],
   "source": [
    "temp_list=[1,2,3,'Sameer','Shinde',7.5,11,5,True]\n",
    "first_two=temp_list[:2]\n",
    "print(first_two)\n",
    "last_tow=temp_list[-2::]\n",
    "print(last_tow)\n",
    "middle_list=temp_list[1:len(temp_list)-1]\n",
    "print(middle_list)\n",
    "reverse_slice=temp_list[::-1]\n",
    "print(reverse_slice)\n",
    "negative_slicing=temp_list[-4:-2] #getting element from -4 index to -2 index\n",
    "print(negative_slicing)"
   ]
  },
  {
   "cell_type": "code",
   "execution_count": 94,
   "metadata": {},
   "outputs": [
    {
     "name": "stdout",
     "output_type": "stream",
     "text": [
      "2021-01-05\n",
      "2021-01-05 11:18:20.206930\n",
      "Tue Jan  5 11:18:20 2021\n"
     ]
    }
   ],
   "source": [
    "from datetime import datetime\n",
    "today=date.today()\n",
    "print(today)\n",
    "print(datetime.now())#get both date and time time along with hrs min sec and milisec\n",
    "print(datetime.ctime(datetime.now())) #return the date in string literral return day month and date and time"
   ]
  },
  {
   "cell_type": "markdown",
   "metadata": {},
   "source": [
    "### While loop with break and continue statement "
   ]
  },
  {
   "cell_type": "code",
   "execution_count": 6,
   "metadata": {},
   "outputs": [
    {
     "name": "stdout",
     "output_type": "stream",
     "text": [
      "Iteration number:0\n",
      "Iteration number:1\n",
      "Iteration number:2\n",
      "Iteration number:3\n",
      "Iteration number:4\n",
      "Iteration number:6\n"
     ]
    }
   ],
   "source": [
    "x=0\n",
    "while x<10:\n",
    "    if x==7:\n",
    "        break\n",
    "    elif x==5:\n",
    "        x+=1\n",
    "        continue\n",
    "    else:\n",
    "        print('Iteration number:{0}'.format(x))\n",
    "    x+=1"
   ]
  },
  {
   "cell_type": "markdown",
   "metadata": {},
   "source": [
    "### Selection sort"
   ]
  },
  {
   "cell_type": "code",
   "execution_count": 1,
   "metadata": {},
   "outputs": [
    {
     "name": "stdout",
     "output_type": "stream",
     "text": [
      "Enter number of element in list:5\n",
      "1\n",
      "2\n",
      "1\n",
      "2\n",
      "1\n",
      "[1, 1, 1, 2, 2]\n"
     ]
    }
   ],
   "source": [
    "n=int(input('Enter number of element in list:'))\n",
    "l=[]\n",
    "for x in range(0,n):\n",
    "    l.append(int(input()))\n",
    "for i in range(0,len(l)):\n",
    "    temp=i\n",
    "    for j in range(i+1,len(l)):\n",
    "        if l[temp]>l[j]:\n",
    "            temp=j\n",
    "    l[i],l[temp]=l[temp],l[i]\n",
    "print(l)"
   ]
  },
  {
   "cell_type": "markdown",
   "metadata": {},
   "source": [
    "### Programs on file operation "
   ]
  },
  {
   "cell_type": "code",
   "execution_count": 10,
   "metadata": {},
   "outputs": [
    {
     "name": "stdout",
     "output_type": "stream",
     "text": [
      "file not found\n"
     ]
    }
   ],
   "source": [
    "try:\n",
    "    with open(\"abc1.txt\",'r+') as f:\n",
    "        txt=f.read()\n",
    "        f.write(\"hii this is new line added\")\n",
    "        print(txt)\n",
    "except FileNotFoundError:\n",
    "    print('file not found')"
   ]
  },
  {
   "cell_type": "code",
   "execution_count": 16,
   "metadata": {},
   "outputs": [],
   "source": [
    "try:\n",
    "    with open('abc.txt','w') as f1:\n",
    "        string_list=['this is new line\\n','another line\\n','another last line']\n",
    "        f1.writelines(string_list)\n",
    "except FileNotFoundError:\n",
    "    print('File not found')"
   ]
  },
  {
   "cell_type": "code",
   "execution_count": 26,
   "metadata": {},
   "outputs": [
    {
     "name": "stdout",
     "output_type": "stream",
     "text": [
      "hii\n"
     ]
    }
   ],
   "source": [
    "try:\n",
    "    print(10/0)\n",
    "except ZeroDivisionError:\n",
    "    print('hii')"
   ]
  },
  {
   "cell_type": "markdown",
   "metadata": {},
   "source": [
    "### Exception with argument"
   ]
  },
  {
   "cell_type": "code",
   "execution_count": 34,
   "metadata": {},
   "outputs": [
    {
     "name": "stdout",
     "output_type": "stream",
     "text": [
      "Enter value of a:1\n",
      "Enter value of b:0\n",
      "Excpetion occure:division by zero\n"
     ]
    }
   ],
   "source": [
    "try:\n",
    "    arg=\"This is exception argument to give extra info about exception\"\n",
    "    a=int(input('Enter value of a:'))\n",
    "    b=int(input('Enter value of b:'))\n",
    "    print(a/b)\n",
    "except Exception as argument:\n",
    "    print('Excpetion occure:{0}'.format(argument))"
   ]
  },
  {
   "cell_type": "markdown",
   "metadata": {},
   "source": [
    "### Relate string and list"
   ]
  },
  {
   "cell_type": "code",
   "execution_count": 44,
   "metadata": {},
   "outputs": [
    {
     "name": "stdout",
     "output_type": "stream",
     "text": [
      "['This', 'is', 'my', 'string']\n",
      "This is my string\n"
     ]
    }
   ],
   "source": [
    "string='This is my string'\n",
    "l=string.split()\n",
    "print(l)\n",
    "j=\" \".join(l)\n",
    "print(j)"
   ]
  },
  {
   "cell_type": "markdown",
   "metadata": {},
   "source": [
    "### Program to get key from value from dictionary"
   ]
  },
  {
   "cell_type": "code",
   "execution_count": 62,
   "metadata": {},
   "outputs": [
    {
     "name": "stdout",
     "output_type": "stream",
     "text": [
      "Enter value1\n",
      "one\n"
     ]
    }
   ],
   "source": [
    "def getKey(d,key):\n",
    "    for x in d.keys():\n",
    "        if str(d.get(x))==key:\n",
    "            print(x)\n",
    "            break\n",
    "d={'one':1,'tow':1}\n",
    "key=input('Enter value')\n",
    "getKey(d,key)"
   ]
  },
  {
   "cell_type": "code",
   "execution_count": 59,
   "metadata": {},
   "outputs": [
    {
     "name": "stdout",
     "output_type": "stream",
     "text": [
      "Enter value to get key:2\n",
      "two\n",
      "five\n"
     ]
    }
   ],
   "source": [
    "dictionary={'one':1,'two':2,'three':3,'four':1,'five':2}\n",
    "val=input('Enter value to get key:')\n",
    "for key,value in dictionary.items():\n",
    "    if str(value)==val:\n",
    "        print(key)\n",
    "        break"
   ]
  },
  {
   "cell_type": "code",
   "execution_count": 64,
   "metadata": {},
   "outputs": [
    {
     "name": "stdout",
     "output_type": "stream",
     "text": [
      "constructor called..!!\n",
      "Enter value to get key:7\n",
      "seven\n"
     ]
    }
   ],
   "source": [
    "class SearchKey:\n",
    "    def __init__(self):\n",
    "        print('constructor called..!!')\n",
    "    def getKey(self,d,k):\n",
    "        for x in d.keys():\n",
    "            if str(d.get(x))==k:\n",
    "                print(x)\n",
    "                break\n",
    "if __name__==\"__main__\":\n",
    "    s=SearchKey()\n",
    "    dic={'one':1,'two':2,'three':3,'four':1,'five':2,'six':3,'seven':7}\n",
    "    value=input('Enter value to get key:')\n",
    "    s.getKey(dic,value)"
   ]
  },
  {
   "cell_type": "markdown",
   "metadata": {},
   "source": [
    "### Module example"
   ]
  },
  {
   "cell_type": "code",
   "execution_count": 66,
   "metadata": {},
   "outputs": [
    {
     "name": "stdout",
     "output_type": "stream",
     "text": [
      "15\n"
     ]
    }
   ],
   "source": [
    "from functools import reduce\n",
    "l=[1,2,3,4,5]\n",
    "n=int(reduce(lambda x,y:x+y,l))\n",
    "print(n)"
   ]
  },
  {
   "cell_type": "markdown",
   "metadata": {},
   "source": [
    "### String mutablitity test"
   ]
  },
  {
   "cell_type": "code",
   "execution_count": 68,
   "metadata": {},
   "outputs": [
    {
     "name": "stdout",
     "output_type": "stream",
     "text": [
      "T\n"
     ]
    },
    {
     "ename": "TypeError",
     "evalue": "'str' object does not support item assignment",
     "output_type": "error",
     "traceback": [
      "\u001b[1;31m---------------------------------------------------------------------------\u001b[0m",
      "\u001b[1;31mTypeError\u001b[0m                                 Traceback (most recent call last)",
      "\u001b[1;32m<ipython-input-68-1dbdfb388f85>\u001b[0m in \u001b[0;36m<module>\u001b[1;34m\u001b[0m\n\u001b[0;32m      1\u001b[0m \u001b[0mstring\u001b[0m\u001b[1;33m=\u001b[0m\u001b[1;34m'This is my python string'\u001b[0m\u001b[1;33m\u001b[0m\u001b[1;33m\u001b[0m\u001b[0m\n\u001b[0;32m      2\u001b[0m \u001b[0mprint\u001b[0m\u001b[1;33m(\u001b[0m\u001b[0mstring\u001b[0m\u001b[1;33m[\u001b[0m\u001b[1;36m0\u001b[0m\u001b[1;33m]\u001b[0m\u001b[1;33m)\u001b[0m\u001b[1;33m\u001b[0m\u001b[1;33m\u001b[0m\u001b[0m\n\u001b[1;32m----> 3\u001b[1;33m \u001b[0mstring\u001b[0m\u001b[1;33m[\u001b[0m\u001b[1;36m0\u001b[0m\u001b[1;33m]\u001b[0m\u001b[1;33m=\u001b[0m\u001b[1;34m'A'\u001b[0m\u001b[1;33m\u001b[0m\u001b[1;33m\u001b[0m\u001b[0m\n\u001b[0m\u001b[0;32m      4\u001b[0m \u001b[0mprint\u001b[0m\u001b[1;33m(\u001b[0m\u001b[0mstring\u001b[0m\u001b[1;33m)\u001b[0m\u001b[1;33m\u001b[0m\u001b[1;33m\u001b[0m\u001b[0m\n",
      "\u001b[1;31mTypeError\u001b[0m: 'str' object does not support item assignment"
     ]
    }
   ],
   "source": [
    "string='This is my python string'\n",
    "print(string[0])\n",
    "string[0]='A'\n",
    "print(string)"
   ]
  },
  {
   "cell_type": "code",
   "execution_count": 8,
   "metadata": {},
   "outputs": [
    {
     "name": "stdout",
     "output_type": "stream",
     "text": [
      "Enter serach element:1\n",
      "3\n",
      "7\n",
      "11\n"
     ]
    },
    {
     "ename": "IndexError",
     "evalue": "list index out of range",
     "output_type": "error",
     "traceback": [
      "\u001b[1;31m---------------------------------------------------------------------------\u001b[0m",
      "\u001b[1;31mIndexError\u001b[0m                                Traceback (most recent call last)",
      "\u001b[1;32m<ipython-input-8-224f2ea6bde8>\u001b[0m in \u001b[0;36m<module>\u001b[1;34m\u001b[0m\n\u001b[0;32m     15\u001b[0m     \u001b[1;32melse\u001b[0m\u001b[1;33m:\u001b[0m\u001b[1;33m\u001b[0m\u001b[1;33m\u001b[0m\u001b[0m\n\u001b[0;32m     16\u001b[0m         \u001b[1;32mreturn\u001b[0m \u001b[1;33m-\u001b[0m\u001b[1;36m1\u001b[0m\u001b[1;33m\u001b[0m\u001b[1;33m\u001b[0m\u001b[0m\n\u001b[1;32m---> 17\u001b[1;33m \u001b[0mx\u001b[0m\u001b[1;33m=\u001b[0m\u001b[0mbinSearch\u001b[0m\u001b[1;33m(\u001b[0m\u001b[0ml\u001b[0m\u001b[1;33m,\u001b[0m\u001b[0mstart\u001b[0m\u001b[1;33m,\u001b[0m\u001b[0mend\u001b[0m\u001b[1;33m,\u001b[0m\u001b[0msearch_ele\u001b[0m\u001b[1;33m)\u001b[0m\u001b[1;33m\u001b[0m\u001b[1;33m\u001b[0m\u001b[0m\n\u001b[0m\u001b[0;32m     18\u001b[0m \u001b[0mprint\u001b[0m\u001b[1;33m(\u001b[0m\u001b[0mx\u001b[0m\u001b[1;33m)\u001b[0m\u001b[1;33m\u001b[0m\u001b[1;33m\u001b[0m\u001b[0m\n",
      "\u001b[1;32m<ipython-input-8-224f2ea6bde8>\u001b[0m in \u001b[0;36mbinSearch\u001b[1;34m(l, s, e, search)\u001b[0m\n\u001b[0;32m     12\u001b[0m             \u001b[0mbinSearch\u001b[0m\u001b[1;33m(\u001b[0m\u001b[0ml\u001b[0m\u001b[1;33m,\u001b[0m\u001b[0ms\u001b[0m\u001b[1;33m,\u001b[0m\u001b[0mminvalue\u001b[0m\u001b[1;33m-\u001b[0m\u001b[1;36m1\u001b[0m\u001b[1;33m,\u001b[0m\u001b[0msearch\u001b[0m\u001b[1;33m)\u001b[0m\u001b[1;33m\u001b[0m\u001b[1;33m\u001b[0m\u001b[0m\n\u001b[0;32m     13\u001b[0m         \u001b[1;32melse\u001b[0m\u001b[1;33m:\u001b[0m\u001b[1;33m\u001b[0m\u001b[1;33m\u001b[0m\u001b[0m\n\u001b[1;32m---> 14\u001b[1;33m             \u001b[0mbinSearch\u001b[0m\u001b[1;33m(\u001b[0m\u001b[0ml\u001b[0m\u001b[1;33m,\u001b[0m\u001b[0mminvalue\u001b[0m\u001b[1;33m+\u001b[0m\u001b[1;36m1\u001b[0m\u001b[1;33m,\u001b[0m\u001b[0me\u001b[0m\u001b[1;33m,\u001b[0m\u001b[0msearch\u001b[0m\u001b[1;33m)\u001b[0m\u001b[1;33m\u001b[0m\u001b[1;33m\u001b[0m\u001b[0m\n\u001b[0m\u001b[0;32m     15\u001b[0m     \u001b[1;32melse\u001b[0m\u001b[1;33m:\u001b[0m\u001b[1;33m\u001b[0m\u001b[1;33m\u001b[0m\u001b[0m\n\u001b[0;32m     16\u001b[0m         \u001b[1;32mreturn\u001b[0m \u001b[1;33m-\u001b[0m\u001b[1;36m1\u001b[0m\u001b[1;33m\u001b[0m\u001b[1;33m\u001b[0m\u001b[0m\n",
      "\u001b[1;32m<ipython-input-8-224f2ea6bde8>\u001b[0m in \u001b[0;36mbinSearch\u001b[1;34m(l, s, e, search)\u001b[0m\n\u001b[0;32m     12\u001b[0m             \u001b[0mbinSearch\u001b[0m\u001b[1;33m(\u001b[0m\u001b[0ml\u001b[0m\u001b[1;33m,\u001b[0m\u001b[0ms\u001b[0m\u001b[1;33m,\u001b[0m\u001b[0mminvalue\u001b[0m\u001b[1;33m-\u001b[0m\u001b[1;36m1\u001b[0m\u001b[1;33m,\u001b[0m\u001b[0msearch\u001b[0m\u001b[1;33m)\u001b[0m\u001b[1;33m\u001b[0m\u001b[1;33m\u001b[0m\u001b[0m\n\u001b[0;32m     13\u001b[0m         \u001b[1;32melse\u001b[0m\u001b[1;33m:\u001b[0m\u001b[1;33m\u001b[0m\u001b[1;33m\u001b[0m\u001b[0m\n\u001b[1;32m---> 14\u001b[1;33m             \u001b[0mbinSearch\u001b[0m\u001b[1;33m(\u001b[0m\u001b[0ml\u001b[0m\u001b[1;33m,\u001b[0m\u001b[0mminvalue\u001b[0m\u001b[1;33m+\u001b[0m\u001b[1;36m1\u001b[0m\u001b[1;33m,\u001b[0m\u001b[0me\u001b[0m\u001b[1;33m,\u001b[0m\u001b[0msearch\u001b[0m\u001b[1;33m)\u001b[0m\u001b[1;33m\u001b[0m\u001b[1;33m\u001b[0m\u001b[0m\n\u001b[0m\u001b[0;32m     15\u001b[0m     \u001b[1;32melse\u001b[0m\u001b[1;33m:\u001b[0m\u001b[1;33m\u001b[0m\u001b[1;33m\u001b[0m\u001b[0m\n\u001b[0;32m     16\u001b[0m         \u001b[1;32mreturn\u001b[0m \u001b[1;33m-\u001b[0m\u001b[1;36m1\u001b[0m\u001b[1;33m\u001b[0m\u001b[1;33m\u001b[0m\u001b[0m\n",
      "\u001b[1;32m<ipython-input-8-224f2ea6bde8>\u001b[0m in \u001b[0;36mbinSearch\u001b[1;34m(l, s, e, search)\u001b[0m\n\u001b[0;32m      7\u001b[0m         \u001b[0mminvalue\u001b[0m\u001b[1;33m=\u001b[0m\u001b[0ms\u001b[0m\u001b[1;33m+\u001b[0m\u001b[1;33m(\u001b[0m\u001b[0me\u001b[0m\u001b[1;33m-\u001b[0m\u001b[1;36m1\u001b[0m\u001b[1;33m)\u001b[0m\u001b[1;33m//\u001b[0m\u001b[1;36m2\u001b[0m\u001b[1;33m\u001b[0m\u001b[1;33m\u001b[0m\u001b[0m\n\u001b[0;32m      8\u001b[0m         \u001b[0mprint\u001b[0m\u001b[1;33m(\u001b[0m\u001b[0mminvalue\u001b[0m\u001b[1;33m)\u001b[0m\u001b[1;33m\u001b[0m\u001b[1;33m\u001b[0m\u001b[0m\n\u001b[1;32m----> 9\u001b[1;33m         \u001b[1;32mif\u001b[0m \u001b[0ml\u001b[0m\u001b[1;33m[\u001b[0m\u001b[0mminvalue\u001b[0m\u001b[1;33m]\u001b[0m\u001b[1;33m==\u001b[0m\u001b[0msearch\u001b[0m\u001b[1;33m:\u001b[0m\u001b[1;33m\u001b[0m\u001b[1;33m\u001b[0m\u001b[0m\n\u001b[0m\u001b[0;32m     10\u001b[0m             \u001b[1;32mreturn\u001b[0m \u001b[0mminvalue\u001b[0m\u001b[1;33m\u001b[0m\u001b[1;33m\u001b[0m\u001b[0m\n\u001b[0;32m     11\u001b[0m         \u001b[1;32melif\u001b[0m \u001b[0msearch_ele\u001b[0m\u001b[1;33m>\u001b[0m\u001b[0ml\u001b[0m\u001b[1;33m[\u001b[0m\u001b[0mminvalue\u001b[0m\u001b[1;33m]\u001b[0m\u001b[1;33m:\u001b[0m\u001b[1;33m\u001b[0m\u001b[1;33m\u001b[0m\u001b[0m\n",
      "\u001b[1;31mIndexError\u001b[0m: list index out of range"
     ]
    }
   ],
   "source": [
    "l=[1,2,3,4,5,6,7,8]\n",
    "search_ele=int(input('Enter serach element:'))\n",
    "start=0\n",
    "end=len(l)\n",
    "def binSearch(l,s,e,search):\n",
    "    if e>=s:\n",
    "        minvalue=s+(e-1)//2\n",
    "        print(minvalue)\n",
    "        if l[minvalue]==search:\n",
    "            return minvalue\n",
    "        elif search_ele>l[minvalue]:\n",
    "            binSearch(l,s,minvalue-1,search)\n",
    "        else:\n",
    "            binSearch(l,minvalue+1,e,search)\n",
    "    else:\n",
    "        return -1\n",
    "x=binSearch(l,start,end,search_ele)\n",
    "print(x)"
   ]
  },
  {
   "cell_type": "code",
   "execution_count": 6,
   "metadata": {},
   "outputs": [
    {
     "name": "stdout",
     "output_type": "stream",
     "text": [
      "Element is present at index  3\n"
     ]
    }
   ],
   "source": []
  },
  {
   "cell_type": "code",
   "execution_count": 10,
   "metadata": {},
   "outputs": [
    {
     "data": {
      "text/plain": [
       "4"
      ]
     },
     "execution_count": 10,
     "metadata": {},
     "output_type": "execute_result"
    }
   ],
   "source": [
    "4+(4-4)//2"
   ]
  },
  {
   "cell_type": "code",
   "execution_count": 49,
   "metadata": {},
   "outputs": [
    {
     "name": "stdout",
     "output_type": "stream",
     "text": [
      "Enter number of element in list:3\n",
      "Enter list element:\n",
      "10\n",
      "15\n",
      "3\n",
      "Enter element to search:15\n",
      "1\n",
      "10\n",
      "2\n",
      "Hii\n",
      "Element found at:2\n"
     ]
    }
   ],
   "source": [
    "def binarysearch(lis,st,end,search):\n",
    "    if end>=st:\n",
    "        mid=st+(end-st)//2\n",
    "        print(mid)\n",
    "        if lis[mid]==search:\n",
    "            #print('Hii')\n",
    "            return mid\n",
    "        elif lis[mid]>search:\n",
    "            #print(lis[mid])\n",
    "            return binarysearch(lis,st,mid-1,search)\n",
    "        else:\n",
    "            #print(lis[mid])\n",
    "            return binarysearch(lis,mid+1,end,search)\n",
    "    else:\n",
    "        print('element not present')\n",
    "        return -1\n",
    "n=int(input('Enter number of element in list:'))\n",
    "a=[]\n",
    "print('Enter list element:')\n",
    "for x in range(n):\n",
    "    a.append(int(input()))\n",
    "key_to_search=int(input('Enter element to search:'))\n",
    "a.sort()\n",
    "f=0\n",
    "store=int(binarysearch(a, 0, len(a)-1, key_to_search)) \n",
    "if store==(-1):\n",
    "    print('Element not present')\n",
    "else:\n",
    "    print('Element found at:{0}'.format(store))"
   ]
  },
  {
   "cell_type": "markdown",
   "metadata": {},
   "source": [
    "### List traversing"
   ]
  },
  {
   "cell_type": "code",
   "execution_count": 50,
   "metadata": {},
   "outputs": [
    {
     "name": "stdout",
     "output_type": "stream",
     "text": [
      "1\n",
      "2\n",
      "3\n",
      "sameer\n",
      "python\n",
      "learner\n"
     ]
    }
   ],
   "source": [
    "l=[1,2,3,'sameer','python','learner']\n",
    "for x in l:\n",
    "    print(x)"
   ]
  },
  {
   "cell_type": "code",
   "execution_count": 51,
   "metadata": {},
   "outputs": [
    {
     "name": "stdout",
     "output_type": "stream",
     "text": [
      "2\n",
      "3\n",
      "4\n",
      "5\n",
      "x\n",
      "u\n",
      "z\n"
     ]
    }
   ],
   "source": [
    "#using range\n",
    "l=[2,3,4,5,'x','u','z']\n",
    "for x in range(len(l)):\n",
    "    print(l[x])"
   ]
  },
  {
   "cell_type": "code",
   "execution_count": 52,
   "metadata": {},
   "outputs": [
    {
     "name": "stdout",
     "output_type": "stream",
     "text": [
      "b\n",
      "boy\n",
      "c\n",
      "cat\n"
     ]
    }
   ],
   "source": [
    "#using while loop\n",
    "list_exe=['b','boy','c','cat']\n",
    "i=0\n",
    "while i<len(list_exe):\n",
    "    print(list_exe[i])\n",
    "    i+=1"
   ]
  },
  {
   "cell_type": "code",
   "execution_count": 56,
   "metadata": {},
   "outputs": [
    {
     "name": "stdout",
     "output_type": "stream",
     "text": [
      "Cat\n",
      "Dog\n",
      "Hourse\n",
      "Camel\n",
      "Zebra\n",
      "Tiger\n",
      "['Cat', 'Dog', 'Hourse', 'Camel', 'Zebra', 'Tiger']\n"
     ]
    }
   ],
   "source": [
    "#using comprehension\n",
    "animal_list=['Cat','Dog','Hourse','Camel','Zebra','Tiger']\n",
    "[print(x) for x in animal_list]\n"
   ]
  },
  {
   "cell_type": "code",
   "execution_count": 60,
   "metadata": {},
   "outputs": [
    {
     "name": "stdout",
     "output_type": "stream",
     "text": [
      "30\n",
      "sameershinde\n",
      "value fo a+b is:30\n"
     ]
    }
   ],
   "source": [
    "a=10\n",
    "b=20\n",
    "print(a+b)\n",
    "\n",
    "s1='sameer'\n",
    "s2='shinde'\n",
    "print(s1+s2)\n",
    "\n",
    "print('value fo a+b is:'+str(a+b))"
   ]
  },
  {
   "cell_type": "code",
   "execution_count": 67,
   "metadata": {},
   "outputs": [
    {
     "name": "stdout",
     "output_type": "stream",
     "text": [
      "aers\n"
     ]
    }
   ],
   "source": [
    "s=[1,2,3,4,5]\n",
    "a='sameer shide'\n",
    "print(a[1:8:2])"
   ]
  },
  {
   "cell_type": "code",
   "execution_count": 70,
   "metadata": {},
   "outputs": [
    {
     "name": "stdout",
     "output_type": "stream",
     "text": [
      "[1, 2, 3, 9, 22, 33, 44, 55]\n"
     ]
    }
   ],
   "source": [
    "l=[22,33,44,55,9,2,3,1]\n",
    "def selectionsort(arr):\n",
    "    for x in range(len(arr)):\n",
    "        temp=x\n",
    "        for y in range(x+1,len(arr)):\n",
    "            if arr[temp]>arr[y]:\n",
    "                temp=y\n",
    "        arr[x],arr[temp]=arr[temp],arr[x]\n",
    "    print(arr)\n",
    "selectionsort(l)"
   ]
  },
  {
   "cell_type": "code",
   "execution_count": 76,
   "metadata": {},
   "outputs": [
    {
     "name": "stdout",
     "output_type": "stream",
     "text": [
      "Inside printshow() function with local scope:55\n",
      "outside printshow() with global scope value of a:10\n"
     ]
    }
   ],
   "source": [
    "a=10\n",
    "def printshow():\n",
    "    a=5+50\n",
    "    print('Inside printshow() function with local scope:{0}'.format(a))\n",
    "printshow()\n",
    "print('outside printshow() with global scope value of a:{0}'.format(a))"
   ]
  },
  {
   "cell_type": "markdown",
   "metadata": {},
   "source": [
    "### List negative indexing"
   ]
  },
  {
   "cell_type": "code",
   "execution_count": 1,
   "metadata": {},
   "outputs": [
    {
     "name": "stdout",
     "output_type": "stream",
     "text": [
      "[3, 4, 'a']\n"
     ]
    }
   ],
   "source": [
    "#positive negative indexing\n",
    "\n",
    "a=[1,2,3,4,'a','b','c']\n",
    "print(a[2:-2])"
   ]
  },
  {
   "cell_type": "code",
   "execution_count": 6,
   "metadata": {},
   "outputs": [
    {
     "name": "stdout",
     "output_type": "stream",
     "text": [
      "Hii\n"
     ]
    }
   ],
   "source": [
    "a=10\n",
    "if a not in [1,2,3,4,5]:\n",
    "    print('Hii')"
   ]
  },
  {
   "cell_type": "code",
   "execution_count": 14,
   "metadata": {},
   "outputs": [
    {
     "name": "stdout",
     "output_type": "stream",
     "text": [
      "learn\n"
     ]
    }
   ],
   "source": [
    "s='Python is really intresting to learn'\n",
    "print(s[-5:])"
   ]
  },
  {
   "cell_type": "markdown",
   "metadata": {},
   "source": [
    "### Search string in main string"
   ]
  },
  {
   "cell_type": "code",
   "execution_count": 27,
   "metadata": {},
   "outputs": [],
   "source": [
    "s='Sameer Shinde'\n",
    "sub='zerbea'\n",
    "if sub in s:\n",
    "    print(\"Substring present\")"
   ]
  },
  {
   "cell_type": "code",
   "execution_count": 30,
   "metadata": {},
   "outputs": [
    {
     "name": "stdout",
     "output_type": "stream",
     "text": [
      "-1\n"
     ]
    }
   ],
   "source": [
    "print(s.find(sub)) #find method return the index of the substring present in main string if not found return -1"
   ]
  },
  {
   "cell_type": "code",
   "execution_count": 29,
   "metadata": {},
   "outputs": [
    {
     "name": "stdout",
     "output_type": "stream",
     "text": [
      "0\n"
     ]
    }
   ],
   "source": [
    "print(s.count(sub))"
   ]
  },
  {
   "cell_type": "code",
   "execution_count": 28,
   "metadata": {},
   "outputs": [
    {
     "ename": "ValueError",
     "evalue": "substring not found",
     "output_type": "error",
     "traceback": [
      "\u001b[1;31m---------------------------------------------------------------------------\u001b[0m",
      "\u001b[1;31mValueError\u001b[0m                                Traceback (most recent call last)",
      "\u001b[1;32m<ipython-input-28-8816b52762da>\u001b[0m in \u001b[0;36m<module>\u001b[1;34m\u001b[0m\n\u001b[1;32m----> 1\u001b[1;33m \u001b[0mprint\u001b[0m\u001b[1;33m(\u001b[0m\u001b[0ms\u001b[0m\u001b[1;33m.\u001b[0m\u001b[0mindex\u001b[0m\u001b[1;33m(\u001b[0m\u001b[0msub\u001b[0m\u001b[1;33m)\u001b[0m\u001b[1;33m)\u001b[0m\u001b[1;33m\u001b[0m\u001b[1;33m\u001b[0m\u001b[0m\n\u001b[0m",
      "\u001b[1;31mValueError\u001b[0m: substring not found"
     ]
    }
   ],
   "source": [
    "print(s.index(sub))"
   ]
  },
  {
   "cell_type": "markdown",
   "metadata": {},
   "source": [
    "### Operation on tuples"
   ]
  },
  {
   "cell_type": "code",
   "execution_count": 40,
   "metadata": {},
   "outputs": [
    {
     "ename": "NameError",
     "evalue": "name 'tup' is not defined",
     "output_type": "error",
     "traceback": [
      "\u001b[1;31m---------------------------------------------------------------------------\u001b[0m",
      "\u001b[1;31mNameError\u001b[0m                                 Traceback (most recent call last)",
      "\u001b[1;32m<ipython-input-40-0f43bed088c0>\u001b[0m in \u001b[0;36m<module>\u001b[1;34m\u001b[0m\n\u001b[0;32m      4\u001b[0m \u001b[1;32mdel\u001b[0m\u001b[1;33m(\u001b[0m\u001b[0mtup\u001b[0m\u001b[1;33m)\u001b[0m\u001b[1;33m\u001b[0m\u001b[1;33m\u001b[0m\u001b[0m\n\u001b[0;32m      5\u001b[0m \u001b[1;33m\u001b[0m\u001b[0m\n\u001b[1;32m----> 6\u001b[1;33m \u001b[0mprint\u001b[0m\u001b[1;33m(\u001b[0m\u001b[0mtup\u001b[0m\u001b[1;33m+\u001b[0m\u001b[0mnew_tup\u001b[0m\u001b[1;33m)\u001b[0m\u001b[1;33m\u001b[0m\u001b[1;33m\u001b[0m\u001b[0m\n\u001b[0m\u001b[0;32m      7\u001b[0m \u001b[0mprint\u001b[0m\u001b[1;33m(\u001b[0m\u001b[0mtup\u001b[0m\u001b[1;33m)\u001b[0m\u001b[1;33m\u001b[0m\u001b[1;33m\u001b[0m\u001b[0m\n\u001b[0;32m      8\u001b[0m \u001b[0mprint\u001b[0m\u001b[1;33m(\u001b[0m\u001b[0mnew_tup\u001b[0m\u001b[1;33m)\u001b[0m\u001b[1;33m\u001b[0m\u001b[1;33m\u001b[0m\u001b[0m\n",
      "\u001b[1;31mNameError\u001b[0m: name 'tup' is not defined"
     ]
    }
   ],
   "source": [
    "tup=(1,2,3,4)\n",
    "new_tup=(5,6,7,8)\n",
    "\n",
    "del(tup)\n",
    "\n",
    "print(tup+new_tup)\n",
    "print(tup)\n",
    "print(new_tup)\n",
    "print(tup[1])\n",
    "print(len(tup))"
   ]
  },
  {
   "cell_type": "code",
   "execution_count": 41,
   "metadata": {},
   "outputs": [
    {
     "name": "stdout",
     "output_type": "stream",
     "text": [
      "Enter n1:f\n",
      "You are allowed to enter only integer value\n"
     ]
    }
   ],
   "source": [
    "def addition(a,b):\n",
    "    return a+b\n",
    "try:\n",
    "    n1=int(input('Enter n1:'))\n",
    "    n2=int(input('Enter n2:'))\n",
    "    result=addition(n1,n2)\n",
    "    print(result)\n",
    "except ValueError:\n",
    "    print('You are allowed to enter only integer value')"
   ]
  },
  {
   "cell_type": "code",
   "execution_count": 43,
   "metadata": {},
   "outputs": [
    {
     "name": "stdout",
     "output_type": "stream",
     "text": [
      "4\n"
     ]
    }
   ],
   "source": [
    "def addition(a,b=0):\n",
    "    return a+b\n",
    "print(addition(4))"
   ]
  },
  {
   "cell_type": "code",
   "execution_count": 56,
   "metadata": {},
   "outputs": [
    {
     "name": "stdout",
     "output_type": "stream",
     "text": [
      "[1, 2, 3, 4, 5, 6, 7, 8, 9, 10, 11, 12, 13, 14, 15, 16, 17, 18]\n",
      "(1, 2, 3, 4, 5, 6, 7, 8, 9)\n",
      "{1, 2, 3, 4}\n"
     ]
    }
   ],
   "source": [
    "a=list(range(1,19))\n",
    "print(a)\n",
    "tup=tuple(range(1,10))\n",
    "print(tup)\n",
    "dic=set(range(1,5))\n",
    "print(dic)"
   ]
  },
  {
   "cell_type": "markdown",
   "metadata": {},
   "source": [
    "### Anonymus functions"
   ]
  },
  {
   "cell_type": "code",
   "execution_count": 57,
   "metadata": {},
   "outputs": [
    {
     "name": "stdout",
     "output_type": "stream",
     "text": [
      "50\n"
     ]
    }
   ],
   "source": [
    "x=lambda a:a*10\n",
    "print(x(5))"
   ]
  },
  {
   "cell_type": "code",
   "execution_count": 58,
   "metadata": {},
   "outputs": [
    {
     "name": "stdout",
     "output_type": "stream",
     "text": [
      "25\n"
     ]
    }
   ],
   "source": [
    "abc=lambda a,b:a*b\n",
    "print(abc(5,5))"
   ]
  },
  {
   "cell_type": "code",
   "execution_count": 68,
   "metadata": {},
   "outputs": [
    {
     "name": "stdout",
     "output_type": "stream",
     "text": [
      "45\n"
     ]
    }
   ],
   "source": [
    "def addnum(a):\n",
    "    return lambda b:a+b\n",
    "x=addnum(1)\n",
    "print(x(44))"
   ]
  },
  {
   "cell_type": "markdown",
   "metadata": {},
   "source": [
    "### List comprehension"
   ]
  },
  {
   "cell_type": "code",
   "execution_count": 70,
   "metadata": {},
   "outputs": [
    {
     "name": "stdout",
     "output_type": "stream",
     "text": [
      "[1, 4, 9, 16, 25, 36, 49, 64, 81, 100]\n"
     ]
    }
   ],
   "source": [
    "sqr=[x**2 for x in range(1,11)]\n",
    "print(sqr)"
   ]
  },
  {
   "cell_type": "code",
   "execution_count": 75,
   "metadata": {},
   "outputs": [
    {
     "name": "stdout",
     "output_type": "stream",
     "text": [
      "[5, 7, 9]\n"
     ]
    }
   ],
   "source": [
    "l=list(map(lambda x,y:x+y,[1,2,3],[4,5,6]))\n",
    "print(l)"
   ]
  },
  {
   "cell_type": "code",
   "execution_count": 79,
   "metadata": {},
   "outputs": [
    {
     "name": "stdout",
     "output_type": "stream",
     "text": [
      "[4, 10, 18]\n"
     ]
    }
   ],
   "source": [
    "def add(a,b):\n",
    "    return a*b\n",
    "l=list(map(add,[1,2,3],[4,5,6]))\n",
    "print(l)"
   ]
  },
  {
   "cell_type": "markdown",
   "metadata": {},
   "source": [
    "### Create dictionary in python"
   ]
  },
  {
   "cell_type": "code",
   "execution_count": 92,
   "metadata": {},
   "outputs": [
    {
     "name": "stdout",
     "output_type": "stream",
     "text": [
      "key:a value:1\n",
      "key:b value:2\n",
      "<class 'dict'>\n"
     ]
    }
   ],
   "source": [
    "dic={'a':1,'b':2}\n",
    "for x in dic:\n",
    "    print(\"key:{0} value:{1}\".format(x,dic.get(x)))\n",
    "print(type(dic))"
   ]
  },
  {
   "cell_type": "code",
   "execution_count": 86,
   "metadata": {},
   "outputs": [
    {
     "name": "stdout",
     "output_type": "stream",
     "text": [
      "{0: 'a', 1: 'b', 2: 'c'}\n"
     ]
    }
   ],
   "source": [
    "new_dic=dict({0:'a',1:'b',2:'c'})\n",
    "print(new_dic)"
   ]
  },
  {
   "cell_type": "markdown",
   "metadata": {},
   "source": [
    "### Random module and its functions"
   ]
  },
  {
   "cell_type": "code",
   "execution_count": 96,
   "metadata": {},
   "outputs": [
    {
     "name": "stdout",
     "output_type": "stream",
     "text": [
      "1\n"
     ]
    }
   ],
   "source": [
    "from random import randint\n",
    "x=randint(0,5)\n",
    "print(x)"
   ]
  },
  {
   "cell_type": "code",
   "execution_count": null,
   "metadata": {},
   "outputs": [],
   "source": []
  }
 ],
 "metadata": {
  "kernelspec": {
   "display_name": "Python 3",
   "language": "python",
   "name": "python3"
  },
  "language_info": {
   "codemirror_mode": {
    "name": "ipython",
    "version": 3
   },
   "file_extension": ".py",
   "mimetype": "text/x-python",
   "name": "python",
   "nbconvert_exporter": "python",
   "pygments_lexer": "ipython3",
   "version": "3.9.0"
  }
 },
 "nbformat": 4,
 "nbformat_minor": 4
}
