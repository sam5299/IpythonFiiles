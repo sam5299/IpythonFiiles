{
 "cells": [
  {
   "cell_type": "markdown",
   "metadata": {},
   "source": [
    "### Write a program to add key value pair to the dictionary"
   ]
  },
  {
   "cell_type": "code",
   "execution_count": 7,
   "metadata": {},
   "outputs": [
    {
     "name": "stdout",
     "output_type": "stream",
     "text": [
      "{'Sameer': 'Mcs', 'Vijay': 'Msc'}\n",
      "{'Sameer': 'Mcs', 'Vijay': 'Msc', 'Pratik': 'CDAC'}\n"
     ]
    }
   ],
   "source": [
    "orignal_dic={'Sameer':'Mcs','Vijay':'Msc'}\n",
    "print(orignal_dic)\n",
    "orignal_dic.update({'Pratik':'CDAC'})      #update method to insert new element in existing dictionary\n",
    "print(orignal_dic)"
   ]
  },
  {
   "cell_type": "code",
   "execution_count": 13,
   "metadata": {},
   "outputs": [
    {
     "name": "stdout",
     "output_type": "stream",
     "text": [
      "{0: {'namskar': 'maharashtra'}, 1: {'kemcho': 'gujrat'}}\n",
      "{0: {'namskar': 'maharashtra'}, 1: {'kemcho': 'gujrat'}, 2: {'sasriyakal': 'panjab'}}\n"
     ]
    }
   ],
   "source": [
    "orignal_dic={0:{'namskar':'maharashtra'},1:{'kemcho':'gujrat'}}\n",
    "print(orignal_dic)\n",
    "orignal_dic[len(orignal_dic)]={'sasriyakal':'panjab'}        #adding new key value using index value \n",
    "print(orignal_dic)"
   ]
  },
  {
   "cell_type": "markdown",
   "metadata": {},
   "source": [
    "### Write a program to concatinate two dictionary into one"
   ]
  },
  {
   "cell_type": "code",
   "execution_count": 23,
   "metadata": {},
   "outputs": [
    {
     "name": "stdout",
     "output_type": "stream",
     "text": [
      "{'sameer': 'mcs', 'pratik': 'cdac', 'vijay': 'msc', 'namaskar': 'maharashtra', 'kemcho': 'gujarat', 'sasriyakal': 'panjab'}\n"
     ]
    }
   ],
   "source": [
    "dictionary1={'sameer':'mcs','pratik':'cdac','vijay':'msc'}\n",
    "dictionary2={'namaskar':'maharashtra','kemcho':'gujarat','sasriyakal':'panjab'}\n",
    "dictionary1.update(dictionary2)                                                #update method used to extends the dicitonary and concat new dictioary to it\n",
    "print(dictionary1)\n"
   ]
  },
  {
   "cell_type": "code",
   "execution_count": 27,
   "metadata": {},
   "outputs": [
    {
     "name": "stdout",
     "output_type": "stream",
     "text": [
      "{1: 'one', 2: 'two', 3: {11: 'eleven', 12: 'twele'}}\n"
     ]
    }
   ],
   "source": [
    "orignal={1:'one',2:'two'}\n",
    "new={11:'eleven',12:'twele'}\n",
    "orignal[len(orignal)+1]=new    #appending at index posistion len(orignal+1)\n",
    "print(orignal)"
   ]
  },
  {
   "cell_type": "markdown",
   "metadata": {},
   "source": [
    "### Write a program to check the given key exits in dictionary or not"
   ]
  },
  {
   "cell_type": "code",
   "execution_count": 59,
   "metadata": {},
   "outputs": [
    {
     "name": "stdout",
     "output_type": "stream",
     "text": [
      "Enter key:one\n",
      "Key present\n",
      "True\n"
     ]
    }
   ],
   "source": [
    "dic={'one':1,'two':2}\n",
    "key=input('Enter key:')\n",
    "if key in dic.keys():                 #dic.keys() returns the list of keys present in dic and we are checking if key in(present in ) dic.keys or not if yes print Key present or print Key no found\n",
    "    print('Key present')\n",
    "else:\n",
    "    print('Key not found')"
   ]
  },
  {
   "cell_type": "markdown",
   "metadata": {},
   "source": [
    "### v.1.1 using the enumeration "
   ]
  },
  {
   "cell_type": "code",
   "execution_count": 41,
   "metadata": {},
   "outputs": [
    {
     "name": "stdout",
     "output_type": "stream",
     "text": [
      "enter key:one\n",
      "Key present\n",
      "one number\n"
     ]
    }
   ],
   "source": [
    "dic={'one':'one number','two':'two number'}\n",
    "key=input('enter key:')\n",
    "\n",
    "'''enumerate function returns index value pair in our dictionary we have not given index as 0,1,2 so it will \n",
    "   automatically asign indexes to dic element and return index in k and value will return one two etc'''\n",
    "for k,value in enumerate(dic):        #enumerate function returns the index value pair \n",
    "    if value==key:\n",
    "        print(\"Key present\")\n",
    "        #print(dic[value])            #if we want to get the value of the value"
   ]
  },
  {
   "cell_type": "markdown",
   "metadata": {},
   "source": [
    "### V.1.2 Use in member ship operator"
   ]
  },
  {
   "cell_type": "code",
   "execution_count": 64,
   "metadata": {},
   "outputs": [
    {
     "name": "stdout",
     "output_type": "stream",
     "text": [
      "Enter key to search in dictionaryking\n",
      "True\n"
     ]
    }
   ],
   "source": [
    "dic={'one':'one number','king':'lion','national animal':'tiger'}\n",
    "key=input('Enter key to search in dictionary')\n",
    "print(key in dic)\n",
    "#print(dic.get(key))       #use get method to get value for passed key if key is not present it will return None"
   ]
  },
  {
   "cell_type": "markdown",
   "metadata": {},
   "source": [
    "### Write a program to generate a dictionary that contains number between(1,n) in form (x,x*x)\n",
    "### V.1.0 Using for loop and update method"
   ]
  },
  {
   "cell_type": "code",
   "execution_count": 156,
   "metadata": {},
   "outputs": [
    {
     "name": "stdout",
     "output_type": "stream",
     "text": [
      "Enter value of n:4\n",
      "{1: 1, 2: 4, 3: 9}\n"
     ]
    }
   ],
   "source": [
    "n=int(input('Enter value of n:'))         #get the number from user as end point of the dictionary key\n",
    "dic={}                                    #declare the empty list to store x and its square x as key\n",
    "for x in range(1,n):                        #iterate the x from 1 to n \n",
    "    dic.update({x:x*x})                   #update the string add new element x as key x*x as value\n",
    "print(dic)                                #print the dic"
   ]
  },
  {
   "cell_type": "markdown",
   "metadata": {},
   "source": [
    "### V.1.1 Using comprehension"
   ]
  },
  {
   "cell_type": "code",
   "execution_count": 52,
   "metadata": {},
   "outputs": [
    {
     "name": "stdout",
     "output_type": "stream",
     "text": [
      "Enter number of element:5\n",
      "{0: 0, 1: 1, 2: 4, 3: 9, 4: 16}\n"
     ]
    }
   ],
   "source": [
    "n=int(input('Enter number of element:'))   #get the n value as end index of dic\n",
    "dic={x:x*x for x in range(1,n)}              # {} indicating that it will return dictionary x:x*x get from for loop which iterate from 1 to n \n",
    "print(dic)                                 #print the dic"
   ]
  },
  {
   "cell_type": "markdown",
   "metadata": {},
   "source": [
    "### V.1.2 Using Map and Lambda"
   ]
  },
  {
   "cell_type": "code",
   "execution_count": 74,
   "metadata": {},
   "outputs": [
    {
     "name": "stdout",
     "output_type": "stream",
     "text": [
      "trying will try again\n"
     ]
    }
   ],
   "source": [
    "print('trying will try again')"
   ]
  },
  {
   "cell_type": "markdown",
   "metadata": {},
   "source": [
    "### Write a program to print sum of all elements"
   ]
  },
  {
   "cell_type": "code",
   "execution_count": 79,
   "metadata": {},
   "outputs": [
    {
     "name": "stdout",
     "output_type": "stream",
     "text": [
      "122\n"
     ]
    }
   ],
   "source": [
    "element_dic={0:22,1:44,2:56}       #sample array which contains number as element\n",
    "sum=0                              #sum variable which store addition of elements\n",
    "for x in element_dic.keys():       #get the key from elemenet_dic the .keys() method returns the list of keys in element_dic\n",
    "    sum=sum+element_dic.get(x)     #get the element from the dictionary using the key the get function return the value for key in dictionary\n",
    "print(sum)                         #print the sum"
   ]
  },
  {
   "cell_type": "markdown",
   "metadata": {},
   "source": [
    "### Write a progam to print all elements in dictionary"
   ]
  },
  {
   "cell_type": "code",
   "execution_count": 157,
   "metadata": {},
   "outputs": [
    {
     "name": "stdout",
     "output_type": "stream",
     "text": [
      "500\n"
     ]
    }
   ],
   "source": [
    "mul_dir={'one':1,'fifty':50,'ten':10}  #sample array containing numbers for multiplication\n",
    "mul=1                                  #variable mul initialize to 1 so mul get multiply with values of dictionary\n",
    "for x in mul_dir.keys():               #for loop will execute and get one by one key from mul_dir dictionary \n",
    "    mul=mul*mul_dir.get(x)             #get the value for the key using get() method and store the multiplication mul\n",
    "print(mul)                             #print the multiplicaton"
   ]
  },
  {
   "cell_type": "markdown",
   "metadata": {},
   "source": [
    "### Write a program to remove given key from the dictionary\n",
    "### V.1.0 Using pop function which removes the key value pair on basis of key provided if key not passed then remove last inserted element by default"
   ]
  },
  {
   "cell_type": "code",
   "execution_count": 158,
   "metadata": {},
   "outputs": [
    {
     "name": "stdout",
     "output_type": "stream",
     "text": [
      "Enter key:onw\n",
      "Key is not present in the dictionary\n"
     ]
    }
   ],
   "source": [
    "sample_dictionary={'one':1,'two':2,'three':3}      #sample dictionary for the removal of key value form dictionary\n",
    "key=input('Enter key:')                            #get the key from user to remove from sample_dictionary\n",
    "if key in sample_dictionary:                       #check if the key is present the dictionary or not if present\n",
    "    sample_dictionary.pop(key)                     #remove the key value pair using pop method which takes key as argument\n",
    "    print('Dictionary after removing key:{0}'.format(sample_dictionary))#print the sample_dictionary after removal \n",
    "else:                                              #if key is not present in dictionary\n",
    "    print('Key is not present in the dictionary')  #then print the message"
   ]
  },
  {
   "cell_type": "markdown",
   "metadata": {},
   "source": [
    "### V.1.1 Using usual for loop"
   ]
  },
  {
   "cell_type": "code",
   "execution_count": 107,
   "metadata": {},
   "outputs": [
    {
     "name": "stdout",
     "output_type": "stream",
     "text": [
      "Enter key to remove:one\n",
      "Updated dictionary is:{'two': 2, 'three': 3}\n"
     ]
    }
   ],
   "source": [
    "new_dic={}                                          #declaring dictionary which will store all values other than key enter by user and its value\n",
    "key=input('Enter key to remove:')                   #get the key as input from user\n",
    "if key in sample_dictionary:                        #check if key is present in dictionary or not if yes\n",
    "    for k,value in enumerate(sample_dictionary):    #get the key ,value from sample_dictionary using enumerate function which return index and value \n",
    "        if value==key:                              #if key == value note we are not doing key==key becuase k contains the index of the element in dicaionry and value contains the key of the element so we are checking key==value\n",
    "            continue                                #if key==value then skip that element\n",
    "        else:                                       #if key!=value then\n",
    "            new_dic.update({value:sample_dictionary.get(value)}) #add the key and its value to the new_dic\n",
    "    print(\"Updated dictionary is:{0}\".format(new_dic)) #print the dictionary after all the elements in the dictionary\n",
    "else:                                                #if key is not present in present in list then\n",
    "    print('Key is not present in dictionary')        #print the message\n"
   ]
  },
  {
   "cell_type": "markdown",
   "metadata": {},
   "source": [
    "### Write a program to form a dictionary from an object of classes"
   ]
  },
  {
   "cell_type": "code",
   "execution_count": 110,
   "metadata": {},
   "outputs": [
    {
     "name": "stdout",
     "output_type": "stream",
     "text": [
      "will do it latter didn't understand the problem defination\n"
     ]
    }
   ],
   "source": [
    "print(\"will do it latter didn't understand the problem defination\")"
   ]
  },
  {
   "cell_type": "markdown",
   "metadata": {},
   "source": [
    "### Write a program to map a two lists into dictionary"
   ]
  },
  {
   "cell_type": "code",
   "execution_count": 128,
   "metadata": {},
   "outputs": [
    {
     "name": "stdout",
     "output_type": "stream",
     "text": [
      "{1: 'one', 2: 'two', 3: 'three', 4: 'four'}\n"
     ]
    }
   ],
   "source": [
    "list1=[1,2,3,4]                            #declaring first list\n",
    "list2=['one','two','three','four']         #declaring second list\n",
    "dictionary={}                              #declare empty dictionary for storing the key value pair key form list1 and vlaue from list2\n",
    "if len(list1)==len(list2):                 #check if length of both list are same if yes then\n",
    "    for x in range(len(list1)):            #starts iteration form 0 to len(list1)             \n",
    "        dictionary.update({list1[x]:list2[x]}) #update the dictionary and add list[x] as key and list2[x] as value\n",
    "    print(dictionary)                       #print the dictionary\n",
    "else:\n",
    "    print('length of both lists must be same so that every key got value')"
   ]
  },
  {
   "cell_type": "code",
   "execution_count": 136,
   "metadata": {},
   "outputs": [
    {
     "name": "stdout",
     "output_type": "stream",
     "text": [
      "{1: 6, 2: 7, 3: 8, 4: 9, 5: 10}\n"
     ]
    }
   ],
   "source": [
    "list1=[1,2,3,4,5]\n",
    "list2=[6,7,8,9,10]\n",
    "list3=dict(zip(list1,list2))     #zip function is function used to concat the two list and convert it into given data structiure\n",
    "print(list3)"
   ]
  },
  {
   "cell_type": "markdown",
   "metadata": {},
   "source": [
    "### Write a program to count frequecy of words appering into string using dictionary"
   ]
  },
  {
   "cell_type": "code",
   "execution_count": 159,
   "metadata": {},
   "outputs": [
    {
     "name": "stdout",
     "output_type": "stream",
     "text": [
      "Enter any string:sammer shinde\n",
      "{'sammer': 1, 'shinde': 1}\n"
     ]
    }
   ],
   "source": [
    "string=input('Enter any string:')           #get the input string from user\n",
    "l=string.split()                            #create the list from the string using split() method\n",
    "frequancy_count_dic={}                      #declare empty frequancy_count_dic for storing the word as key and its number of occurance as value\n",
    "for x in l:                                 #for loop for getting one by one element from l\n",
    "    if x not in frequancy_count_dic:        #check if the x is not present in frequancy_count_dic dictionary if not present then\n",
    "        frequancy_count_dic.update({x:1})   #update the dic and add element where key is x and this is its first occurnace so value is 1\n",
    "    else:                                   #if x is already present in dic\n",
    "        val=frequancy_count_dic.get(x)        #get function in dictionary return value using index or key\n",
    "        frequancy_count_dic[x]=val+1         #get the value for the index into val and update the value for that x incrse by 1\n",
    "print(frequancy_count_dic)                  #print the dictionary"
   ]
  },
  {
   "cell_type": "markdown",
   "metadata": {},
   "source": [
    "###  Write a program to create a dictionary with key as first character and value as words starting with that character"
   ]
  },
  {
   "cell_type": "code",
   "execution_count": 155,
   "metadata": {},
   "outputs": [
    {
     "name": "stdout",
     "output_type": "stream",
     "text": [
      "Enter string:ram ram pahune how are you all\n",
      "{'r': ['ram', 'ram'], 'p': ['pahune'], 'h': ['how'], 'a': ['are', 'all'], 'y': ['you']}\n"
     ]
    }
   ],
   "source": [
    "string=input('Enter string:')   #get the input string from user\n",
    "string_list=string.split()      #split the input string into list of words using split() function\n",
    "words_dic={}                    #declare the empty dictionary for storing the list of words starting with its inital latter\n",
    "for x in string_list:           #iterate the string_list one by one element\n",
    "    if x[0] not in words_dic:   #check if the initial latter of x is in words_dic or not if no then \n",
    "        words_dic[x[0]]=[]      #create a new element in words_dir having key x[0] and value is initlized empty list\n",
    "        words_dic[x[0]].append(x)#and append the word to that empty list having key x[0]\n",
    "    else:                        #if the x[0] key is already present in words_dic then just append word to list having index x[0]\n",
    "        words_dic[x[0]].append(x)\n",
    "print(words_dic)                #print the words_dic wihch contains inital character as index and words as values"
   ]
  },
  {
   "cell_type": "code",
   "execution_count": null,
   "metadata": {},
   "outputs": [],
   "source": []
  }
 ],
 "metadata": {
  "kernelspec": {
   "display_name": "Python 3",
   "language": "python",
   "name": "python3"
  },
  "language_info": {
   "codemirror_mode": {
    "name": "ipython",
    "version": 3
   },
   "file_extension": ".py",
   "mimetype": "text/x-python",
   "name": "python",
   "nbconvert_exporter": "python",
   "pygments_lexer": "ipython3",
   "version": "3.9.0"
  }
 },
 "nbformat": 4,
 "nbformat_minor": 4
}
