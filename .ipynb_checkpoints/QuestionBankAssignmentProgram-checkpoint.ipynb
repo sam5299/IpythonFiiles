{
 "cells": [
  {
   "cell_type": "markdown",
   "metadata": {},
   "source": [
    "### Create tuple litral \n",
    "### Tupple litral can be cerated using the () bracket in which data is enclosed or using tuple() constructor we can create the tuple litral\n",
    "### Tuple can hold differnt data type\n",
    "### Tuple is immutable that means we cannot modify contains of tupple\n",
    "### Tuple is orderd that means tuple data has index values starts from 0 to onwards"
   ]
  },
  {
   "cell_type": "code",
   "execution_count": 5,
   "metadata": {},
   "outputs": [
    {
     "name": "stdout",
     "output_type": "stream",
     "text": [
      "(1, 2, 'sameer', 'Learnig', 'Python', '3.5')\n"
     ]
    }
   ],
   "source": [
    "simple_tuple=(1,2,\"sameer\",'Learnig','Python','3.5')\n",
    "print(simple_tuple)"
   ]
  },
  {
   "cell_type": "code",
   "execution_count": 12,
   "metadata": {},
   "outputs": [
    {
     "name": "stdout",
     "output_type": "stream",
     "text": [
      "(1, 2, 3, 'Sameer', 3.44, True)\n",
      "<class 'int'>\n",
      "<class 'int'>\n",
      "<class 'int'>\n",
      "<class 'str'>\n",
      "<class 'float'>\n",
      "<class 'bool'>\n"
     ]
    }
   ],
   "source": [
    "tuple_constructor=tuple((1,2,3,\"Sameer\",3.44,True)) #create tuple using constructor\n",
    "print(tuple_constructor)\n",
    "for x in tuple_constructor:\n",
    "    print(type(x))"
   ]
  },
  {
   "cell_type": "code",
   "execution_count": 15,
   "metadata": {
    "scrolled": true
   },
   "outputs": [
    {
     "name": "stdout",
     "output_type": "stream",
     "text": [
      "1\n"
     ]
    },
    {
     "ename": "TypeError",
     "evalue": "'tuple' object does not support item assignment",
     "output_type": "error",
     "traceback": [
      "\u001b[1;31m---------------------------------------------------------------------------\u001b[0m",
      "\u001b[1;31mTypeError\u001b[0m                                 Traceback (most recent call last)",
      "\u001b[1;32m<ipython-input-15-e1a7075c6ff7>\u001b[0m in \u001b[0;36m<module>\u001b[1;34m\u001b[0m\n\u001b[0;32m      2\u001b[0m \u001b[0msample_tuple\u001b[0m\u001b[1;33m=\u001b[0m\u001b[1;33m(\u001b[0m\u001b[1;36m1\u001b[0m\u001b[1;33m,\u001b[0m\u001b[1;36m2\u001b[0m\u001b[1;33m,\u001b[0m\u001b[1;36m3\u001b[0m\u001b[1;33m,\u001b[0m\u001b[1;36m4\u001b[0m\u001b[1;33m,\u001b[0m\u001b[1;36m5\u001b[0m\u001b[1;33m)\u001b[0m\u001b[1;33m\u001b[0m\u001b[1;33m\u001b[0m\u001b[0m\n\u001b[0;32m      3\u001b[0m \u001b[0mprint\u001b[0m\u001b[1;33m(\u001b[0m\u001b[0msample_tuple\u001b[0m\u001b[1;33m[\u001b[0m\u001b[1;36m0\u001b[0m\u001b[1;33m]\u001b[0m\u001b[1;33m)\u001b[0m\u001b[1;33m\u001b[0m\u001b[1;33m\u001b[0m\u001b[0m\n\u001b[1;32m----> 4\u001b[1;33m \u001b[0msample_tuple\u001b[0m\u001b[1;33m[\u001b[0m\u001b[1;36m0\u001b[0m\u001b[1;33m]\u001b[0m\u001b[1;33m=\u001b[0m\u001b[1;36m10\u001b[0m         \u001b[1;31m#this will generate an error TypeError: 'tuple' object does not support item assignment\u001b[0m\u001b[1;33m\u001b[0m\u001b[1;33m\u001b[0m\u001b[0m\n\u001b[0m",
      "\u001b[1;31mTypeError\u001b[0m: 'tuple' object does not support item assignment"
     ]
    }
   ],
   "source": [
    "#try to update tuple\n",
    "sample_tuple=(1,2,3,4,5)\n",
    "print(sample_tuple[0])\n",
    "sample_tuple[0]=10         #this will generate an error TypeError: 'tuple' object does not support item assignment"
   ]
  },
  {
   "cell_type": "code",
   "execution_count": 16,
   "metadata": {},
   "outputs": [
    {
     "name": "stdout",
     "output_type": "stream",
     "text": [
      "1\n",
      "2\n",
      "3\n",
      "4\n",
      "5\n",
      "6\n",
      "7\n",
      "8\n",
      "9\n"
     ]
    }
   ],
   "source": [
    "#use tupple in for loop directly\n",
    "for x in tuple(range(1,10)): #create a tuple of range 1 to 10 \n",
    "    print(x)"
   ]
  },
  {
   "cell_type": "code",
   "execution_count": 53,
   "metadata": {},
   "outputs": [
    {
     "name": "stdout",
     "output_type": "stream",
     "text": [
      "Enter number of element in tuple:5\n",
      "4\n"
     ]
    }
   ],
   "source": [
    "n=int(input('Enter number of element in tuple:'))\n",
    "s_tuple=(1,2,3,4)\n",
    "print(s_tuple[-1])  #negative index also works in tuple "
   ]
  },
  {
   "cell_type": "code",
   "execution_count": 21,
   "metadata": {},
   "outputs": [
    {
     "name": "stdout",
     "output_type": "stream",
     "text": [
      "(4, 'Sameer')\n"
     ]
    }
   ],
   "source": [
    "#tuple slicing\n",
    "x_tuple=(1,2,3,4,'Sameer','Loves',\"cats\")\n",
    "new_tuple=x_tuple[3:5]                    #sliciing\n",
    "print(new_tuple)"
   ]
  },
  {
   "cell_type": "code",
   "execution_count": 22,
   "metadata": {},
   "outputs": [
    {
     "name": "stdout",
     "output_type": "stream",
     "text": [
      "('cats', 'Loves', 'Sameer', 4, 3, 2, 1)\n"
     ]
    }
   ],
   "source": [
    "reverse_tuple=x_tuple[::-1] #reverse slicing\n",
    "print(reverse_tuple)"
   ]
  },
  {
   "cell_type": "code",
   "execution_count": 30,
   "metadata": {},
   "outputs": [
    {
     "name": "stdout",
     "output_type": "stream",
     "text": [
      "('cats', 'Loves', 'Sameer')\n"
     ]
    }
   ],
   "source": [
    "some_tuple=x_tuple[-1:3:-1] #postive negative slicing start from -1 index and till 3 index in -1 means reverse order\n",
    "print(some_tuple)"
   ]
  },
  {
   "cell_type": "code",
   "execution_count": 34,
   "metadata": {},
   "outputs": [
    {
     "name": "stdout",
     "output_type": "stream",
     "text": [
      "('Sameer', 'Loves', 'cats')\n"
     ]
    }
   ],
   "source": [
    "#using filter function in map lambda\n",
    "lambda_tuple=tuple(filter(lambda x:type(x)==type(\"\"),x_tuple)) #filter only that values form tuple which has datatype class str\n",
    "print(lambda_tuple)"
   ]
  },
  {
   "cell_type": "code",
   "execution_count": 39,
   "metadata": {},
   "outputs": [
    {
     "name": "stdout",
     "output_type": "stream",
     "text": [
      "('1Sameer', '2Ramesh', '3shinde', '4Sakarwadi', '5Kopargaon')\n"
     ]
    }
   ],
   "source": [
    "x_tuple=(1,2,3,4,5)\n",
    "y_tuple=('Sameer',\"Ramesh\",\"shinde\",'Sakarwadi',\"Kopargaon\")\n",
    "new_tuple=tuple(map(lambda x,y:str(x)+y,x_tuple,y_tuple))    #map the vales of x_tuple and y_tuple and attach it\n",
    "print(new_tuple)"
   ]
  },
  {
   "cell_type": "code",
   "execution_count": 45,
   "metadata": {},
   "outputs": [
    {
     "name": "stdout",
     "output_type": "stream",
     "text": [
      "16\n"
     ]
    }
   ],
   "source": [
    "from functools import reduce\n",
    "num1_tuple=(2,2,3,4,5)\n",
    "num2_tuple=tuple((1,2,3,4,5))\n",
    "reduced_tuple=(reduce(lambda x,y:x+y,num1_tuple))\n",
    "print(reduced_tuple)"
   ]
  },
  {
   "cell_type": "markdown",
   "metadata": {},
   "source": [
    "### How lists are different from tuple\n",
    "### The biggest difference between list and tuple is lists are mutable and tuples are immutable\n",
    "### The second difference is that the lists has dynamic size it can be extends as we append new element but the tuple size is static it stores only element which we have inserted at the time of initilization further modifications are not possible"
   ]
  },
  {
   "cell_type": "code",
   "execution_count": 46,
   "metadata": {},
   "outputs": [
    {
     "name": "stdout",
     "output_type": "stream",
     "text": [
      "[1, 2, 3, 4, 'Sameer']\n",
      "[1, 2, 'new element', 4, 'Sameer']\n"
     ]
    }
   ],
   "source": [
    "list_exe=[1,2,3,4,'Sameer']\n",
    "print(list_exe)\n",
    "list_exe[2]=\"new element\"    #<-- This statement is invalid in tuple that the we cannot modify the values once inserted\n",
    "print(list_exe)"
   ]
  },
  {
   "cell_type": "code",
   "execution_count": 51,
   "metadata": {},
   "outputs": [
    {
     "ename": "SyntaxError",
     "evalue": "invalid syntax (<ipython-input-51-f73039cc5264>, line 2)",
     "output_type": "error",
     "traceback": [
      "\u001b[1;36m  File \u001b[1;32m\"<ipython-input-51-f73039cc5264>\"\u001b[1;36m, line \u001b[1;32m2\u001b[0m\n\u001b[1;33m    temp_exe[1:4]=range(10,13)   <-- Slicing the list and assigning new value in range\u001b[0m\n\u001b[1;37m                                             ^\u001b[0m\n\u001b[1;31mSyntaxError\u001b[0m\u001b[1;31m:\u001b[0m invalid syntax\n"
     ]
    }
   ],
   "source": [
    "temp_exe=[1,2,3,4,5,6]\n",
    "temp_exe[1:4]=range(10,13)   #<-- Slicing the list and assigning new value in range\n",
    "print(temp_exe)"
   ]
  },
  {
   "cell_type": "markdown",
   "metadata": {},
   "source": [
    "### Slcing of the list"
   ]
  },
  {
   "cell_type": "code",
   "execution_count": 69,
   "metadata": {},
   "outputs": [
    {
     "name": "stdout",
     "output_type": "stream",
     "text": [
      "[1, 2]\n",
      "[5, True]\n",
      "[2, 3, 'Sameer', 'Shinde', 7.5, 11, 5]\n",
      "[True, 5, 11, 7.5, 'Shinde', 'Sameer', 3, 2, 1]\n",
      "[7.5, 11]\n"
     ]
    }
   ],
   "source": [
    "temp_list=[1,2,3,'Sameer','Shinde',7.5,11,5,True]\n",
    "first_two=temp_list[:2]\n",
    "print(first_two)\n",
    "last_tow=temp_list[-2::]\n",
    "print(last_tow)\n",
    "middle_list=temp_list[1:len(temp_list)-1]\n",
    "print(middle_list)\n",
    "reverse_slice=temp_list[::-1]\n",
    "print(reverse_slice)\n",
    "negative_slicing=temp_list[-4:-2] #getting element from -4 index to -2 index\n",
    "print(negative_slicing)"
   ]
  },
  {
   "cell_type": "code",
   "execution_count": 94,
   "metadata": {},
   "outputs": [
    {
     "name": "stdout",
     "output_type": "stream",
     "text": [
      "2021-01-05\n",
      "2021-01-05 11:18:20.206930\n",
      "Tue Jan  5 11:18:20 2021\n"
     ]
    }
   ],
   "source": [
    "from datetime import datetime\n",
    "today=date.today()\n",
    "print(today)\n",
    "print(datetime.now())#get both date and time time along with hrs min sec and milisec\n",
    "print(datetime.ctime(datetime.now())) #return the date in string literral return day month and date and time"
   ]
  },
  {
   "cell_type": "markdown",
   "metadata": {},
   "source": [
    "### While loop with break and continue statement "
   ]
  },
  {
   "cell_type": "code",
   "execution_count": 6,
   "metadata": {},
   "outputs": [
    {
     "name": "stdout",
     "output_type": "stream",
     "text": [
      "Iteration number:0\n",
      "Iteration number:1\n",
      "Iteration number:2\n",
      "Iteration number:3\n",
      "Iteration number:4\n",
      "Iteration number:6\n"
     ]
    }
   ],
   "source": [
    "x=0\n",
    "while x<10:\n",
    "    if x==7:\n",
    "        break\n",
    "    elif x==5:\n",
    "        x+=1\n",
    "        continue\n",
    "    else:\n",
    "        print('Iteration number:{0}'.format(x))\n",
    "    x+=1"
   ]
  },
  {
   "cell_type": "markdown",
   "metadata": {},
   "source": [
    "### Selection sort"
   ]
  },
  {
   "cell_type": "code",
   "execution_count": 3,
   "metadata": {},
   "outputs": [
    {
     "name": "stdout",
     "output_type": "stream",
     "text": [
      "Enter number of element in list:3\n",
      "22\n",
      "11\n",
      "5\n",
      "[5, 11, 22]\n"
     ]
    }
   ],
   "source": [
    "n=int(input('Enter number of element in list:'))\n",
    "l=[]\n",
    "for x in range(0,n):\n",
    "    l.append(int(input()))\n",
    "for i in range(0,len(l)):\n",
    "    temp=i\n",
    "    for j in range(i+1,len(l)):\n",
    "        if l[temp]>l[j]:\n",
    "            temp=j\n",
    "    l[i],l[temp]=l[temp],l[i]\n",
    "print(l)"
   ]
  },
  {
   "cell_type": "code",
   "execution_count": null,
   "metadata": {},
   "outputs": [],
   "source": []
  }
 ],
 "metadata": {
  "kernelspec": {
   "display_name": "Python 3",
   "language": "python",
   "name": "python3"
  },
  "language_info": {
   "codemirror_mode": {
    "name": "ipython",
    "version": 3
   },
   "file_extension": ".py",
   "mimetype": "text/x-python",
   "name": "python",
   "nbconvert_exporter": "python",
   "pygments_lexer": "ipython3",
   "version": "3.9.0"
  }
 },
 "nbformat": 4,
 "nbformat_minor": 4
}
