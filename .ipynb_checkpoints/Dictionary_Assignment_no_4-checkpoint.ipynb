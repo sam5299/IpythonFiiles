{
 "cells": [
  {
   "cell_type": "markdown",
   "metadata": {},
   "source": [
    "### Write a program to add key value pair to the dictionary"
   ]
  },
  {
   "cell_type": "code",
   "execution_count": 7,
   "metadata": {},
   "outputs": [
    {
     "name": "stdout",
     "output_type": "stream",
     "text": [
      "{'Sameer': 'Mcs', 'Vijay': 'Msc'}\n",
      "{'Sameer': 'Mcs', 'Vijay': 'Msc', 'Pratik': 'CDAC'}\n"
     ]
    }
   ],
   "source": [
    "orignal_dic={'Sameer':'Mcs','Vijay':'Msc'}\n",
    "print(orignal_dic)\n",
    "orignal_dic.update({'Pratik':'CDAC'})      #update method to insert new element in existing dictionary\n",
    "print(orignal_dic)"
   ]
  },
  {
   "cell_type": "code",
   "execution_count": 13,
   "metadata": {},
   "outputs": [
    {
     "name": "stdout",
     "output_type": "stream",
     "text": [
      "{0: {'namskar': 'maharashtra'}, 1: {'kemcho': 'gujrat'}}\n",
      "{0: {'namskar': 'maharashtra'}, 1: {'kemcho': 'gujrat'}, 2: {'sasriyakal': 'panjab'}}\n"
     ]
    }
   ],
   "source": [
    "orignal_dic={0:{'namskar':'maharashtra'},1:{'kemcho':'gujrat'}}\n",
    "print(orignal_dic)\n",
    "orignal_dic[len(orignal_dic)]={'sasriyakal':'panjab'}        #adding new key value using index value \n",
    "print(orignal_dic)"
   ]
  },
  {
   "cell_type": "markdown",
   "metadata": {},
   "source": [
    "### Write a program to concatinate two dictionary into one"
   ]
  },
  {
   "cell_type": "code",
   "execution_count": 23,
   "metadata": {},
   "outputs": [
    {
     "name": "stdout",
     "output_type": "stream",
     "text": [
      "{'sameer': 'mcs', 'pratik': 'cdac', 'vijay': 'msc', 'namaskar': 'maharashtra', 'kemcho': 'gujarat', 'sasriyakal': 'panjab'}\n"
     ]
    }
   ],
   "source": [
    "dictionary1={'sameer':'mcs','pratik':'cdac','vijay':'msc'}\n",
    "dictionary2={'namaskar':'maharashtra','kemcho':'gujarat','sasriyakal':'panjab'}\n",
    "dictionary1.update(dictionary2)                                                #update method used to extends the dicitonary and concat new dictioary to it\n",
    "print(dictionary1)\n"
   ]
  },
  {
   "cell_type": "code",
   "execution_count": 27,
   "metadata": {},
   "outputs": [
    {
     "name": "stdout",
     "output_type": "stream",
     "text": [
      "{1: 'one', 2: 'two', 3: {11: 'eleven', 12: 'twele'}}\n"
     ]
    }
   ],
   "source": [
    "orignal={1:'one',2:'two'}\n",
    "new={11:'eleven',12:'twele'}\n",
    "orignal[len(orignal)+1]=new    #appending at index posistion len(orignal+1)\n",
    "print(orignal)"
   ]
  },
  {
   "cell_type": "markdown",
   "metadata": {},
   "source": [
    "### Write a program to check the given key exits in dictionary or not"
   ]
  },
  {
   "cell_type": "code",
   "execution_count": 59,
   "metadata": {},
   "outputs": [
    {
     "name": "stdout",
     "output_type": "stream",
     "text": [
      "Enter key:one\n",
      "Key present\n",
      "True\n"
     ]
    }
   ],
   "source": [
    "dic={'one':1,'two':2}\n",
    "key=input('Enter key:')\n",
    "if key in dic.keys():                 #dic.keys() returns the list of keys present in dic and we are checking if key in(present in ) dic.keys or not if yes print Key present or print Key no found\n",
    "    print('Key present')\n",
    "else:\n",
    "    print('Key not found')"
   ]
  },
  {
   "cell_type": "markdown",
   "metadata": {},
   "source": [
    "### v.1.1 using the enumeration "
   ]
  },
  {
   "cell_type": "code",
   "execution_count": 41,
   "metadata": {},
   "outputs": [
    {
     "name": "stdout",
     "output_type": "stream",
     "text": [
      "enter key:one\n",
      "Key present\n",
      "one number\n"
     ]
    }
   ],
   "source": [
    "dic={'one':'one number','two':'two number'}\n",
    "key=input('enter key:')\n",
    "\n",
    "'''enumerate function returns index value pair in our dictionary we have not given index as 0,1,2 so it will \n",
    "   automatically asign indexes to dic element and return index in k and value will return one two etc'''\n",
    "for k,value in enumerate(dic):        #enumerate function returns the index value pair \n",
    "    if value==key:\n",
    "        print(\"Key present\")\n",
    "        #print(dic[value])            #if we want to get the value of the value"
   ]
  },
  {
   "cell_type": "markdown",
   "metadata": {},
   "source": [
    "### V.1.2 Use in member ship operator"
   ]
  },
  {
   "cell_type": "code",
   "execution_count": 64,
   "metadata": {},
   "outputs": [
    {
     "name": "stdout",
     "output_type": "stream",
     "text": [
      "Enter key to search in dictionaryking\n",
      "True\n"
     ]
    }
   ],
   "source": [
    "dic={'one':'one number','king':'lion','national animal':'tiger'}\n",
    "key=input('Enter key to search in dictionary')\n",
    "print(key in dic)\n",
    "#print(dic.get(key))       #use get method to get value for passed key if key is not present it will return None"
   ]
  },
  {
   "cell_type": "markdown",
   "metadata": {},
   "source": [
    "### Write a program to generate a dictionary that contains number between(1,n) in form (x,x*x)\n",
    "### V.1.0 Using for loop and update method"
   ]
  },
  {
   "cell_type": "code",
   "execution_count": 44,
   "metadata": {},
   "outputs": [
    {
     "name": "stdout",
     "output_type": "stream",
     "text": [
      "Enter value of n:10\n",
      "{0: 0, 1: 1, 2: 4, 3: 9, 4: 16, 5: 25, 6: 36, 7: 49, 8: 64, 9: 81}\n"
     ]
    }
   ],
   "source": [
    "n=int(input('Enter value of n:'))\n",
    "dic={}\n",
    "for x in range(n):\n",
    "    dic.update({x:x*x})\n",
    "print(dic)"
   ]
  },
  {
   "cell_type": "markdown",
   "metadata": {},
   "source": [
    "### V.1.1 Using comprehension"
   ]
  },
  {
   "cell_type": "code",
   "execution_count": 52,
   "metadata": {},
   "outputs": [
    {
     "name": "stdout",
     "output_type": "stream",
     "text": [
      "Enter number of element:5\n",
      "{0: 0, 1: 1, 2: 4, 3: 9, 4: 16}\n"
     ]
    }
   ],
   "source": [
    "n=int(input('Enter number of element:'))\n",
    "dic={x:x*x for x in range(n)}\n",
    "print(dic)"
   ]
  },
  {
   "cell_type": "markdown",
   "metadata": {},
   "source": [
    "### V.1.2 Using Map and Lambda"
   ]
  },
  {
   "cell_type": "code",
   "execution_count": 74,
   "metadata": {},
   "outputs": [
    {
     "name": "stdout",
     "output_type": "stream",
     "text": [
      "trying will try again\n"
     ]
    }
   ],
   "source": [
    "print('trying will try again')"
   ]
  },
  {
   "cell_type": "markdown",
   "metadata": {},
   "source": [
    "### Write a program to print sum of all elements"
   ]
  },
  {
   "cell_type": "code",
   "execution_count": 79,
   "metadata": {},
   "outputs": [
    {
     "name": "stdout",
     "output_type": "stream",
     "text": [
      "122\n"
     ]
    }
   ],
   "source": [
    "element_dic={0:22,1:44,2:56}\n",
    "sum=0\n",
    "for x in element_dic.keys():\n",
    "    sum=sum+element_dic.get(x)\n",
    "print(sum)"
   ]
  },
  {
   "cell_type": "markdown",
   "metadata": {},
   "source": [
    "### Write a progam to print all elements in dictionary"
   ]
  },
  {
   "cell_type": "code",
   "execution_count": 94,
   "metadata": {},
   "outputs": [
    {
     "name": "stdout",
     "output_type": "stream",
     "text": [
      "500\n"
     ]
    }
   ],
   "source": [
    "mul_dir={'one':1,'fifty':50,'ten':10}\n",
    "mul=1\n",
    "for x in mul_dir.keys():\n",
    "    mul=mul*mul_dir.get(x)\n",
    "print(mul)"
   ]
  },
  {
   "cell_type": "markdown",
   "metadata": {},
   "source": [
    "### Write a program to remove given key from the dictionary\n",
    "### V.1.0 Using pop function which removes the key value pair on basis of key provided if key not passed then remove last inserted element by default"
   ]
  },
  {
   "cell_type": "code",
   "execution_count": 101,
   "metadata": {},
   "outputs": [
    {
     "name": "stdout",
     "output_type": "stream",
     "text": [
      "Enter key:four\n",
      "Key is not present in the dictionary\n"
     ]
    }
   ],
   "source": [
    "sample_dictionary={'one':1,'two':2,'three':3}\n",
    "key=input('Enter key:')\n",
    "if key in sample_dictionary:\n",
    "    sample_dictionary.pop(key)\n",
    "    print('Dictionary after removing key:{0}'.format(sample_dictionary))\n",
    "else:\n",
    "    print('Key is not present in the dictionary')"
   ]
  },
  {
   "cell_type": "markdown",
   "metadata": {},
   "source": [
    "### V.1.1 Using usual for loop"
   ]
  },
  {
   "cell_type": "code",
   "execution_count": 107,
   "metadata": {},
   "outputs": [
    {
     "name": "stdout",
     "output_type": "stream",
     "text": [
      "Enter key to remove:one\n",
      "Updated dictionary is:{'two': 2, 'three': 3}\n"
     ]
    }
   ],
   "source": [
    "new_dic={}\n",
    "key=input('Enter key to remove:')\n",
    "if key in sample_dictionary:\n",
    "    for k,value in enumerate(sample_dictionary):\n",
    "        if value==key:\n",
    "            continue\n",
    "        else:\n",
    "            new_dic.update({value:sample_dictionary.get(value)})\n",
    "    print(\"Updated dictionary is:{0}\".format(new_dic))\n",
    "else:\n",
    "    print('Key is not present in dictionary')\n"
   ]
  },
  {
   "cell_type": "markdown",
   "metadata": {},
   "source": [
    "### Write a program to form a dictionary from an object of classes"
   ]
  },
  {
   "cell_type": "code",
   "execution_count": 110,
   "metadata": {},
   "outputs": [
    {
     "name": "stdout",
     "output_type": "stream",
     "text": [
      "will do it latter didn't understand the problem defination\n"
     ]
    }
   ],
   "source": [
    "print(\"will do it latter didn't understand the problem defination\")"
   ]
  },
  {
   "cell_type": "markdown",
   "metadata": {},
   "source": [
    "### Write a program to map a two lists into dictionary"
   ]
  },
  {
   "cell_type": "code",
   "execution_count": 128,
   "metadata": {},
   "outputs": [
    {
     "name": "stdout",
     "output_type": "stream",
     "text": [
      "{1: 'one', 2: 'two', 3: 'three', 4: 'four'}\n"
     ]
    }
   ],
   "source": [
    "list1=[1,2,3,4]\n",
    "list2=['one','two','three','four']\n",
    "dictionary={}\n",
    "for x in range(len(list1)):\n",
    "    dictionary.update({list1[x]:list2[x]})\n",
    "print(dictionary)"
   ]
  },
  {
   "cell_type": "code",
   "execution_count": 136,
   "metadata": {},
   "outputs": [
    {
     "name": "stdout",
     "output_type": "stream",
     "text": [
      "{1: 6, 2: 7, 3: 8, 4: 9, 5: 10}\n"
     ]
    }
   ],
   "source": [
    "list1=[1,2,3,4,5]\n",
    "list2=[6,7,8,9,10]\n",
    "list3=dict(zip(list1,list2))     #zip function is function used to concat the two list and convert it into given data structiure\n",
    "print(list3)"
   ]
  },
  {
   "cell_type": "markdown",
   "metadata": {},
   "source": [
    "### Write a program to count frequecy of words appering into string using dictionary"
   ]
  },
  {
   "cell_type": "code",
   "execution_count": 141,
   "metadata": {},
   "outputs": [
    {
     "name": "stdout",
     "output_type": "stream",
     "text": [
      "Enter any string:hii hello hii hello\n",
      "{'hii': 2, 'hello': 2}\n"
     ]
    }
   ],
   "source": [
    "string=input('Enter any string:')\n",
    "l=string.split()\n",
    "frequancy_count_dic={}\n",
    "for x in l:\n",
    "    if x not in frequancy_count_dic:\n",
    "        frequancy_count_dic.update({x:1})\n",
    "    else:\n",
    "        val=frequancy_count_dic.get(x)        #get function in dictionary return value using index or key\n",
    "        frequancy_count_dic[x]=val+1\n",
    "print(frequancy_count_dic)"
   ]
  },
  {
   "cell_type": "markdown",
   "metadata": {},
   "source": [
    "###  Write a program to create a dictionary with key as first character and value as words starting with that character"
   ]
  },
  {
   "cell_type": "code",
   "execution_count": 155,
   "metadata": {},
   "outputs": [
    {
     "name": "stdout",
     "output_type": "stream",
     "text": [
      "Enter string:ram ram pahune how are you all\n",
      "{'r': ['ram', 'ram'], 'p': ['pahune'], 'h': ['how'], 'a': ['are', 'all'], 'y': ['you']}\n"
     ]
    }
   ],
   "source": [
    "string=input('Enter string:')   #get the input string from user\n",
    "string_list=string.split()      #split the input string into list of words using split() function\n",
    "words_dic={}                    #declare the empty dictionary for storing the list of words starting with its inital latter\n",
    "for x in string_list:           #iterate the string_list one by one element\n",
    "    if x[0] not in words_dic:   #check if the initial latter of x is in words_dic or not if no then \n",
    "        words_dic[x[0]]=[]      #create a new element in words_dir having key x[0] and value is initlized empty list\n",
    "        words_dic[x[0]].append(x)#and append the word to that empty list having key x[0]\n",
    "    else:                        #if the x[0] key is already present in words_dic then just append word to list having index x[0]\n",
    "        words_dic[x[0]].append(x)\n",
    "print(words_dic)                #print the words_dic wihch contains inital character as index and words as values"
   ]
  },
  {
   "cell_type": "code",
   "execution_count": null,
   "metadata": {},
   "outputs": [],
   "source": []
  }
 ],
 "metadata": {
  "kernelspec": {
   "display_name": "Python 3",
   "language": "python",
   "name": "python3"
  },
  "language_info": {
   "codemirror_mode": {
    "name": "ipython",
    "version": 3
   },
   "file_extension": ".py",
   "mimetype": "text/x-python",
   "name": "python",
   "nbconvert_exporter": "python",
   "pygments_lexer": "ipython3",
   "version": "3.9.0"
  }
 },
 "nbformat": 4,
 "nbformat_minor": 4
}
