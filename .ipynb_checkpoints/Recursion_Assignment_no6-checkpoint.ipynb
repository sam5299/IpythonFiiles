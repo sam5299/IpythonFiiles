{
 "cells": [
  {
   "cell_type": "markdown",
   "metadata": {},
   "source": [
    "### Python Program to Determine Whether a Given Number is Even or Odd Recursively\n",
    "### V.1.0 Using normal way if else"
   ]
  },
  {
   "cell_type": "code",
   "execution_count": 7,
   "metadata": {},
   "outputs": [
    {
     "name": "stdout",
     "output_type": "stream",
     "text": [
      "Enter the number:4\n",
      "Number is even\n"
     ]
    }
   ],
   "source": [
    "n=int(input('Enter the number:'))\n",
    "if n%2==0:\n",
    "    print('Number is even')\n",
    "else:\n",
    "    print('Number is odd')"
   ]
  },
  {
   "cell_type": "markdown",
   "metadata": {},
   "source": [
    "### V.1.1 Using reccursion"
   ]
  },
  {
   "cell_type": "code",
   "execution_count": 10,
   "metadata": {},
   "outputs": [
    {
     "name": "stdout",
     "output_type": "stream",
     "text": [
      "Enter the number to check even odd:5\n",
      "Number is odd\n"
     ]
    }
   ],
   "source": [
    "def evenodd(n):\n",
    "    if n<2:\n",
    "        return (n%2==0)\n",
    "    else:\n",
    "        return evenodd(n-2) #if number is even this -2 -2 will take the number upto 0 and if number is odd then this substraction call will lead to 1 so we can conculde even or odd\n",
    "n=int(input('Enter the number to check even odd:'))\n",
    "x=evenodd(n)\n",
    "if x==False:\n",
    "    print('Number is odd')\n",
    "else:\n",
    "    print('Number is even')"
   ]
  },
  {
   "cell_type": "markdown",
   "metadata": {},
   "source": [
    "### Find factorial of number\n",
    "### Using normal way"
   ]
  },
  {
   "cell_type": "code",
   "execution_count": 13,
   "metadata": {},
   "outputs": [
    {
     "name": "stdout",
     "output_type": "stream",
     "text": [
      "Enter number:4\n",
      "24\n"
     ]
    }
   ],
   "source": [
    "n=int(input('Enter number:'))\n",
    "temp=1\n",
    "for x in range(1,n+1):\n",
    "    temp=temp*x\n",
    "print(temp)"
   ]
  },
  {
   "cell_type": "markdown",
   "metadata": {},
   "source": [
    "### Using reccursion"
   ]
  },
  {
   "cell_type": "code",
   "execution_count": 10,
   "metadata": {},
   "outputs": [
    {
     "name": "stdout",
     "output_type": "stream",
     "text": [
      "720\n"
     ]
    }
   ],
   "source": [
    "def factorial(n):\n",
    "    if n==1:\n",
    "        return n\n",
    "    else:\n",
    "        return n*factorial(n-1)\n",
    "print(factorial(6))"
   ]
  },
  {
   "cell_type": "markdown",
   "metadata": {},
   "source": [
    "###### "
   ]
  },
  {
   "cell_type": "markdown",
   "metadata": {},
   "source": [
    "### Write a program to print febonnaci series upto that number\n",
    "### V.1.0 using normal way"
   ]
  },
  {
   "cell_type": "code",
   "execution_count": 4,
   "metadata": {},
   "outputs": [
    {
     "name": "stdout",
     "output_type": "stream",
     "text": [
      "Enter numb:20\n",
      "0\n",
      "1\n",
      "1\n",
      "2\n",
      "3\n",
      "5\n",
      "8\n",
      "13\n"
     ]
    }
   ],
   "source": [
    "n=int(input('Enter numb:'))\n",
    "temp1=0\n",
    "temp2=1\n",
    "while(temp1<=n):\n",
    "    print(temp1)\n",
    "    temp1,temp2=temp2,temp1+temp2"
   ]
  },
  {
   "cell_type": "markdown",
   "metadata": {},
   "source": [
    "### V.1.1 Using Reccursion"
   ]
  },
  {
   "cell_type": "code",
   "execution_count": 6,
   "metadata": {},
   "outputs": [
    {
     "name": "stdout",
     "output_type": "stream",
     "text": [
      "Enter number :10\n",
      "0\n",
      "1\n",
      "1\n",
      "2\n",
      "3\n",
      "5\n",
      "8\n"
     ]
    }
   ],
   "source": [
    "def febo(n,first,second):\n",
    "    if first<=n:\n",
    "        print(first)\n",
    "        first,second=second,first+second\n",
    "        febo(n,first,second)\n",
    "n=int(input('Enter number :'))\n",
    "febo(n,0,1)"
   ]
  },
  {
   "cell_type": "markdown",
   "metadata": {},
   "source": [
    "### Write a program to check how many times the latter occure in given string\n",
    "### V.1.0 Using count function"
   ]
  },
  {
   "cell_type": "code",
   "execution_count": 14,
   "metadata": {},
   "outputs": [
    {
     "name": "stdout",
     "output_type": "stream",
     "text": [
      "Enter string:sameer\n",
      "Enter character to search:e\n",
      "2\n"
     ]
    }
   ],
   "source": [
    "string=input(\"Enter string:\")\n",
    "char=input('Enter character to search:')\n",
    "count=string.count(char)\n",
    "print(count)"
   ]
  },
  {
   "cell_type": "markdown",
   "metadata": {},
   "source": [
    "### V.1.1 Using reccursion"
   ]
  },
  {
   "cell_type": "code",
   "execution_count": 15,
   "metadata": {
    "scrolled": true
   },
   "outputs": [
    {
     "name": "stdout",
     "output_type": "stream",
     "text": [
      "0\n",
      "1\n",
      "2\n",
      "hii\n",
      "hii\n",
      "hello\n",
      "0\n"
     ]
    }
   ],
   "source": [
    "res=0\n",
    "def charactercount(string,char,temp):\n",
    "    if char==string[temp]:\n",
    "        if temp<len(string):\n",
    "            print('hii')\n",
    "            return res+charactercount(string,char,temp+1)\n",
    "        else:\n",
    "            return res\n",
    "    else:\n",
    "        if temp<len(string)-1:\n",
    "            if temp+1<len(string):\n",
    "                print(temp)\n",
    "                return res+charactercount(string,char,temp+1)\n",
    "        else:\n",
    "            print('hello')\n",
    "            return res\n",
    "value=charactercount('sameer','e',0)\n",
    "print(value)"
   ]
  },
  {
   "cell_type": "markdown",
   "metadata": {},
   "source": [
    "### Write a program to print sum of list using reccursivly\n",
    "### V.1.0 Using reccursion"
   ]
  },
  {
   "cell_type": "code",
   "execution_count": 18,
   "metadata": {},
   "outputs": [
    {
     "name": "stdout",
     "output_type": "stream",
     "text": [
      "Enter no of element in list:4\n",
      "4\n",
      "3\n",
      "2\n",
      "1\n",
      "10\n"
     ]
    }
   ],
   "source": [
    "def countsum(lis,n,temp):\n",
    "    if n>=0:\n",
    "        return lis[n]+countsum(lis,n-1,temp)\n",
    "    else:\n",
    "        return temp\n",
    "n=int(input('Enter no of element in list:'))\n",
    "li=[]\n",
    "for x in range(0,n):\n",
    "    li.append(int(input()))\n",
    "value=countsum(li,len(li)-1,0)\n",
    "print(value)"
   ]
  },
  {
   "cell_type": "markdown",
   "metadata": {},
   "source": [
    "### Addition of list element using normal way \n",
    "### Using sum() function"
   ]
  },
  {
   "cell_type": "code",
   "execution_count": 19,
   "metadata": {},
   "outputs": [
    {
     "name": "stdout",
     "output_type": "stream",
     "text": [
      "Enter number of element:5\n",
      "5\n",
      "4\n",
      "3\n",
      "2\n",
      "1\n",
      "15\n"
     ]
    }
   ],
   "source": [
    "n=int(input('Enter number of element:'))\n",
    "li=[]\n",
    "for x in range(0,n):\n",
    "    li.append(int(input()))\n",
    "print(sum(li))"
   ]
  },
  {
   "cell_type": "markdown",
   "metadata": {},
   "source": [
    "### Write a program to calculate sum of digits of number reccursivly\n",
    "### Using normal way"
   ]
  },
  {
   "cell_type": "code",
   "execution_count": 17,
   "metadata": {},
   "outputs": [
    {
     "name": "stdout",
     "output_type": "stream",
     "text": [
      "10\n"
     ]
    }
   ],
   "source": [
    "n=1234\n",
    "string=str(n)\n",
    "count=0\n",
    "for x in range(0,len(string)):\n",
    "    count=count+int(string[x])\n",
    "print(count)"
   ]
  },
  {
   "cell_type": "markdown",
   "metadata": {},
   "source": [
    "### Using reccursion logic"
   ]
  },
  {
   "cell_type": "code",
   "execution_count": 24,
   "metadata": {},
   "outputs": [
    {
     "name": "stdout",
     "output_type": "stream",
     "text": [
      "Enter number:105\n",
      "6\n"
     ]
    }
   ],
   "source": [
    "def numsum(n,temp,x):\n",
    "    if temp<len(n):\n",
    "        return int(n[temp])+numsum(n,temp+1,x)\n",
    "    else:\n",
    "        return x\n",
    "number=(input('Enter number:'))\n",
    "print(numsum(number,0,0))"
   ]
  },
  {
   "cell_type": "markdown",
   "metadata": {},
   "source": [
    "### Write a reccursive program to find LCM of two numbers\n",
    "### V.1.0 Using normal way"
   ]
  },
  {
   "cell_type": "code",
   "execution_count": 31,
   "metadata": {},
   "outputs": [
    {
     "name": "stdout",
     "output_type": "stream",
     "text": [
      "Enter number1:15\n",
      "Enter number2:25\n",
      "75\n"
     ]
    }
   ],
   "source": [
    "n1=int(input('Enter number1:'))\n",
    "n2=int(input('Enter number2:'))\n",
    "lcm=1\n",
    "while True:\n",
    "    if lcm%n1==0 and lcm%n2==0:\n",
    "        print(lcm)\n",
    "        break\n",
    "    else:\n",
    "        lcm+=1"
   ]
  },
  {
   "cell_type": "markdown",
   "metadata": {},
   "source": [
    "### V.1.1 Using reccursive logic"
   ]
  },
  {
   "cell_type": "code",
   "execution_count": 39,
   "metadata": {},
   "outputs": [
    {
     "name": "stdout",
     "output_type": "stream",
     "text": [
      "Enter number 1:72\n",
      "Enter number 2:120\n",
      "360\n"
     ]
    }
   ],
   "source": [
    "'''findLCM function takes three arguement num1,num2 as number for whome find minimum multiplication number\n",
    "   lcm as counter starts from 1'''\n",
    "def findLCM(num1,num2,lcm):                  \n",
    "    if lcm%num1==0 and lcm%num2==0:  #check if lcm is dived by 1 and 2 if yes then return the lcm value else\n",
    "        return lcm\n",
    "    else:\n",
    "        return findLCM(num1,num2,lcm+1) #reccursive call to findLCM method increse lcm value by 1\n",
    "number1=int(input('Enter number 1:'))\n",
    "number2=int(input('Enter number 2:'))\n",
    "lcm=1\n",
    "print(findLCM(number1,number2,lcm))"
   ]
  },
  {
   "cell_type": "markdown",
   "metadata": {},
   "source": [
    "### Find the GCD using reccursive logic\n",
    "### V1.0 Using normal way"
   ]
  },
  {
   "cell_type": "code",
   "execution_count": 49,
   "metadata": {},
   "outputs": [
    {
     "name": "stdout",
     "output_type": "stream",
     "text": [
      "Enter first number:98\n",
      "Enter second number:52\n",
      "2\n"
     ]
    }
   ],
   "source": [
    "number1=int(input('Enter first number:'))\n",
    "number2=int(input('Enter second number:'))\n",
    "temp=0\n",
    "if number1>number2:\n",
    "    temp=number1\n",
    "else:\n",
    "    temp=number2\n",
    "gcd=0\n",
    "for x in range(1,temp):\n",
    "    if number1%x==0 and number2%x==0:\n",
    "        temp=x\n",
    "print(temp)"
   ]
  },
  {
   "cell_type": "markdown",
   "metadata": {},
   "source": [
    "### V1.1 Using reccursion logic"
   ]
  },
  {
   "cell_type": "code",
   "execution_count": 96,
   "metadata": {},
   "outputs": [
    {
     "name": "stdout",
     "output_type": "stream",
     "text": [
      "Enter number 1:10\n",
      "Enter number 2:5\n",
      "5\n"
     ]
    }
   ],
   "source": [
    "'''findGCD takes 4 argumets num1 num2 as we have to find greatest comman diviser of these two number \n",
    "gcd as counter and temp as maximum divisor value'''\n",
    "\n",
    "def findGCD(num1,num2,gcd,temp):\n",
    "    maxi=max([num1,num2]) #find maximum between two number as we have to iterate to the number so we are considering maxi number\n",
    "    if gcd<maxi:          #if gcd(counter)<maxi then\n",
    "        if num1%gcd==0 and num2%gcd==0:  #check if the gcd can divide num and num2 and return 0 as reminder if yes then\n",
    "            temp=gcd                     #replace the old temp value with gcd value as gcd is greater than temp\n",
    "            return findGCD(num1,num2,gcd+1,temp)#reccursive call to findGCD function and increse the counter by 1\n",
    "        else:             #if gcd is not divding both number then do not modify temp only increse the counter and call method\n",
    "            return findGCD(num1,num2,gcd+1,temp)\n",
    "    else:\n",
    "        return temp       #if counter reach to the maximum number the return the temp which stores gcd\n",
    "number1=int(input('Enter number 1:'))   #get the number 1 from user\n",
    "number2=int(input('Enter number 2:'))   #get the second number form user\n",
    "print(findGCD(number1,number2,1,0))     #call the findGCD and print the gcd"
   ]
  },
  {
   "cell_type": "markdown",
   "metadata": {},
   "source": [
    "### Find the number is prime or not using reccursion\n",
    "### V.1.0 Using normal method for loop"
   ]
  },
  {
   "cell_type": "code",
   "execution_count": 61,
   "metadata": {},
   "outputs": [
    {
     "name": "stdout",
     "output_type": "stream",
     "text": [
      "Enter number to check:13\n",
      "Number is prime\n"
     ]
    }
   ],
   "source": [
    "number=int(input('Enter number to check:'))\n",
    "temp=0\n",
    "for x in range(2,number):\n",
    "    if number%x==0:\n",
    "        print('Number is not prime')\n",
    "        temp=1\n",
    "        break\n",
    "if temp==0:\n",
    "    print('Number is prime')"
   ]
  },
  {
   "cell_type": "code",
   "execution_count": 6,
   "metadata": {},
   "outputs": [
    {
     "name": "stdout",
     "output_type": "stream",
     "text": [
      "Enter number to check whather it is prime or non prime:44\n",
      "Number is not prime number\n"
     ]
    }
   ],
   "source": [
    "\n",
    "\"\"\"reccursivePrime function takes 3 argument n,result,x where\n",
    "   n=number to check whather it is prime or not\n",
    "   result=return value 0 or 1 0=prime 1=non prime\n",
    "   x=is counter which increses by 1 and starts from 2 because every number is divisible by 1 so we start checking from 2\"\"\"\n",
    "def reccursivePrime(n,result,x):\n",
    "    if x<n:\n",
    "        if n%x==0:\n",
    "            result=1         #if number%x is true then set result=1 as 1 indicate prime number\n",
    "            return result    #return the result and terminate reccursive execution \n",
    "        else:                #if number%2 not true then\n",
    "            return reccursivePrime(n,result,x+1)#give reccursive call to reccursivePrime function and incrse the counter by 1 each time \n",
    "                                                #till the number is less than number because no greater number than passed number divide the number fully\n",
    "    else:\n",
    "        return result         #if value of x is incresed upto x then return the result\n",
    "number=int(input(\"Enter number to check whather it is prime or non prime:\"))  #getting the number from uesr to check prime or not\n",
    "res=reccursivePrime(number,0,2)   #calling the reccursivePrime function and passing three argumet first is number two check result as flag initally set to 0 and counter as 2 as any number divided by 1 is prime so start form 2\n",
    "if res==0:                     #if flag ==0 menans number is prime so print the message\n",
    "    print('Number is prime number')\n",
    "else:                           #else number is non prime print the message\n",
    "    print('Number is not prime number')"
   ]
  },
  {
   "cell_type": "markdown",
   "metadata": {},
   "source": [
    "### Program to find product of two numbers using reccursion\n",
    "### V1.0 Using normal way\n"
   ]
  },
  {
   "cell_type": "code",
   "execution_count": 7,
   "metadata": {},
   "outputs": [
    {
     "name": "stdout",
     "output_type": "stream",
     "text": [
      "Enter first number:5\n",
      "Enter second numbers:2\n",
      "10\n"
     ]
    }
   ],
   "source": [
    "num1=int(input('Enter first number:'))\n",
    "num2=int(input('Enter second numbers:'))\n",
    "print(num1*num2)"
   ]
  },
  {
   "cell_type": "code",
   "execution_count": 95,
   "metadata": {},
   "outputs": [
    {
     "name": "stdout",
     "output_type": "stream",
     "text": [
      "Enter number1:5\n",
      "Enter number2:2\n",
      "10\n"
     ]
    }
   ],
   "source": [
    "\"\"\"The reccursiveProduct function takes three argument n1,n2,result and return result which product of n1 and n2\n",
    "   n1,n2 are two number to multiply as we know multiplication means adding a n1 to itselt n2 times so we every time we reduce\n",
    "   value of n2 by 1 and give call to reccursiveProduct and add the addition value of n1 stores in result and when \n",
    "   n2>0 condition false means we come to value n2=0 by substracting 1 every time\n",
    "   return the value of result calculated which is altimatly product of tow numbers\"\"\"\n",
    "def reccursiveProduct(n1,n2,result):\n",
    "    if n2>0:                        #if n2 which means second terms is greaer than 0 then\n",
    "        result=result+n1            #result +n1 first iteration result will be 0 and 0+n1\n",
    "        return reccursiveProduct(n1,n2-1,result)#reccursive call to reccursiveProduct by decresing value of n2\n",
    "    else:\n",
    "        return result                #if n2 is decresed upto 0 then return the result which is product\n",
    "num1=int(input('Enter number1:'))    #getting first number\n",
    "num2=int(input('Enter number2:'))    #getting second number\n",
    "print(reccursiveProduct(num1,num2,0)) #printing the return value of functon and passing 3 argument tow is entered by user and 0 as initial value of result"
   ]
  },
  {
   "cell_type": "markdown",
   "metadata": {},
   "source": [
    "### Python program to find power of number using reccursion\n",
    "### V.1.0 Using normal way using pow function"
   ]
  },
  {
   "cell_type": "code",
   "execution_count": 14,
   "metadata": {},
   "outputs": [
    {
     "name": "stdout",
     "output_type": "stream",
     "text": [
      "Enter number:5\n",
      "Enter power value:3\n",
      "125\n"
     ]
    }
   ],
   "source": [
    "number=int(input('Enter number:'))\n",
    "power=int(input('Enter power value:'))\n",
    "print(pow(number,power))               #pow function returns raise to power value and takes two argumen one is number and second is its power value"
   ]
  },
  {
   "cell_type": "markdown",
   "metadata": {},
   "source": [
    "### V.1.1 Using ** operator"
   ]
  },
  {
   "cell_type": "code",
   "execution_count": 15,
   "metadata": {},
   "outputs": [
    {
     "name": "stdout",
     "output_type": "stream",
     "text": [
      "Enter number:4\n",
      "Enter power value:3\n",
      "64\n"
     ]
    }
   ],
   "source": [
    "num=int(input('Enter number:'))\n",
    "power=int(input('Enter power value:'))\n",
    "print(num**power)"
   ]
  },
  {
   "cell_type": "markdown",
   "metadata": {},
   "source": [
    "### V.1.2 Using reccursive logic"
   ]
  },
  {
   "cell_type": "code",
   "execution_count": 29,
   "metadata": {},
   "outputs": [
    {
     "name": "stdout",
     "output_type": "stream",
     "text": [
      "Enter value of n:5\n",
      "Enter vlaue of power:2\n",
      "25\n"
     ]
    }
   ],
   "source": [
    "'''getPower function takes three argument number , power and result\n",
    " number is number on which apply power function \n",
    " as we know we can calculate the power of number by multipling the number power times \n",
    " '''\n",
    "def getPower(num,power,result):\n",
    "    if num>0 and power>0:         #if both num and power are non zero menas greater than 0\n",
    "        if power>0:               #if power greater than 0\n",
    "            result=result*num     #do the multiplication of result and num first iteration result will contains 1 so the num will be stored\n",
    "            return getPower(num,power-1,result)  #reccursive call to getPower function by reducing the power value\n",
    "        else:\n",
    "            return result         #if power is 0 then return the result\n",
    "    elif num<=0:                  #if number is greater than 0 then 1 will be return which is initail value of result\n",
    "        return result\n",
    "    else:                         #if power<=0 return the result\n",
    "        #print(result)            #return result\n",
    "        return result\n",
    "n=int(input('Enter value of n:'))\n",
    "p=int(input('Enter vlaue of power:'))\n",
    "print(getPower(n,p,1))"
   ]
  },
  {
   "cell_type": "markdown",
   "metadata": {},
   "source": [
    "### Write a program to check whater the string is pelindrom or not\n",
    "### V.1.0 Using normal way reverse the string and  compare it"
   ]
  },
  {
   "cell_type": "code",
   "execution_count": 39,
   "metadata": {},
   "outputs": [
    {
     "name": "stdout",
     "output_type": "stream",
     "text": [
      "Enter string:dd\n",
      "String is pelindrom\n"
     ]
    }
   ],
   "source": [
    "string=input('Enter string:')\n",
    "rev=str(string[::-1])\n",
    "if string==rev:\n",
    "    print('String is pelindrom')\n",
    "else:\n",
    "    print('String is not pelindrom')\n",
    "    "
   ]
  },
  {
   "cell_type": "markdown",
   "metadata": {},
   "source": [
    "### V.1.1 Using reccursion"
   ]
  },
  {
   "cell_type": "code",
   "execution_count": 94,
   "metadata": {},
   "outputs": [
    {
     "name": "stdout",
     "output_type": "stream",
     "text": [
      "Enter string to check pelindrom or not:same\n",
      "The string is not pelindrom\n"
     ]
    }
   ],
   "source": [
    "'''pelindromcheck function takes three argumets orignalstring , x is counter and result as 0 or 1 \n",
    "   0 indicate string is pelindrom 1 indicates string is not pelindrom\n",
    "   '''\n",
    "\n",
    "def pelindromcheck(string,x,result):\n",
    "    if x<len(string):                 #check if x(counter)<len(string) if yes\n",
    "        if string[x]==string[-(x+1)]: #get the element at xth position in string and get the element at -xth+1 element \n",
    "            #print('hi')              #we are doing +1 from negative index as negative index starts from 1 and counter from 1\n",
    "            result=0                   #if both character matches means till now string is pelindrom so result=0\n",
    "            return pelindromcheck(string,x+1,result)#reccursive call to pelindromcheck by increseing the counter\n",
    "        else:                          #if element at the xth index and -x+1th index not matches then \n",
    "            #print(string[x])\n",
    "            #print(\"reverse:{0}\".format(string[-x]))\n",
    "            result=1                    #set the result=1 as it indicate not pelidrom and return it\n",
    "            return result\n",
    "    else:                               #if string is pelindrom the it will increse the counter untill len(string) then condition gets false and comes to this else\n",
    "        return result                   #return the result this will be always 0\n",
    "string=input('Enter string to check pelindrom or not:') #get the string from user\n",
    "result=pelindromcheck(string,0,0)       #calling the function and storing its result passing counter and result as 0\n",
    "if result==0:                           #if value return by function is 0 then string is pelindrom else not\n",
    "    print('The string is pelindrom')\n",
    "else:\n",
    "    print('The string is not pelindrom')"
   ]
  },
  {
   "cell_type": "markdown",
   "metadata": {},
   "source": [
    "### Program to reverse a string using reccursion\n",
    "### Using normal way"
   ]
  },
  {
   "cell_type": "code",
   "execution_count": 53,
   "metadata": {},
   "outputs": [
    {
     "name": "stdout",
     "output_type": "stream",
     "text": [
      "Enter string:sameer\n",
      "reemas\n"
     ]
    }
   ],
   "source": [
    "string=input('Enter string:')\n",
    "reverse=string[::-1]\n",
    "print(reverse)"
   ]
  },
  {
   "cell_type": "markdown",
   "metadata": {},
   "source": [
    "### Using reccursion"
   ]
  },
  {
   "cell_type": "code",
   "execution_count": 93,
   "metadata": {},
   "outputs": [
    {
     "name": "stdout",
     "output_type": "stream",
     "text": [
      "Enter string to reverse:sam\n",
      "mas\n"
     ]
    }
   ],
   "source": [
    "'''reverseString function takes three argument string,reverse,x\n",
    "   string is orignal string which we have to reverse\n",
    "   reverse is empty list which will store the character of list in reveser order\n",
    "   x is counter starts from 1\n",
    "   check x<=len(string)\n",
    "   at the element at -xth position append it to reverse list\n",
    "   '''\n",
    "\n",
    "def reverseString(string,reverse,x):\n",
    "    if x<=len(string):                 #check if x is less than equal to reverseString function if yes then\n",
    "        reverse.append(string[-x])     #get the element at -xth position and add it to reverse list\n",
    "        return reverseString(string,reverse,x+1) #call the reverseString method and increse the counter by 1\n",
    "    else:                              #if x>len(string) then\n",
    "        #print('hi') \n",
    "        return \"\".join(reverse)        #join the reverselist and return it\n",
    "user_input_string=input('Enter string to reverse:')#getting string from user\n",
    "reverse_string=reverseString(user_input_string,[],1)#calling function and storing return value in reverse_string function\n",
    "print(reverse_string)                  #print the return value"
   ]
  },
  {
   "cell_type": "markdown",
   "metadata": {},
   "source": [
    "### Write a program to flatten a nested list using reccursion\n",
    "### Using for loop normal way"
   ]
  },
  {
   "cell_type": "code",
   "execution_count": 63,
   "metadata": {},
   "outputs": [
    {
     "name": "stdout",
     "output_type": "stream",
     "text": [
      "[1, 2, 3, 'a', 'b', 'c', 2.22, 2.445, 'sameer', 'shinde']\n"
     ]
    }
   ],
   "source": [
    "li=[1,2,3,['a','b','c'],2.22,2.445,['sameer','shinde']]\n",
    "newlist=[]\n",
    "for x in li:\n",
    "    if type(x)==list:\n",
    "        newlist.extend(x)\n",
    "    else:\n",
    "        newlist.append(x)\n",
    "print(newlist)"
   ]
  },
  {
   "cell_type": "code",
   "execution_count": 62,
   "metadata": {},
   "outputs": [
    {
     "name": "stdout",
     "output_type": "stream",
     "text": [
      "[1, 2, 'a', 'b', 'c']\n"
     ]
    }
   ],
   "source": [
    "\"\"\"flattenList function takes 3 argument orignallist,newlist,x\n",
    "  orignallist is orignallist which is passed to function for flatten purpose\n",
    "  newlist contains all the elements from orignallist as single list element this will never contain nested list\n",
    "  x is counter which gets the orignal list element one by 1\n",
    "  \n",
    "  solving approch:\n",
    "  check if passed counter x is less than len(orignallist) or not if yes then\n",
    "  get the element of orignallist at xth index and check its type if its of type list means this is nested list so \n",
    "  extend the newlist and add the nested list to it\n",
    "  and give call to flattenList function and increse counter by 1\n",
    "  \n",
    "  if type of element at index orignallist[x] is not list means it is normal element append it to new list\n",
    "  and call to flattenList function after increase the counter by 1\n",
    "  \n",
    "  if by incrsing counter if it corss the condition if x<len(orignallist) means we have visisted each element of list\n",
    "  now return the newlist which we have created\"\"\"\n",
    "\n",
    "def flattenList(orignallist,newlist,x):      #takes 3 parameter orignallist,newlist and x is counter always starts from 0\n",
    "    if x<len(orignallist):                   #end condition gets false when counter x is greater than len(orignallist)\n",
    "        if type(orignallist[x])==list:       #if type of element present at xth index in orignallist is list then \n",
    "            newlist.extend(orignallist[x])   #newlist.extned(orignallist[x]) means append the each element from nested list\n",
    "            return flattenList(orignallist,newlist,x+1)#reccursive call to flattenList by incresing counter\n",
    "        else:                                #if type of element present at xth element is not tree means normal element then\n",
    "            newlist.append(orignallist[x])   #append it to newlist\n",
    "            return flattenList(orignallist,newlist,x+1)#reccursive call to flattenlist element and increse counter by 1\n",
    "    else:                                    #if x<len(orignallist) is false then return the newlist\n",
    "        return newlist                       #return the newlist\n",
    "print(flattenList([1,2,['a','b','c']],[],0))"
   ]
  },
  {
   "cell_type": "markdown",
   "metadata": {},
   "source": [
    "### Write a program to print sum of list including nested list"
   ]
  },
  {
   "cell_type": "code",
   "execution_count": 92,
   "metadata": {},
   "outputs": [
    {
     "name": "stdout",
     "output_type": "stream",
     "text": [
      "292\n"
     ]
    }
   ],
   "source": [
    "total=0             #global variable declaration\n",
    "\n",
    "'''getSum function takes one argument which is orignal list and get reccursively called for each nested list\n",
    "   in function for loop runs from 0 to len(orignallist) and get element at x th element check its type \n",
    "   if type is list then give reccursive call to getSum element and passed the newly found list as argument\n",
    "   if type is not list then add that elemnet in toatal\n",
    "   call the function and print value of total after it'''\n",
    "def getSum(orignal): \n",
    "    global total             #getting total as a global varibale\n",
    "    for x in range(len(orignal)): #for loop form 0 to len(orignal)\n",
    "        if type(orignal[x])==list:#check type of xth element in orignal list if it is list then\n",
    "            getSum(orignal[x])    #reccursive call to getSum and passed the xth element list as argument\n",
    "        else:                     #if type of xth element is not list then \n",
    "            total+=orignal[x]     #add the element in total \n",
    "l=[1,2,3,[44,55,[99,88]]]         #defining list\n",
    "getSum(l)                         #call the function getSum() and passed list to it\n",
    "print(total)                      #print the value of total\n",
    "\n",
    "#'''Taken reffernce for this program'''"
   ]
  },
  {
   "cell_type": "markdown",
   "metadata": {},
   "source": [
    "### Find the length of list using reccution "
   ]
  },
  {
   "cell_type": "code",
   "execution_count": null,
   "metadata": {},
   "outputs": [],
   "source": []
  }
 ],
 "metadata": {
  "kernelspec": {
   "display_name": "Python 3",
   "language": "python",
   "name": "python3"
  },
  "language_info": {
   "codemirror_mode": {
    "name": "ipython",
    "version": 3
   },
   "file_extension": ".py",
   "mimetype": "text/x-python",
   "name": "python",
   "nbconvert_exporter": "python",
   "pygments_lexer": "ipython3",
   "version": "3.9.0"
  }
 },
 "nbformat": 4,
 "nbformat_minor": 4
}
