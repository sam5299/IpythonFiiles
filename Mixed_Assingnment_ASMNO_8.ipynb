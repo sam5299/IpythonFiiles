{
 "cells": [
  {
   "cell_type": "markdown",
   "metadata": {},
   "source": [
    "### Simple simulation engine"
   ]
  },
  {
   "cell_type": "code",
   "execution_count": 4,
   "metadata": {},
   "outputs": [
    {
     "name": "stdout",
     "output_type": "stream",
     "text": [
      "[-2, 3, -2, 3, -2, 3, -2, 3, -2, 3, -2]\n"
     ]
    }
   ],
   "source": [
    "'''IterateLogistic function takes 3 arguemnt x r n where n is number of iteration then one empty list to store value of x\n",
    "after each iteration using x=r*(1-x) formula and after finishing loop print the list'''\n",
    "def ItrerateLogistic(x,r,n):\n",
    "    iterationlist=[]\n",
    "    for i in range(0,n+1):\n",
    "        x=r*(1-x)\n",
    "        iterationlist.append(x)\n",
    "    print(iterationlist)\n",
    "ItrerateLogistic(3,1,10)"
   ]
  },
  {
   "cell_type": "markdown",
   "metadata": {},
   "source": [
    "### Generate experimental data"
   ]
  },
  {
   "cell_type": "code",
   "execution_count": 24,
   "metadata": {},
   "outputs": [],
   "source": [
    "#list of 10 file names in which data will be writeen\n",
    "files=['data1.txt','data2.txt','data3.txt','data4.txt','data5.txt','data6.txt','data7.txt','data8.txt','data9.txt','data10.txt']\n",
    "\n",
    "try:\n",
    "    r=4.0 #default value of r mentioned\n",
    "    \n",
    "    #outer for loop executes len(files) time at this moment we have 10 files so run 10 times\n",
    "    for i in range(0,len(files)):\n",
    "        deltavalue=i*0.00005         #calculate the delta value this will change every time as i will increse\n",
    "        x0=0.3+deltavalue            #x0 is inital value to write in file\n",
    "        with open(files[i],'w') as fp: #open the file which is present at ith location of list and open it in w mode\n",
    "            for x in range(0,50):       #for loop runs from 0 to 50 means 50 iteration generate 50 values and write it into files\n",
    "                fp.write(\"{0},{1}\\n\".format(x,x0)) #write the x0 value into file\n",
    "                x0=r*(1-x0)            #update the x0 value\n",
    "                \n",
    "except FileNotFoundError: #if some error happens like file not found etc wil catch here\n",
    "    print('file not found')\n"
   ]
  },
  {
   "cell_type": "markdown",
   "metadata": {},
   "source": [
    "### Get the array from file data    "
   ]
  },
  {
   "cell_type": "code",
   "execution_count": 32,
   "metadata": {},
   "outputs": [],
   "source": [
    "'''function create array takes one arguemnt as name of file which is to be open and reads the data from it and convert it into array'''\n",
    "def createarray(name):\n",
    "    try:\n",
    "        with open(name,'r') as fp:  #opent the file which is passed by the user\n",
    "            arraylist=[]            #define empty arraylist which will store the array element \n",
    "            data=fp.readlines()     #using readlines ready all the lines of file and store it into list\n",
    "            #print(data)\n",
    "            templist=[]             #temprory list which includes list all element for each line\n",
    "            for x in data:\n",
    "                #print(x)\n",
    "                for y in x.split(\",\"):  #get one by one line and split it using , delimenter and convert it to list\n",
    "                    if(\"\\n\" in y):      #check if y means the value from x line is \\n because at every line end \\n is added\n",
    "                        templist.append(y.replace(\"\\n\",\"\"))#remove that \\n by replacing them with \"\" and add to templist\n",
    "                    else:               #if the character or word not having \\n then directly add it to list \n",
    "                        templist.append(y)\n",
    "                arraylist.append(templist) #add the temp list to arraylist as one element as one line is finsed\n",
    "                templist=[]             #again empty the templist for next iteration \n",
    "            return arraylist            #after finishing all the iteration return the arraylist\n",
    "    except FileNotFoundError:           #if your enter file is not present then Handle the FileNoutFoundError \n",
    "        print(\"file name you passed doesn't exits..!!\")\n",
    "#\n",
    "\n",
    "#generateString method takes array as input and convert it into string and write to file\n",
    "try:\n",
    "    result=[]            #this is list which will store the lines from array\n",
    "    def generateString(arr):  \n",
    "        with open(\"data7out.txt\",'w') as wfile:  #open file data7out.txt in write mode so that we can write data into it\n",
    "            for x in arr:                        #get the element from arr\n",
    "                if type(x)==type(arr):           #check if element is array or not if array then reccursive call to generateString function\n",
    "                    generateString(x)            #reccursive call to generateString function \n",
    "                else:                            #if type(x) is not list then \n",
    "                    result.append(str(x))        #append the x to result list by converting it into string\n",
    "            #this for loop will start execution after finishing the above for loop\n",
    "            #this for loop is for getting the lines from result list and append it to data7out.txt file\n",
    "            for x in result:\n",
    "                wfile.write(x+\"\\n\")              #write the data using file pointer and write method\n",
    "except FileNotFoundError:\n",
    "    print('The file not file some error occure..!!')\n",
    "    \n",
    "    \n",
    "#calling the above functions \n",
    "arrayofelement=createarray('data9.txt') #calling function createarray which return array of lines from the data7.txt\n",
    "\n",
    "generateString(arrayofelement)          #calling the generateString function by passing return value of create array\n"
   ]
  },
  {
   "cell_type": "markdown",
   "metadata": {},
   "source": [
    "### Maxseperation.py\n",
    "\n",
    "### Write a Python program MaxSeparation.py that produces another file consisting of lines with iteration number and d_max, where d_max is the largest distance between all pairs of states taken from the different files at the same iteration number"
   ]
  },
  {
   "cell_type": "code",
   "execution_count": 36,
   "metadata": {},
   "outputs": [],
   "source": [
    "try:\n",
    "    #open the files to get the data and open one file to write a data\n",
    "    with open('data1.txt','r') as d1,open('data2.txt','r') as d2,open('data3.txt','r') as d3,open('maxsepration.txt','w') as maxs:\n",
    "        data1=d1.readlines()#get the list of all data in data1 \n",
    "        data2=d2.readlines()#get the list of all data in data2\n",
    "        data3=d3.readlines()#get the list of all data in data3 \n",
    "        min_len=min(len(data2),len(data2),len(data3))\n",
    "        for x in range(0,min_len):\n",
    "            value1=data1[x].split(\",\")[1]\n",
    "            value2=data2[x].split(\",\")[1]\n",
    "            value3=data3[x].split(\",\")[1]\n",
    "            maxi_value=max(value1,value2,value3)\n",
    "            maxs.write(\"{0}:{1}\".format(x,maxi_value))\n",
    "except FileNotFoundError:\n",
    "    print('File not found..!!')"
   ]
  },
  {
   "cell_type": "code",
   "execution_count": null,
   "metadata": {},
   "outputs": [],
   "source": []
  },
  {
   "cell_type": "code",
   "execution_count": null,
   "metadata": {},
   "outputs": [],
   "source": []
  }
 ],
 "metadata": {
  "kernelspec": {
   "display_name": "Python 3",
   "language": "python",
   "name": "python3"
  },
  "language_info": {
   "codemirror_mode": {
    "name": "ipython",
    "version": 3
   },
   "file_extension": ".py",
   "mimetype": "text/x-python",
   "name": "python",
   "nbconvert_exporter": "python",
   "pygments_lexer": "ipython3",
   "version": "3.9.0"
  }
 },
 "nbformat": 4,
 "nbformat_minor": 4
}
