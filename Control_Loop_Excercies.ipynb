{
 "cells": [
  {
   "cell_type": "markdown",
   "metadata": {},
   "source": [
    "### Program to find number which are divisible by 7 and multiple of 5 between range 1500 and 2701 both inclusive "
   ]
  },
  {
   "cell_type": "code",
   "execution_count": 20,
   "metadata": {},
   "outputs": [
    {
     "name": "stdout",
     "output_type": "stream",
     "text": [
      "1505\n",
      "1540\n",
      "1575\n",
      "1610\n",
      "1645\n",
      "1680\n",
      "1715\n",
      "1750\n",
      "1785\n",
      "1820\n",
      "1855\n",
      "1890\n",
      "1925\n",
      "1960\n",
      "1995\n",
      "2030\n",
      "2065\n",
      "2100\n",
      "2135\n",
      "2170\n",
      "2205\n",
      "2240\n",
      "2275\n",
      "2310\n",
      "2345\n",
      "2380\n",
      "2415\n",
      "2450\n",
      "2485\n",
      "2520\n",
      "2555\n",
      "2590\n",
      "2625\n",
      "2660\n",
      "2695\n"
     ]
    }
   ],
   "source": [
    "l=list(range(1500,2701))\n",
    "for x in l:\n",
    "       if x%7==0 and x%5==0:\n",
    "            print(x)"
   ]
  },
  {
   "cell_type": "code",
   "execution_count": 3,
   "metadata": {},
   "outputs": [
    {
     "name": "stdout",
     "output_type": "stream",
     "text": [
      "[1505, 1540, 1575, 1610, 1645, 1680, 1715, 1750, 1785, 1820, 1855, 1890, 1925, 1960, 1995, 2030, 2065, 2100, 2135, 2170, 2205, 2240, 2275, 2310, 2345, 2380, 2415, 2450, 2485, 2520, 2555, 2590, 2625, 2660, 2695]\n"
     ]
    }
   ],
   "source": [
    "#above program using comprehension\n",
    "a=list(range(1500,2701))\n",
    "b=[x for x in a if x%5==0 and x%7==0]\n",
    "print(b)"
   ]
  },
  {
   "cell_type": "markdown",
   "metadata": {},
   "source": [
    "# Program to convert temprature to and from Celcius and feranite\n"
   ]
  },
  {
   "cell_type": "code",
   "execution_count": 31,
   "metadata": {},
   "outputs": [
    {
     "name": "stdout",
     "output_type": "stream",
     "text": [
      "Press 1 for cel to fer\n",
      " Press 2 for fer to cel\n",
      " Press 3 to exit2\n",
      "Enter the temprature into Feranite:45\n",
      "7\n",
      "Press 1 for cel to fer\n",
      " Press 2 for fer to cel\n",
      " Press 3 to exit3\n"
     ]
    }
   ],
   "source": [
    "while True:\n",
    "    choice=int(input(\"Press 1 for cel to fer\\n Press 2 for fer to cel\\n Press 3 to exit\"))\n",
    "    if choice==1:\n",
    "        cel=int(input(\"Enter the temprature in Celcius:\"))\n",
    "        fer=(cel*9/5)+32\n",
    "        print(str(cel)+\"cel = \"+str(fer)+\" fer\")\n",
    "    elif choice==2:\n",
    "        fer=float(input(\"Enter the temprature into Feranite:\"))\n",
    "        cel=int((fer-32)*5/9)\n",
    "        print(cel)\n",
    "    elif choice==3:\n",
    "        break\n",
    "        "
   ]
  },
  {
   "cell_type": "markdown",
   "metadata": {},
   "source": [
    "# Gussing game using user input range between 1 to 9"
   ]
  },
  {
   "cell_type": "code",
   "execution_count": 35,
   "metadata": {},
   "outputs": [
    {
     "name": "stdout",
     "output_type": "stream",
     "text": [
      "Enter Your Number For Guessing:3\n",
      "Ohh Try Again You Entered Wrong Number..!!\n",
      "Enter Your Number For Guessing:1\n",
      "Ohh Try Again You Entered Wrong Number..!!\n",
      "Enter Your Number For Guessing:2\n",
      "Holey Cow You Guess the Right Number..!!\n"
     ]
    }
   ],
   "source": [
    "import random\n",
    "n=random.randint(1,9)\n",
    "while True:\n",
    "    user=int(input(\"Enter Your Number For Guessing:\"))\n",
    "    if n==user:\n",
    "        print(\"Holey Cow You Guess the Right Number..!!\")\n",
    "        break\n",
    "    else:\n",
    "        print(\"Ohh Try Again You Entered Wrong Number..!!\")"
   ]
  },
  {
   "cell_type": "markdown",
   "metadata": {},
   "source": [
    "# Write a program to create pattern"
   ]
  },
  {
   "cell_type": "code",
   "execution_count": 51,
   "metadata": {},
   "outputs": [
    {
     "name": "stdout",
     "output_type": "stream",
     "text": [
      "* \n",
      "* * \n",
      "* * * \n",
      "* * * * \n",
      "* * * * * \n",
      "* * * * \n",
      "* * * \n",
      "* * \n",
      "* \n",
      "\n"
     ]
    }
   ],
   "source": [
    "for x in range(1,11):\n",
    "    if x<=5:\n",
    "        for j in range(0,x):\n",
    "            print(\"*\",end=\" \")\n",
    "    else:\n",
    "        for p in range(11,x+1,-1):\n",
    "            print(\"*\",end=\" \")\n",
    "    print()\n",
    "        "
   ]
  },
  {
   "cell_type": "markdown",
   "metadata": {},
   "source": [
    "# Write a program to reverse it"
   ]
  },
  {
   "cell_type": "code",
   "execution_count": 63,
   "metadata": {},
   "outputs": [
    {
     "name": "stdout",
     "output_type": "stream",
     "text": [
      "Enter any number:5143\n",
      "3415\n"
     ]
    }
   ],
   "source": [
    "number=int(input(\"Enter any number:\"))\n",
    "rev=0\n",
    "while number>0:\n",
    "    t=number%10\n",
    "    rev=(rev*10)+t\n",
    "    number=number//10\n",
    "\n",
    "print(rev)"
   ]
  },
  {
   "cell_type": "code",
   "execution_count": 7,
   "metadata": {},
   "outputs": [
    {
     "name": "stdout",
     "output_type": "stream",
     "text": [
      "Enter any number:254\n",
      "Reversed Number is: 452\n"
     ]
    }
   ],
   "source": [
    "#reverse num using inbuilt function and slicing\n",
    "num=int(input(\"Enter any number:\"))\n",
    "b=int(str(num)[: :-1])\n",
    "print(\"Reversed Number is:\",(b))"
   ]
  },
  {
   "cell_type": "markdown",
   "metadata": {},
   "source": [
    "# Count the even and odd number into series of number [1,2,3,4,5,6,7,8,9]"
   ]
  },
  {
   "cell_type": "code",
   "execution_count": 64,
   "metadata": {},
   "outputs": [
    {
     "name": "stdout",
     "output_type": "stream",
     "text": [
      "Number of ODD number in given number sequance:5\n",
      "Number of Even number in given number sequance:4\n"
     ]
    }
   ],
   "source": [
    "number=list(range(1,10))\n",
    "odd,even=0,0\n",
    "for x in number:\n",
    "    if x%2==0:\n",
    "        even+=1\n",
    "    else:\n",
    "        odd+=1\n",
    "        \n",
    "print(\"Number of ODD number in given number sequance:\"+str(odd))\n",
    "print(\"Number of Even number in given number sequance:\"+str(even))"
   ]
  },
  {
   "cell_type": "code",
   "execution_count": 11,
   "metadata": {},
   "outputs": [
    {
     "name": "stdout",
     "output_type": "stream",
     "text": [
      "Number of odd number:5\n",
      "Number of even number:4\n"
     ]
    }
   ],
   "source": [
    "#program of count even odd from series of numbers [1,2,3,4,5,6,7]\n",
    "num=list(range(1,10))\n",
    "odd=[a for a in num if a%2!=0]\n",
    "even=[a for a in num if a%2==0]\n",
    "print(\"Number of odd number:\"+str(len(odd)))\n",
    "print(\"Number of even number:\"+str(len(even)))"
   ]
  },
  {
   "cell_type": "markdown",
   "metadata": {},
   "source": [
    "# Program to print Value and its type of each element in list"
   ]
  },
  {
   "cell_type": "code",
   "execution_count": 69,
   "metadata": {},
   "outputs": [
    {
     "name": "stdout",
     "output_type": "stream",
     "text": [
      "1453     <class 'int'>\n",
      "11.23     <class 'float'>\n",
      "(1+2j)     <class 'complex'>\n",
      "True     <class 'bool'>\n",
      "Moderncollge     <class 'str'>\n",
      "(0, -1)     <class 'tuple'>\n",
      "[5, 2]     <class 'list'>\n",
      "{'class': 'v', 'section': 'a'}     <class 'dict'>\n"
     ]
    }
   ],
   "source": [
    "li=[1453,11.23,1+2j,True,'Moderncollge',(0,-1),[5,2],{'class':'v','section':'a'}]\n",
    "for x in li:\n",
    "    print(x,end=\"     \")\n",
    "    print(type(x))\n",
    "    "
   ]
  },
  {
   "cell_type": "markdown",
   "metadata": {},
   "source": [
    "# Program to print all the numbers from 0 to 6 except 3 and 6 use continue keyword"
   ]
  },
  {
   "cell_type": "code",
   "execution_count": 71,
   "metadata": {},
   "outputs": [
    {
     "name": "stdout",
     "output_type": "stream",
     "text": [
      "0 1 2 4 5 "
     ]
    }
   ],
   "source": [
    "num=list(range(0,7))\n",
    "for x in num:\n",
    "    if x==3 or x==6:\n",
    "        continue\n",
    "    else:\n",
    "        print(x,end=\" \")"
   ]
  },
  {
   "cell_type": "markdown",
   "metadata": {},
   "source": [
    "# Program to print fibonancci number between 0 to 50"
   ]
  },
  {
   "cell_type": "code",
   "execution_count": 73,
   "metadata": {},
   "outputs": [
    {
     "name": "stdout",
     "output_type": "stream",
     "text": [
      "0 1 1 2 3 5 8 13 21 34 "
     ]
    }
   ],
   "source": [
    "a,b=0,1\n",
    "while a<50:\n",
    "    print(a,end=\" \")\n",
    "    a,b=b,a+b"
   ]
  },
  {
   "cell_type": "markdown",
   "metadata": {},
   "source": [
    "### Program which iterate the integer from 1 to 50 for multiple of 3 print fizz and multiple of 5 print buzz else print number"
   ]
  },
  {
   "cell_type": "code",
   "execution_count": 75,
   "metadata": {},
   "outputs": [
    {
     "name": "stdout",
     "output_type": "stream",
     "text": [
      "1  2  fizz  4  buzz  fizz  7  8  fizz  buzz  11  fizz  13  14  fizz  16  17  fizz  19  buzz  fizz  22  23  fizz  buzz  26  fizz  28  29  fizz  31  32  fizz  34  buzz  fizz  37  38  fizz  buzz  41  fizz  43  44  fizz  46  47  fizz  49  "
     ]
    }
   ],
   "source": [
    "num=list(range(1,50))\n",
    "for x in num:\n",
    "    if x%3==0:\n",
    "        print('fizz',end=\"  \")\n",
    "    elif x%5==0:\n",
    "        print('buzz',end=\"  \")\n",
    "    else:\n",
    "        print(x,end=\"  \")"
   ]
  },
  {
   "cell_type": "markdown",
   "metadata": {},
   "source": [
    "#### Write a program which takes two input row , col and genrate array i*j"
   ]
  },
  {
   "cell_type": "code",
   "execution_count": 80,
   "metadata": {},
   "outputs": [
    {
     "name": "stdout",
     "output_type": "stream",
     "text": [
      "Enter number of row:3\n",
      "Enter number of column:4\n",
      "\n",
      "0 0 0 0 \n",
      "0 1 2 3 \n",
      "0 2 4 6 "
     ]
    }
   ],
   "source": [
    "row=int(input(\"Enter number of row:\"))\n",
    "col=int(input(\"Enter number of column:\"))\n",
    "arr=[]\n",
    "for x in range(0,row):\n",
    "    for y in range(0,col):\n",
    "        arr.append(x*y)\n",
    "        \n",
    "flag=0\n",
    "for x in arr:\n",
    "    if flag%4==0:\n",
    "        print()\n",
    "    print(x,end=\" \")\n",
    "    flag+=1"
   ]
  },
  {
   "cell_type": "code",
   "execution_count": 16,
   "metadata": {},
   "outputs": [
    {
     "name": "stdout",
     "output_type": "stream",
     "text": [
      "Enter number of row:3\n",
      "Enter number of col:4\n",
      "[0, 0, 0, 0, 0, 1, 2, 3, 0, 2, 4, 6]\n"
     ]
    }
   ],
   "source": [
    "#above program using Comprehension\n",
    "row=int(input(\"Enter number of row:\"))\n",
    "col=int(input(\"Enter number of col:\"))\n",
    "arr=[a*b for a in range(0,row) for b in range(0,col)]\n",
    "print(arr)"
   ]
  },
  {
   "cell_type": "markdown",
   "metadata": {},
   "source": [
    "### Program which take sequance of lines and terminate the lines and print all lines in lower case"
   ]
  },
  {
   "cell_type": "code",
   "execution_count": 93,
   "metadata": {},
   "outputs": [
    {
     "name": "stdout",
     "output_type": "stream",
     "text": [
      "Enter Lines:\n",
      "SAMEER RAMESH\n",
      "SHINDE \n",
      "RAMESH PATILBA\n",
      "SHINDE\n",
      "SAKARWADI\n",
      "KOPARGAON\n",
      "AHMEDNAGAR\n",
      "    \n",
      "sameer ramesh\n",
      "shinde \n",
      "ramesh patilba\n",
      "shinde\n",
      "sakarwadi\n",
      "kopargaon\n",
      "ahmednagar\n"
     ]
    }
   ],
   "source": [
    "line=[]\n",
    "print(\"Enter Lines:\")\n",
    "while True:\n",
    "    temp=input()\n",
    "    if len(temp.strip())==0:\n",
    "        break\n",
    "    else:\n",
    "        line.append(temp)\n",
    "        \n",
    "for l in line:\n",
    "    print(l.lower())\n"
   ]
  },
  {
   "cell_type": "markdown",
   "metadata": {},
   "source": [
    "#### Program which accept 4 digit binary number and print those number which are divisible by 5"
   ]
  },
  {
   "cell_type": "code",
   "execution_count": 102,
   "metadata": {},
   "outputs": [
    {
     "ename": "SyntaxError",
     "evalue": "unexpected EOF while parsing (<ipython-input-102-5d438079265b>, line 1)",
     "output_type": "error",
     "traceback": [
      "\u001b[1;36m  File \u001b[1;32m\"<ipython-input-102-5d438079265b>\"\u001b[1;36m, line \u001b[1;32m1\u001b[0m\n\u001b[1;33m    x=format(input(\"Enter binary number\",b)\u001b[0m\n\u001b[1;37m                                           ^\u001b[0m\n\u001b[1;31mSyntaxError\u001b[0m\u001b[1;31m:\u001b[0m unexpected EOF while parsing\n"
     ]
    }
   ],
   "source": [
    "x=format(input(\"Enter binary number\",b)"
   ]
  },
  {
   "cell_type": "markdown",
   "metadata": {},
   "source": [
    "### Program which calculate number of letter and integers"
   ]
  },
  {
   "cell_type": "code",
   "execution_count": 19,
   "metadata": {
    "scrolled": true
   },
   "outputs": [
    {
     "name": "stdout",
     "output_type": "stream",
     "text": [
      "Enter String:sameer 3232\n",
      "Number of digit: 4\n",
      "Number of character: 6\n"
     ]
    }
   ],
   "source": [
    "str=input(\"Enter String:\")\n",
    "scnt=0\n",
    "dcnt=0\n",
    "for x in str:\n",
    "    if x.isalpha():\n",
    "        scnt+=1\n",
    "    if x.isdigit():\n",
    "        dcnt+=1\n",
    "\n",
    "print(\"Number of digit:\",dcnt)\n",
    "print(\"Number of character:\",scnt)"
   ]
  },
  {
   "cell_type": "markdown",
   "metadata": {},
   "source": [
    "### Python program to check validity of password input by user\n",
    "##### Validation\n",
    "##### 1.At least 1 upper case and 2 lower case 2.at least one digit 3.at least on charater"
   ]
  },
  {
   "cell_type": "code",
   "execution_count": 79,
   "metadata": {},
   "outputs": [
    {
     "name": "stdout",
     "output_type": "stream",
     "text": [
      "Enter Your password:AseerR@34FDFD\n",
      "Password is valid\n"
     ]
    }
   ],
   "source": [
    "import re\n",
    "password=input(\"Enter Your password:\")\n",
    "\n",
    "capalpha=[chr(x) for x in range(ord('A'), ord('Z') + 1)] \n",
    "small=0\n",
    "cap=0\n",
    "num=0\n",
    "sign=0\n",
    "\n",
    "if len(password)>=6 and len(password)<=16:\n",
    "    for x in password:\n",
    "        if x.isupper():\n",
    "            cap+=1\n",
    "        elif x.islower():\n",
    "            small+=1\n",
    "        elif x in number:\n",
    "            num+=1\n",
    "        elif x in ['@','#','$']:\n",
    "            sign+=1\n",
    "    else:\n",
    "        if cap>=1 and small>=1 and num>=1 and sign>=1:\n",
    "            print(\"Password is valid\")\n",
    "        else:\n",
    "            print(\"Password doesn't meet our standers \\nAt lest one lower and uppar case charter at least one number and at lest one special symbol form @#$\")\n",
    "else:\n",
    "    print(\"Password doesn't meet our standerds\\nLength should be more than 6 and less than 17\")\n",
    "\n"
   ]
  },
  {
   "cell_type": "markdown",
   "metadata": {},
   "source": [
    "### Write a program to find even number between 100 and 400 and print it in comma seperated manner"
   ]
  },
  {
   "cell_type": "code",
   "execution_count": 85,
   "metadata": {},
   "outputs": [
    {
     "name": "stdout",
     "output_type": "stream",
     "text": [
      "100,102,104,106,108,110,112,114,116,118,120,122,124,126,128,130,132,134,136,138,140,142,144,146,148,150,152,154,156,158,160,162,164,166,168,170,172,174,176,178,180,182,184,186,188,190,192,194,196,198,200,202,204,206,208,210,212,214,216,218,220,222,224,226,228,230,232,234,236,238,240,242,244,246,248,250,252,254,256,258,260,262,264,266,268,270,272,274,276,278,280,282,284,286,288,290,292,294,296,298,300,302,304,306,308,310,312,314,316,318,320,322,324,326,328,330,332,334,336,338,340,342,344,346,348,350,352,354,356,358,360,362,364,366,368,370,372,374,376,378,380,382,384,386,388,390,392,394,396,398,400,\n",
      " 151\n"
     ]
    }
   ],
   "source": [
    "num=list(range(100,401))\n",
    "even=[]\n",
    "for n in num:\n",
    "    if n%2==0:\n",
    "        even.append(n)\n",
    "    \n",
    "for n in even:\n",
    "    print(n,end=\",\")\n",
    "    "
   ]
  },
  {
   "cell_type": "code",
   "execution_count": 88,
   "metadata": {},
   "outputs": [
    {
     "name": "stdout",
     "output_type": "stream",
     "text": [
      "100 102 104 106 108 110 112 114 116 118 120 122 124 126 128 130 132 134 136 138 140 142 144 146 148 150 152 154 156 158 160 162 164 166 168 170 172 174 176 178 180 182 184 186 188 190 192 194 196 198 200 202 204 206 208 210 212 214 216 218 220 222 224 226 228 230 232 234 236 238 240 242 244 246 248 250 252 254 256 258 260 262 264 266 268 270 272 274 276 278 280 282 284 286 288 290 292 294 296 298 300 302 304 306 308 310 312 314 316 318 320 322 324 326 328 330 332 334 336 338 340 342 344 346 348 350 352 354 356 358 360 362 364 366 368 370 372 374 376 378 380 382 384 386 388 390 392 394 396 398 400 "
     ]
    }
   ],
   "source": [
    "#above program using comprehension\n",
    "even=[n for n in range(100,401) if n%2==0]\n",
    "for n in even:\n",
    "    print(n,end=\" \")"
   ]
  },
  {
   "cell_type": "markdown",
   "metadata": {},
   "source": [
    "### Program to find Dogs age"
   ]
  },
  {
   "cell_type": "code",
   "execution_count": 7,
   "metadata": {
    "scrolled": true
   },
   "outputs": [
    {
     "name": "stdout",
     "output_type": "stream",
     "text": [
      "Enter Dog age human year:15\n",
      "Dog age in dog year:73.0\n"
     ]
    }
   ],
   "source": [
    "a=int(input(\"Enter Dog age human year:\"))\n",
    "if a<=0:\n",
    "    print(\"Age cannot be zero or negative\")\n",
    "elif a<=2:\n",
    "    dogage=a*10.5\n",
    "    print(\"Dog age in dogs year:\"+str(dogage))\n",
    "else:\n",
    "    firsttwo=2*10.5\n",
    "    aftertwo=(a-2)*4\n",
    "    dogage=firsttwo+aftertwo\n",
    "    print(\"Dog age in dog year:\"+str(dogage))"
   ]
  },
  {
   "cell_type": "markdown",
   "metadata": {},
   "source": [
    "### Program to check whether the input character is vovel or consonant"
   ]
  },
  {
   "cell_type": "code",
   "execution_count": 9,
   "metadata": {},
   "outputs": [
    {
     "name": "stdout",
     "output_type": "stream",
     "text": [
      "Enter any character:W\n",
      "Given character is consonant\n"
     ]
    }
   ],
   "source": [
    "ch=input(\"Enter any character:\")\n",
    "if ch in ['a','e','i','o','u','A','E','I','O','U']:\n",
    "    print(\"Given character is Vovel\")\n",
    "else:\n",
    "    print(\"Given character is consonant\")"
   ]
  },
  {
   "cell_type": "markdown",
   "metadata": {},
   "source": [
    "### Program to convert month name to number of days"
   ]
  },
  {
   "cell_type": "code",
   "execution_count": 13,
   "metadata": {},
   "outputs": [
    {
     "name": "stdout",
     "output_type": "stream",
     "text": [
      "Enter month name:January\n",
      "NO of days:31\n"
     ]
    }
   ],
   "source": [
    "month=input(\"Enter month name:\")\n",
    "if month=='January':\n",
    "    print(\"NO of days:31\")\n",
    "elif month=='February':\n",
    "    print(\"No of days:29/28\")\n",
    "elif month=='March':\n",
    "    print(\"No of days:31\")\n",
    "elif month=='April':\n",
    "    print(\"No of days:30\")\n",
    "elif month=='May':\n",
    "    print(\"No of days:31\")\n",
    "elif month=='June':\n",
    "    print(\"No of days:30\")\n",
    "elif month=='July':\n",
    "    print(\"No of days:31\")\n",
    "elif month=='September':\n",
    "    print(\"No of days:30\")\n",
    "elif month=='October':\n",
    "    print(\"No of days:31\")\n",
    "elif month=='November':\n",
    "    print(\"No of days:30\")\n",
    "elif month=='December':\n",
    "    print(\"No of days:31\")\n",
    "else:\n",
    "    print(\"Invalid month name\")"
   ]
  },
  {
   "cell_type": "markdown",
   "metadata": {},
   "source": [
    "### Write a progam to find sum of two integers if the sum is between 15 to 20 return 20"
   ]
  },
  {
   "cell_type": "code",
   "execution_count": 15,
   "metadata": {},
   "outputs": [
    {
     "name": "stdout",
     "output_type": "stream",
     "text": [
      "9\n",
      "20\n"
     ]
    }
   ],
   "source": [
    "def sum(a,b):\n",
    "    c=a+b\n",
    "    if c>=15 and c<=20:\n",
    "        return 20\n",
    "    else:\n",
    "        return c\n",
    "\n",
    "print(sum(4,5))\n",
    "print(sum(10,6))"
   ]
  },
  {
   "cell_type": "markdown",
   "metadata": {},
   "source": [
    "### Write a program which will check the given input is integer or not (concept of try and except is used)"
   ]
  },
  {
   "cell_type": "code",
   "execution_count": 20,
   "metadata": {},
   "outputs": [
    {
     "name": "stdout",
     "output_type": "stream",
     "text": [
      "Enter stringabc44\n",
      "Entered string is not integer\n"
     ]
    }
   ],
   "source": [
    "a=input(\"Enter string\")\n",
    "try:\n",
    "    b=int(a)\n",
    "    print(\"Enter string is integer\")\n",
    "except ValueError:\n",
    "    print(\"Entered string is not integer\")\n",
    "    "
   ]
  },
  {
   "cell_type": "markdown",
   "metadata": {},
   "source": [
    "### Program to check whether the given tringle is equilatral , isosceles, of scalene"
   ]
  },
  {
   "cell_type": "code",
   "execution_count": 25,
   "metadata": {},
   "outputs": [
    {
     "name": "stdout",
     "output_type": "stream",
     "text": [
      "Enter three values of tringle\n",
      "3\n",
      "2\n",
      "5\n",
      "Tringle is scalene\n"
     ]
    }
   ],
   "source": [
    "print(\"Enter three length values of tringle\")\n",
    "a=int(input())\n",
    "b=int(input())\n",
    "c=int(input())\n",
    "if a==b==c:\n",
    "    print(\"Tringle is equlatral\")\n",
    "elif a!=b and a!=c and b!=c:\n",
    "    print(\"Tringle is scalene\")\n",
    "elif a==b or a==c or b==c:\n",
    "    print(\"Tringle is Isosceles\")"
   ]
  },
  {
   "cell_type": "markdown",
   "metadata": {},
   "source": [
    "### Program that read two number from user month and day and print season of that date and month"
   ]
  },
  {
   "cell_type": "code",
   "execution_count": 41,
   "metadata": {},
   "outputs": [
    {
     "name": "stdout",
     "output_type": "stream",
     "text": [
      "Enter month:Feburary\n",
      "Enter date:23\n",
      "Invalid month\n"
     ]
    }
   ],
   "source": [
    "summer=['february','march','april','may']\n",
    "rainy=['june','july','augest','september']\n",
    "winter=['october',\"november\",'december','janurary']\n",
    "\n",
    "month=input(\"Enter month:\")\n",
    "month=month.strip().lower()\n",
    "date=int(input(\"Enter date:\"))\n",
    "\n",
    "if month in summer:\n",
    "    if month=='february':\n",
    "        if date>=1 and date<=29:\n",
    "            print(\"Season:Summer\")\n",
    "        else:\n",
    "            print(\"Invalid date in february month\")\n",
    "    elif month=='march' or month=='may':\n",
    "        if date>=1 and date<=31:\n",
    "            print(\"Season:Summer\")\n",
    "        else:\n",
    "            print(\"Invalid date in March or may month\")\n",
    "    elif month=='april':\n",
    "        if date>=1 and date<=30:\n",
    "            print(\"Season:Summer\")\n",
    "        else:\n",
    "            print(\"Invalid date in April month\")\n",
    "if month in rainy:\n",
    "    if month=='june' or month=='augest':\n",
    "        if date>=1 and date<=30:\n",
    "            print(\"Season:Rainy\")\n",
    "        else:\n",
    "            print(\"Invalid date in february month\")\n",
    "    elif month=='july' or month=='september':\n",
    "        if date>=1 and date<=31:\n",
    "            print(\"Season:Rainy\")\n",
    "        else:\n",
    "            print(\"Invalid date in february month\")\n",
    "if month in winter:\n",
    "    if month=='october' or month=='december':\n",
    "        if date>=1 and date<=31:\n",
    "            print(\"Season:Winter\")\n",
    "        else:\n",
    "            print(\"Invalid date in february month\")\n",
    "    elif month=='november' or month=='janurary':\n",
    "        if date>=1 and date<=31:\n",
    "            print(\"Season:Winter\")\n",
    "        else:\n",
    "            print(\"Invalid date in february month\")\n",
    "else:\n",
    "    print(\"Invalid month\")"
   ]
  },
  {
   "cell_type": "markdown",
   "metadata": {},
   "source": [
    "### Program to disply astrological sign for given date of birth"
   ]
  },
  {
   "cell_type": "code",
   "execution_count": 44,
   "metadata": {},
   "outputs": [
    {
     "name": "stdout",
     "output_type": "stream",
     "text": [
      "Enter birthday:5\n",
      "Enter month of birth:february\n",
      "Your astrological sign is:Aquarius\n"
     ]
    }
   ],
   "source": [
    "birthday=int(input(\"Enter birthday:\"))\n",
    "month=input(\"Enter month of birth:\")\n",
    "month=month.lower()\n",
    "if month=='march' or month=='april':\n",
    "    if month=='march'and birthday>=21 and birthday<=31:\n",
    "        print(\"Your astrological sign is:Aries\")\n",
    "    elif month=='april' and birthday>=1 and birthday<=19:\n",
    "        print(\"Your astrological sign is:Aries\")\n",
    "elif month=='april' or month=='may':\n",
    "    if month=='april'and birthday>=20 and birthday<=30:\n",
    "        print(\"Your astrological sign is:Taurus\")\n",
    "    elif month=='may' and birthday>=1 and birthday<=20:\n",
    "        print(\"Your astrological sign is:Taurus\")\n",
    "elif month=='may' or month=='june':\n",
    "    if month=='may'and birthday>=21 and birthday<=31:\n",
    "        print(\"Your astrological sign is:Gemini\")\n",
    "    elif month=='june' and birthday>=1 and birthday<=20:\n",
    "        print(\"Your astrological sign is:Gemini\")\n",
    "elif month=='june' or month=='july':\n",
    "    if month=='june'and birthday>=20 and birthday<=30:\n",
    "        print(\"Your astrological sign is:Cancer\")\n",
    "    elif month=='july' and birthday>=1 and birthday<=22:\n",
    "        print(\"Your astrological sign is:Cancer\")\n",
    "elif month=='july' or month=='august':\n",
    "    if month=='july'and birthday>=23 and birthday<=31:\n",
    "        print(\"Your astrological sign is:Leo\")\n",
    "    elif month=='august' and birthday>=1 and birthday<=22:\n",
    "        print(\"Your astrological sign is:Leo\")\n",
    "elif month=='ausust' or month=='september':\n",
    "    if month=='august'and birthday>=23 and birthday<=30:\n",
    "        print(\"Your astrological sign is:Virgo\")\n",
    "    elif month=='september' and birthday>=1 and birthday<=22:\n",
    "        print(\"Your astrological sign is:Virgo\")\n",
    "elif month=='september' or month=='october':\n",
    "    if month=='september'and birthday>=23 and birthday<=31:\n",
    "        print(\"Your astrological sign is:Libra\")\n",
    "    elif month=='october' and birthday>=1 and birthday<=22:\n",
    "        print(\"Your astrological sign is:Libra\")\n",
    "elif month=='october' or month=='november':\n",
    "    if month=='october'and birthday>=23 and birthday<=30:\n",
    "        print(\"Your astrological sign is:Scorpio\")\n",
    "    elif month=='november' and birthday>=1 and birthday<=21:\n",
    "        print(\"Your astrological sign is:Scropio\")\n",
    "elif month=='november' or month=='december':\n",
    "    if month=='november'and birthday>=22 and birthday<=30:\n",
    "        print(\"Your astrological sign is:Sagittarians\")\n",
    "    elif month=='december' and birthday>=1 and birthday<=21:\n",
    "        print(\"Your astrological sign is:Sagittarians\")\n",
    "elif month=='december' or month=='january':\n",
    "    if month=='december'and birthday>=22 and birthday<=31:\n",
    "        print(\"Your astrological sign is:Capricorn\")\n",
    "    elif month=='january' and birthday>=1 and birthday<=19:\n",
    "        print(\"Your astrological sign is:Capricorn\")\n",
    "elif month=='january' or month=='february':\n",
    "    if month=='december'and birthday>=20 and birthday<=31:\n",
    "        print(\"Your astrological sign is:Aquarius\")\n",
    "    elif month=='february' and birthday>=1 and birthday<=18:\n",
    "        print(\"Your astrological sign is:Aquarius\")\n",
    "elif month=='february' or month=='march':\n",
    "    if month=='february'and birthday>=19 and birthday<=29:\n",
    "        print(\"Your astrological sign is:Aquarius\")\n",
    "    elif month=='march' and birthday>=1 and birthday<=20:\n",
    "        print(\"Your astrological sign is:Aquarius\")\n",
    "        \n",
    "\n",
    "\n",
    "\n",
    "\n",
    "\n",
    "\n",
    "        "
   ]
  },
  {
   "cell_type": "markdown",
   "metadata": {},
   "source": [
    "### Program to display chineies zodiac for given year in which you were born"
   ]
  },
  {
   "cell_type": "code",
   "execution_count": 55,
   "metadata": {},
   "outputs": [
    {
     "name": "stdout",
     "output_type": "stream",
     "text": [
      "Enter Birth Year:1973\n",
      "Your Chinies Zodic Sign:Snake\n"
     ]
    }
   ],
   "source": [
    "year=int(input(\"Enter Birth Year:\"))\n",
    "if (year-2000)%12==0:\n",
    "    sign='Dragon'\n",
    "elif (year-2000)%12==1:\n",
    "    sign='Snake'\n",
    "elif (year-2000)%12==2:\n",
    "    sing='Horse'\n",
    "elif (year-2000)%12==3:\n",
    "    sing='Sheep'\n",
    "elif (year-2000)%12==4:\n",
    "    sing='Monkey'\n",
    "elif (year-2000)%12==5:\n",
    "    sing='Roster'\n",
    "elif (year-2000)%12==6:\n",
    "    sing='Dog'\n",
    "elif (year-2000)%12==7:\n",
    "    sing='Pig'\n",
    "elif (year-2000)%12==8:\n",
    "    sing='Rat'\n",
    "elif (year-2000)%12==9:\n",
    "    sing='Ox'\n",
    "elif (year-2000)%12==10:\n",
    "    sing='Tiger'\n",
    "    \n",
    "print(\"Your Chinies Zodic Sign:\"+sign)"
   ]
  },
  {
   "cell_type": "markdown",
   "metadata": {},
   "source": [
    "### Program to calculate Mean of numbers"
   ]
  },
  {
   "cell_type": "code",
   "execution_count": 68,
   "metadata": {},
   "outputs": [
    {
     "name": "stdout",
     "output_type": "stream",
     "text": [
      "Enter three numbers:\n",
      "3\n",
      "2\n",
      "5\n",
      "2\n"
     ]
    }
   ],
   "source": [
    "print(\"Enter three numbers:\")\n",
    "a=int(input())\n",
    "b=int(input())\n",
    "c=int(input())\n",
    "l=[a,b,c]\n",
    "x=(len(l)//2)\n",
    "print(l[x])"
   ]
  },
  {
   "cell_type": "markdown",
   "metadata": {},
   "source": [
    "### program to print next day of given date "
   ]
  },
  {
   "cell_type": "code",
   "execution_count": 72,
   "metadata": {},
   "outputs": [
    {
     "name": "stdout",
     "output_type": "stream",
     "text": [
      "Enter year[yyyy]:25252\n",
      "Enter month[0-12]:12\n",
      "Date[1-31]:03\n",
      "Enter correct date which include year of 4 digit month between 1-12 and date cannot exceed 31\n"
     ]
    }
   ],
   "source": [
    "year=int(input(\"Enter year[yyyy]:\"))\n",
    "month=int(input(\"Enter month[0-12]:\"))\n",
    "date=int(input(\"Date[1-31]:\"))\n",
    "\n",
    "if len(str(year))==4 and month>=1 and month<=12 and date>=1 and date<=31:\n",
    "    if date==31:\n",
    "        date=1\n",
    "    else:\n",
    "        date=date+1\n",
    "    print(\"The Next Date is[yyyy-mm-dd]:\"+str(year)+\"-\"+str(month)+\"-\"+str(date))\n",
    "else:\n",
    "    print(\"Enter correct date which include year of 4 digit month between 1-12 and date cannot exceed 31\")"
   ]
  },
  {
   "cell_type": "markdown",
   "metadata": {},
   "source": [
    "###  Program to calculate sum and average of n integer continue take the input and exit on press 0 and show the result"
   ]
  },
  {
   "cell_type": "code",
   "execution_count": 101,
   "metadata": {},
   "outputs": [
    {
     "name": "stdout",
     "output_type": "stream",
     "text": [
      "Enter numbers:\n",
      "Press 0 to exit and show result\n",
      "3\n",
      "4\n",
      "5\n",
      "0\n",
      "Addition of entered numbers:12\n",
      "Average of entered numbers:4.0\n"
     ]
    }
   ],
   "source": [
    "import builtins as bu\n",
    "number=[]\n",
    "print(\"Enter numbers:\\nPress 0 to exit and show result\")\n",
    "while True:\n",
    "    n=int(input())\n",
    "    if n==0:\n",
    "        break\n",
    "    else:\n",
    "        number.append(n)\n",
    "print(\"Addition of entered numbers:\"+str(bu.sum(number)))\n",
    "print(\"Average of entered numbers:\"+str(bu.sum(number)/len(number)))"
   ]
  },
  {
   "cell_type": "markdown",
   "metadata": {},
   "source": [
    "### Program to print table of given number:"
   ]
  },
  {
   "cell_type": "code",
   "execution_count": 102,
   "metadata": {},
   "outputs": [
    {
     "name": "stdout",
     "output_type": "stream",
     "text": [
      "Enter number to get table:3\n",
      "3x1=3\n",
      "3x2=6\n",
      "3x3=9\n",
      "3x4=12\n",
      "3x5=15\n",
      "3x6=18\n",
      "3x7=21\n",
      "3x8=24\n",
      "3x9=27\n",
      "3x10=30\n"
     ]
    }
   ],
   "source": [
    "n=int(input(\"Enter number to get table:\"))\n",
    "for x in range(1,11):\n",
    "    print(str(n)+\"x\"+str(x)+\"=\"+str(x*n))"
   ]
  },
  {
   "cell_type": "markdown",
   "metadata": {},
   "source": [
    "### Write the program to print the number pattern"
   ]
  },
  {
   "cell_type": "code",
   "execution_count": 106,
   "metadata": {},
   "outputs": [
    {
     "name": "stdout",
     "output_type": "stream",
     "text": [
      "1 \n",
      "2 2 \n",
      "3 3 3 \n",
      "4 4 4 4 \n",
      "5 5 5 5 5 \n",
      "6 6 6 6 6 6 \n",
      "7 7 7 7 7 7 7 \n",
      "8 8 8 8 8 8 8 8 \n",
      "9 9 9 9 9 9 9 9 9 \n"
     ]
    }
   ],
   "source": [
    "for x in range(1,10):\n",
    "    for y in range(0,x):\n",
    "        print(x,end=\" \")\n",
    "    print()"
   ]
  },
  {
   "cell_type": "markdown",
   "metadata": {},
   "source": [
    "### Program to print alphabetical patter 'A'"
   ]
  },
  {
   "cell_type": "code",
   "execution_count": null,
   "metadata": {},
   "outputs": [],
   "source": []
  }
 ],
 "metadata": {
  "kernelspec": {
   "display_name": "Python 3",
   "language": "python",
   "name": "python3"
  },
  "language_info": {
   "codemirror_mode": {
    "name": "ipython",
    "version": 3
   },
   "file_extension": ".py",
   "mimetype": "text/x-python",
   "name": "python",
   "nbconvert_exporter": "python",
   "pygments_lexer": "ipython3",
   "version": "3.9.0"
  }
 },
 "nbformat": 4,
 "nbformat_minor": 4
}
