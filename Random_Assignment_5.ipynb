{
 "cells": [
  {
   "cell_type": "markdown",
   "metadata": {},
   "source": [
    "### Python Program to Count the Number of Vowels Present in a String using Sets\n",
    "### V.1.0 Using for loop"
   ]
  },
  {
   "cell_type": "code",
   "execution_count": 2,
   "metadata": {},
   "outputs": [
    {
     "name": "stdout",
     "output_type": "stream",
     "text": [
      "Enter the string:sameer\n",
      "Number of vovel in string:3\n"
     ]
    }
   ],
   "source": [
    "input_string=input('Enter the string:')\n",
    "vovel_count=0\n",
    "for x in input_string:\n",
    "    if x.lower() in ['a','e','o','u','i']:\n",
    "        vovel_count+=1\n",
    "print(\"Number of vovel in string:{0}\".format(vovel_count))"
   ]
  },
  {
   "cell_type": "markdown",
   "metadata": {},
   "source": [
    "### V.1.1 Using for comprehension"
   ]
  },
  {
   "cell_type": "code",
   "execution_count": 4,
   "metadata": {},
   "outputs": [
    {
     "name": "stdout",
     "output_type": "stream",
     "text": [
      "Enter the string:sameer\n",
      "3\n"
     ]
    }
   ],
   "source": [
    "input_string=input('Enter the string:')\n",
    "vovel_list=[x for x in input_string if x.lower() in ['a','e','i','o','u']]\n",
    "print(len(vovel_list))"
   ]
  },
  {
   "cell_type": "markdown",
   "metadata": {},
   "source": [
    "### V.1.2 Using lambda function and filter "
   ]
  },
  {
   "cell_type": "code",
   "execution_count": 15,
   "metadata": {},
   "outputs": [
    {
     "name": "stdout",
     "output_type": "stream",
     "text": [
      "Enter the string:sameer shinde\n",
      "5\n"
     ]
    }
   ],
   "source": [
    "input_string=input('Enter the string:')\n",
    "vovle_list=list(filter(lambda x:x.lower() in ['a','e','i','o','u'],input_string))  #vvoel_list contains list of all vovvel using lambda\n",
    "                    #lambda function name x is argument: x.lower() in [a,e,i,o,u] is function body same as if x.lower in a,e,o,u,i and the orginal paramter to lambda is input_string\n",
    "                    #filter only store the element which matches the contrains and convert the filter object into list and append it to vovel_list\n",
    "print(len(vovle_list))"
   ]
  },
  {
   "cell_type": "markdown",
   "metadata": {},
   "source": [
    "### Python Program to Check Common Letters in Two Input Strings\n",
    "### V.1.0 Using for loop"
   ]
  },
  {
   "cell_type": "code",
   "execution_count": 55,
   "metadata": {},
   "outputs": [
    {
     "name": "stdout",
     "output_type": "stream",
     "text": [
      "Enter string 1:sameer shinde\n",
      "Enter string 2:sam\n",
      "['s', 'a', 'm']\n",
      "sam\n"
     ]
    }
   ],
   "source": [
    "string1_input=input('Enter string 1:')\n",
    "string2_input=input('Enter string 2:')\n",
    "comman_list=[]\n",
    "for x in string1_input:\n",
    "    count1=string1_input.count(x)\n",
    "    count2=string2_input.count(x)\n",
    "    #print('word:{0}'.format(count1))\n",
    "    #print('word1:{0}'.format(count2))\n",
    "    if count1>0 and count2>0:\n",
    "        if count1==count2 and x*count1 not in comman_list:\n",
    "            word=x*count1\n",
    "            comman_list.append(word)\n",
    "        elif count1>count2 and x*count2 not in comman_list:\n",
    "            #print('true')\n",
    "            word=x*count2\n",
    "            comman_list.append(word)\n",
    "        elif count2>count1 and x*count1 not in comman_list:\n",
    "            word=x*count1\n",
    "            comman_list.append(word)\n",
    "sorted(comman_list)\n",
    "print(comman_list)\n",
    "print(\"\".join(comman_list))"
   ]
  },
  {
   "cell_type": "markdown",
   "metadata": {},
   "source": [
    "### Python Program that Displays which Letters are in the First String but not in the Second\n",
    "### V.1.0 Using for loop"
   ]
  },
  {
   "cell_type": "code",
   "execution_count": 56,
   "metadata": {},
   "outputs": [
    {
     "name": "stdout",
     "output_type": "stream",
     "text": [
      "Enter first string:sameer\n",
      "Enter second string:shinde\n",
      "a\n",
      "m\n",
      "r\n"
     ]
    }
   ],
   "source": [
    "first_string=input('Enter first string:')\n",
    "second_string=input('Enter second string:')\n",
    "for x in first_string:\n",
    "    if x not in second_string:\n",
    "        print(x)"
   ]
  },
  {
   "cell_type": "markdown",
   "metadata": {},
   "source": [
    "### V.1.1.Using comprehension"
   ]
  },
  {
   "cell_type": "code",
   "execution_count": 57,
   "metadata": {},
   "outputs": [
    {
     "name": "stdout",
     "output_type": "stream",
     "text": [
      "Enter first string:sameer\n",
      "Enter second string:shinde\n",
      "['a', 'm', 'r']\n"
     ]
    }
   ],
   "source": [
    "first_string=input('Enter first string:')\n",
    "second_string=input('Enter second string:')\n",
    "list_of_character_only_present_in_firststring=[x for x in first_string if x not in second_string]\n",
    "print(list_of_character_only_present_in_firststring)"
   ]
  },
  {
   "cell_type": "markdown",
   "metadata": {},
   "source": [
    "### V.1.2 Using lambda function and filter function"
   ]
  },
  {
   "cell_type": "code",
   "execution_count": 59,
   "metadata": {},
   "outputs": [
    {
     "name": "stdout",
     "output_type": "stream",
     "text": [
      "Enter first string:sameer\n",
      "Enter second string:shinde\n",
      "['a', 'm', 'r']\n"
     ]
    }
   ],
   "source": [
    "first_string=input('Enter first string:')\n",
    "second_string=input('Enter second string:')\n",
    "new_list=list(filter(lambda x: x not in second_string,first_string))\n",
    "print(new_list)"
   ]
  },
  {
   "cell_type": "markdown",
   "metadata": {},
   "source": [
    "### Python Program that Displays which Letters are Present in Both the Strings\n",
    "### V.1.0 Using for loop"
   ]
  },
  {
   "cell_type": "code",
   "execution_count": 65,
   "metadata": {},
   "outputs": [
    {
     "name": "stdout",
     "output_type": "stream",
     "text": [
      "Enter first string:sameer\n",
      "Enter second string:shinde\n",
      "s\n",
      "e\n"
     ]
    }
   ],
   "source": [
    "first_string=input('Enter first string:')\n",
    "second_string=input('Enter second string:')\n",
    "comman_char=[]\n",
    "for x in first_string:\n",
    "    if x in second_string and x not in comman_char:\n",
    "        comman_char.append(x)\n",
    "        print(x)"
   ]
  },
  {
   "cell_type": "markdown",
   "metadata": {},
   "source": [
    "### V1.1 Using comprehension"
   ]
  },
  {
   "cell_type": "code",
   "execution_count": 68,
   "metadata": {},
   "outputs": [
    {
     "name": "stdout",
     "output_type": "stream",
     "text": [
      "Enter first string:samer\n",
      "Enter second string:shinde\n",
      "['s', 'e']\n"
     ]
    }
   ],
   "source": [
    "first_string=input('Enter first string:')\n",
    "second_string=input('Enter second string:')\n",
    "comman_string=[x for x in first_string if x in second_string]\n",
    "print(list(set(comman_string)))"
   ]
  },
  {
   "cell_type": "markdown",
   "metadata": {},
   "source": [
    "### V.1.2 Using Lambda function and filter"
   ]
  },
  {
   "cell_type": "code",
   "execution_count": 71,
   "metadata": {},
   "outputs": [
    {
     "name": "stdout",
     "output_type": "stream",
     "text": [
      "Enter first string:sameer\n",
      "Enter second string:shinde\n",
      "['s', 'e']\n"
     ]
    }
   ],
   "source": [
    "first_string=input('Enter first string:')\n",
    "second_string=input('Enter second string:')\n",
    "comman_string=list(filter(lambda x:x in second_string,first_string))\n",
    "print(list(set(comman_string)))"
   ]
  },
  {
   "cell_type": "markdown",
   "metadata": {},
   "source": [
    "### Python Program that Displays which Letters are in the Two Strings but not in Both"
   ]
  },
  {
   "cell_type": "code",
   "execution_count": 94,
   "metadata": {
    "scrolled": true
   },
   "outputs": [
    {
     "name": "stdout",
     "output_type": "stream",
     "text": [
      "Enter first string:sam\n",
      "Enter second string:ram\n",
      "['s', 'r']\n"
     ]
    }
   ],
   "source": [
    "string_first=input('Enter first string:')\n",
    "string_second=input('Enter second string:')\n",
    "comman_element=[x for x in string_first if x in string_second]\n",
    "unique_element=[]\n",
    "for x in string_first:\n",
    "    if x not in comman_element and x not in unique_element:\n",
    "        unique_element.append(x)\n",
    "for x in string_second:\n",
    "    if x not in comman_element and x not in unique_element:\n",
    "        unique_element.append(x)\n",
    "print(unique_element)"
   ]
  },
  {
   "cell_type": "code",
   "execution_count": null,
   "metadata": {},
   "outputs": [],
   "source": []
  },
  {
   "cell_type": "code",
   "execution_count": null,
   "metadata": {},
   "outputs": [],
   "source": []
  }
 ],
 "metadata": {
  "kernelspec": {
   "display_name": "Python 3",
   "language": "python",
   "name": "python3"
  },
  "language_info": {
   "codemirror_mode": {
    "name": "ipython",
    "version": 3
   },
   "file_extension": ".py",
   "mimetype": "text/x-python",
   "name": "python",
   "nbconvert_exporter": "python",
   "pygments_lexer": "ipython3",
   "version": "3.9.0"
  }
 },
 "nbformat": 4,
 "nbformat_minor": 4
}
