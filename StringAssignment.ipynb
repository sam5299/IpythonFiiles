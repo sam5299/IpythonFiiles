{
 "cells": [
  {
   "cell_type": "markdown",
   "metadata": {},
   "source": [
    "### Program to calculate length of string"
   ]
  },
  {
   "cell_type": "code",
   "execution_count": 1,
   "metadata": {},
   "outputs": [
    {
     "name": "stdout",
     "output_type": "stream",
     "text": [
      "Enter any String:sameer\n",
      "Length of String:6\n"
     ]
    }
   ],
   "source": [
    "s=input(\"Enter any String:\")\n",
    "print(\"Length of String:\"+str(len(s)))"
   ]
  },
  {
   "cell_type": "markdown",
   "metadata": {},
   "source": [
    "### Check whether string is pelindrom or not"
   ]
  },
  {
   "cell_type": "code",
   "execution_count": 11,
   "metadata": {},
   "outputs": [
    {
     "name": "stdout",
     "output_type": "stream",
     "text": [
      "Enter any string:nAyAn\n",
      "String is pelindrom\n"
     ]
    }
   ],
   "source": [
    "s=input(\"Enter any string:\")\n",
    "s=s.lower()\n",
    "b=[]\n",
    "for x in range(len(s)-1,-1,-1):\n",
    "    b.append(s[x])\n",
    "b=\"\".join(b)\n",
    "if s==b:\n",
    "    print(\"String is pelindrom\")\n",
    "else:\n",
    "    print(\"String is not pelinderom\")"
   ]
  },
  {
   "cell_type": "markdown",
   "metadata": {},
   "source": [
    "### Write a program to get string made of frist string 1st two character and last string last two char and if length of string is less than two then print the string of same character"
   ]
  },
  {
   "cell_type": "code",
   "execution_count": 43,
   "metadata": {},
   "outputs": [
    {
     "name": "stdout",
     "output_type": "stream",
     "text": [
      "Enter first string:s\n",
      "ssss\n"
     ]
    }
   ],
   "source": [
    "s=input(\"Enter first string:\")\n",
    "if len(s)<=2:\n",
    "    if len(s)==1:\n",
    "        print(s*4)\n",
    "    else:\n",
    "        print(s*2)\n",
    "else:\n",
    "    str1=s[-2:]\n",
    "    str2=s[0:2]\n",
    "    print(\"Combined String is:\"+(str2+str1))\n",
    "\n"
   ]
  },
  {
   "cell_type": "markdown",
   "metadata": {},
   "source": [
    "### Write a program to get a string from a given string where all occurenace of its first character replaced with $ is rest of string"
   ]
  },
  {
   "cell_type": "code",
   "execution_count": 48,
   "metadata": {},
   "outputs": [
    {
     "name": "stdout",
     "output_type": "stream",
     "text": [
      "restart\n",
      "resta$t\n"
     ]
    }
   ],
   "source": [
    "s=input()\n",
    "newstr=[]\n",
    "first=s[0:1]\n",
    "newstr.append(first)\n",
    "for x in range(1,len(s)):\n",
    "    if s[x]==first:\n",
    "        newstr.append('$')\n",
    "    else:\n",
    "        newstr.append(s[x])\n",
    "newstr=\"\".join(newstr)\n",
    "print(newstr)"
   ]
  },
  {
   "cell_type": "markdown",
   "metadata": {},
   "source": [
    "### Write a program to get single string from two given string seperated by space and swap the first two character of each string"
   ]
  },
  {
   "cell_type": "code",
   "execution_count": 2,
   "metadata": {},
   "outputs": [
    {
     "name": "stdout",
     "output_type": "stream",
     "text": [
      "Enter String:sameer,ramesh,shinde\n",
      "sameer ramesh shinde"
     ]
    }
   ],
   "source": [
    "a=input(\"Enter String:\")\n",
    "for x in a:\n",
    "    if x==',':\n",
    "        print(\" \",end=\"\")\n",
    "    else:\n",
    "        print(x,end=\"\")\n"
   ]
  },
  {
   "cell_type": "markdown",
   "metadata": {},
   "source": [
    "### Write a program to add ing at the end of string if it doesn't end with ing if it end with ing replace add ly to strin g if string length is less than 3 the leave it unchaged"
   ]
  },
  {
   "cell_type": "code",
   "execution_count": 11,
   "metadata": {},
   "outputs": [
    {
     "name": "stdout",
     "output_type": "stream",
     "text": [
      "Enter any string:sa\n",
      "sa\n"
     ]
    }
   ],
   "source": [
    "a=input(\"Enter any string:\")\n",
    "if len(a)<3:\n",
    "    print(a)\n",
    "else:\n",
    "    last=a[-3::1]\n",
    "    if last=='ing':\n",
    "        print(a+'ly')\n",
    "    else:\n",
    "        print(a+'ing')"
   ]
  },
  {
   "cell_type": "markdown",
   "metadata": {},
   "source": [
    "### Write a program to find first occurance of not and if not is followed by poor then replace all the not poor with good"
   ]
  },
  {
   "cell_type": "code",
   "execution_count": 27,
   "metadata": {},
   "outputs": [
    {
     "name": "stdout",
     "output_type": "stream",
     "text": [
      "Enter any string:the music is not poor\n",
      "the music is good\n"
     ]
    }
   ],
   "source": [
    "s=input(\"Enter any string:\")\n",
    "x=s.find('not')\n",
    "y=s.find('poor')\n",
    "if y-(x+1)>=0:\n",
    "    print(s[0:x]+\"good\")"
   ]
  },
  {
   "cell_type": "markdown",
   "metadata": {},
   "source": [
    "### Write a program which takes list of words and returns the length of longest one"
   ]
  },
  {
   "cell_type": "code",
   "execution_count": 32,
   "metadata": {},
   "outputs": [
    {
     "name": "stdout",
     "output_type": "stream",
     "text": [
      "Enter how many words:3\n",
      "sam\n",
      "sameer\n",
      "sameershinde\n",
      "Length of longest string is:12 and word is:sameershinde\n"
     ]
    }
   ],
   "source": [
    "x=[]\n",
    "n=int(input(\"Enter how many words:\"))\n",
    "for i in range(0,n):\n",
    "    #p=input()\n",
    "    x.append(input())\n",
    "max=0\n",
    "for st in x:\n",
    "    if len(st)>max:\n",
    "        max=len(st)\n",
    "name=[p for p in x if len(p)==max]\n",
    "print(\"Length of longest string is:\"+str(max)+\" and word is:\"+name[0])"
   ]
  },
  {
   "cell_type": "markdown",
   "metadata": {},
   "source": [
    "### Write a program to remove n'th character from non empty string"
   ]
  },
  {
   "cell_type": "code",
   "execution_count": 34,
   "metadata": {},
   "outputs": [
    {
     "name": "stdout",
     "output_type": "stream",
     "text": [
      "Enter String:sameer\n",
      "Enter index which is to be removed:3\n",
      "samer"
     ]
    }
   ],
   "source": [
    "st=input(\"Enter String:\")\n",
    "n=int(input(\"Enter index which is to be removed:\"))\n",
    "new=[]\n",
    "for x in range(0,len(st)):\n",
    "    if x==n:\n",
    "        print(\"\",end=\"\")\n",
    "    else:\n",
    "        print(st[x],end=\"\")"
   ]
  },
  {
   "cell_type": "markdown",
   "metadata": {},
   "source": [
    "### Write program to change the given string into new string where exchange first and last character"
   ]
  },
  {
   "cell_type": "code",
   "execution_count": 45,
   "metadata": {},
   "outputs": [
    {
     "name": "stdout",
     "output_type": "stream",
     "text": [
      "Enter string:sameer\n",
      "String after exchange:ramees\n"
     ]
    }
   ],
   "source": [
    "n=input('Enter string:')\n",
    "first=n[0:1]\n",
    "last=n[-1:-2:-1]\n",
    "new=[last]\n",
    "for x in range(1,len(n)-1):\n",
    "    new.append(n[x])\n",
    "new.append(first)\n",
    "final=\"\".join(new)\n",
    "print(\"String after exchange:\"+final)"
   ]
  },
  {
   "cell_type": "markdown",
   "metadata": {},
   "source": [
    "###  Write a program to remove the character which having odd index"
   ]
  },
  {
   "cell_type": "code",
   "execution_count": 46,
   "metadata": {},
   "outputs": [
    {
     "name": "stdout",
     "output_type": "stream",
     "text": [
      "Enter String:sameer\n",
      "sme\n"
     ]
    }
   ],
   "source": [
    "st=input(\"Enter String:\")\n",
    "new=[]\n",
    "for x in range(0,len(st)):\n",
    "    if x%2==0:\n",
    "        new.append(st[x])\n",
    "final=\"\".join(new)\n",
    "print(final)"
   ]
  },
  {
   "cell_type": "markdown",
   "metadata": {},
   "source": [
    "### Write a program to count occurance of each word in sentense"
   ]
  },
  {
   "cell_type": "code",
   "execution_count": 73,
   "metadata": {},
   "outputs": [
    {
     "name": "stdout",
     "output_type": "stream",
     "text": [
      "Enter String:sameer is sameer\n",
      "Word: sameer occured: 2 Times\n",
      "Word: is occured: 1 Times\n"
     ]
    }
   ],
   "source": [
    "st=input(\"Enter String:\")\n",
    "arr=st.split()\n",
    "occ=0\n",
    "d={}\n",
    "for x in arr:\n",
    "    for y in arr:\n",
    "        if x==y:\n",
    "            occ+=1\n",
    "    if d.get(x)!='None':\n",
    "        d.update({x:occ})\n",
    "    occ=0\n",
    "for key, value in d.items():\n",
    "    print(\"Word: \"+key+\" occured: \"+str(value)+\" Times\")"
   ]
  },
  {
   "cell_type": "markdown",
   "metadata": {},
   "source": [
    "### Write a program which takes input string from user and display it in upper and lower case"
   ]
  },
  {
   "cell_type": "code",
   "execution_count": 78,
   "metadata": {},
   "outputs": [
    {
     "name": "stdout",
     "output_type": "stream",
     "text": [
      "Enter Stringsameer\n",
      "String in upper case:SAMEER\n",
      "String in lower case:sameer\n"
     ]
    }
   ],
   "source": [
    "s=input(\"Enter String\")\n",
    "print(\"String in upper case:\"+s.upper())\n",
    "print(\"String in lower case:\"+s.lower())"
   ]
  },
  {
   "cell_type": "markdown",
   "metadata": {},
   "source": [
    "### Write a program which takes comma seprated list of words and print the unique words in assending order"
   ]
  },
  {
   "cell_type": "code",
   "execution_count": 86,
   "metadata": {},
   "outputs": [
    {
     "name": "stdout",
     "output_type": "stream",
     "text": [
      "Enter list:black,red,green,red,pink,black,gray\n",
      "black gray green pink red "
     ]
    }
   ],
   "source": [
    "s=input(\"Enter list:\")\n",
    "b=s.split(\",\")\n",
    "c=[]\n",
    "for x in b:\n",
    "    if x not in c:\n",
    "        c.append(x)\n",
    "c=sorted(c)\n",
    "for x in c:\n",
    "    print(x,end=\" \")"
   ]
  },
  {
   "cell_type": "markdown",
   "metadata": {},
   "source": [
    "### Write a function which will add HTML tags to words"
   ]
  },
  {
   "cell_type": "code",
   "execution_count": 1,
   "metadata": {},
   "outputs": [
    {
     "name": "stdout",
     "output_type": "stream",
     "text": [
      "Enter html tag:h1\n",
      "Enter tag content:hii\n",
      "<h1>hii</h1>\n"
     ]
    }
   ],
   "source": [
    "tag=input(\"Enter html tag:\")\n",
    "tagc=input(\"Enter tag content:\")\n",
    "def addtag(t,tc):\n",
    "    print(\"<\"+tag+\">\"+tagc+\"</\"+tag+\">\")\n",
    "addtag(tag,tagc)"
   ]
  },
  {
   "cell_type": "markdown",
   "metadata": {},
   "source": [
    "###  Write the program to insert the string in middle"
   ]
  },
  {
   "cell_type": "code",
   "execution_count": 15,
   "metadata": {},
   "outputs": [
    {
     "name": "stdout",
     "output_type": "stream",
     "text": [
      "\n",
      "[[sameer]]\n",
      "<<<sameer>>>"
     ]
    }
   ],
   "source": [
    "def insertstr(patter,string):\n",
    "    mid=len(patter)/2\n",
    "    print()\n",
    "    for i in range(0,len(patter)):\n",
    "        if i==mid:\n",
    "            print(string,end=\"\")\n",
    "            print(patter[i],end=\"\")\n",
    "        else:\n",
    "            print(patter[i],end=\"\")\n",
    "insertstr('[[]]','sameer')\n",
    "insertstr('<<<>>>','sameer')"
   ]
  },
  {
   "cell_type": "markdown",
   "metadata": {},
   "source": [
    "### Write a function which print the last two character of string four times"
   ]
  },
  {
   "cell_type": "code",
   "execution_count": 35,
   "metadata": {},
   "outputs": [
    {
     "name": "stdout",
     "output_type": "stream",
     "text": [
      "urururur\n",
      "onononon\n",
      "sa\n"
     ]
    }
   ],
   "source": [
    "def printfour(string):\n",
    "    if len(string)>2:\n",
    "        char=string[-2::1] #start from -2 till end of string\n",
    "        print(char*4)\n",
    "    else:\n",
    "        print(string)\n",
    "printfour(\"Printfour\")\n",
    "printfour('Python')\n",
    "printfour('sa')"
   ]
  },
  {
   "cell_type": "markdown",
   "metadata": {},
   "source": [
    "### Write a function which print first three charcter of string passed to it and if length of string is less than 3 print orignal string as it is"
   ]
  },
  {
   "cell_type": "code",
   "execution_count": 1,
   "metadata": {},
   "outputs": [
    {
     "name": "stdout",
     "output_type": "stream",
     "text": [
      "Sam\n",
      "sa\n",
      "sam\n"
     ]
    }
   ],
   "source": [
    "def firstthree(string):\n",
    "    if len(string)>2:\n",
    "        char=string[0:3]\n",
    "        print(char)\n",
    "    else:\n",
    "        print(string)\n",
    "firstthree('Sameer')\n",
    "firstthree('sa')\n",
    "firstthree('sam')"
   ]
  },
  {
   "cell_type": "markdown",
   "metadata": {},
   "source": [
    "### Write a function to reverse the string if its length is multiple of 4 else retrun orignal string"
   ]
  },
  {
   "cell_type": "code",
   "execution_count": 4,
   "metadata": {},
   "outputs": [
    {
     "name": "stdout",
     "output_type": "stream",
     "text": [
      "emas\n"
     ]
    }
   ],
   "source": [
    "def reverse(string):\n",
    "    if len(string)%4==0:\n",
    "        string=string[::-1]\n",
    "        return string\n",
    "    else:\n",
    "        return string\n",
    "x=reverse('same')\n",
    "print(x)"
   ]
  },
  {
   "cell_type": "markdown",
   "metadata": {},
   "source": [
    "### Write a python function to convert a given string into upper case if it contains at least two Upper case character in first 4 character"
   ]
  },
  {
   "cell_type": "code",
   "execution_count": 22,
   "metadata": {},
   "outputs": [
    {
     "name": "stdout",
     "output_type": "stream",
     "text": [
      "SAMEER\n"
     ]
    }
   ],
   "source": [
    "def douppar(string):\n",
    "    if len(string)>=4:\n",
    "        b=string[0:4]\n",
    "        count=0\n",
    "        for x in b:\n",
    "            if x.isupper():\n",
    "                count+=1\n",
    "        if count>=2:\n",
    "            return string.upper()\n",
    "        else:\n",
    "            return string\n",
    "x=douppar(\"SamEer\")\n",
    "print(x)"
   ]
  },
  {
   "cell_type": "markdown",
   "metadata": {},
   "source": [
    "### Write a python program to sort the strings in lexicographically"
   ]
  },
  {
   "cell_type": "code",
   "execution_count": 29,
   "metadata": {},
   "outputs": [
    {
     "name": "stdout",
     "output_type": "stream",
     "text": [
      "Enter String:zz aa bb pp r q c s\n",
      "aa\n",
      "bb\n",
      "c\n",
      "pp\n",
      "q\n",
      "r\n",
      "s\n",
      "zz\n"
     ]
    }
   ],
   "source": [
    "a=input(\"Enter String:\")\n",
    "b=a.split()\n",
    "for x in sorted(b):\n",
    "    print(x)"
   ]
  },
  {
   "cell_type": "markdown",
   "metadata": {},
   "source": [
    "### Write a program to remove new line from in python"
   ]
  },
  {
   "cell_type": "code",
   "execution_count": 50,
   "metadata": {},
   "outputs": [
    {
     "name": "stdout",
     "output_type": "stream",
     "text": [
      "Enter string with \\n character:sameer \\n shinde\n",
      "7\n",
      "sameer"
     ]
    }
   ],
   "source": [
    "string=input(\"Enter string with \\\\n character:\")\n",
    "x=string.find('\\\\n')\n",
    "print(x)\n",
    "for p in range(0,x-1):\n",
    "    print(string[p],end=\"\")"
   ]
  },
  {
   "cell_type": "markdown",
   "metadata": {},
   "source": [
    "### Write a program to check whether the string start with perticular character or not"
   ]
  },
  {
   "cell_type": "code",
   "execution_count": 53,
   "metadata": {},
   "outputs": [
    {
     "name": "stdout",
     "output_type": "stream",
     "text": [
      "Enter string:sameer\n",
      "String didn't start with the character a\n"
     ]
    }
   ],
   "source": [
    "string=input(\"Enter string:\")\n",
    "char='a'\n",
    "if char==string[0:1]:\n",
    "    print(\"String starts with the character a\")\n",
    "else:\n",
    "    print(\"String didn't start with the character a\")"
   ]
  },
  {
   "cell_type": "markdown",
   "metadata": {},
   "source": [
    "### Write a python program to convert plain text into cieser cyper"
   ]
  },
  {
   "cell_type": "code",
   "execution_count": 74,
   "metadata": {},
   "outputs": [
    {
     "name": "stdout",
     "output_type": "stream",
     "text": [
      "Enter plain text:sameer\n",
      "Ceasers Text of plain text:pxjbbo\n"
     ]
    }
   ],
   "source": [
    "ptext=input(\"Enter plain text:\")\n",
    "ptext=ptext.lower()\n",
    "ctext=[]\n",
    "for x in ptext:\n",
    "    if x in ['a','b','c']:\n",
    "        ctext.append(chr(ord(x)+23))\n",
    "    elif x in ['x','y','z']:\n",
    "        ctext.append(chr(ord(x)-23))\n",
    "    else:\n",
    "        ctext.append(chr(ord(x)-3))\n",
    "ceaser=\"\".join(ctext)\n",
    "print(\"Ceasers Text of plain text:\"+ceaser)"
   ]
  },
  {
   "cell_type": "markdown",
   "metadata": {},
   "source": [
    "### Write a program to display formated text as output of width[50]"
   ]
  },
  {
   "cell_type": "code",
   "execution_count": 79,
   "metadata": {},
   "outputs": [
    {
     "name": "stdout",
     "output_type": "stream",
     "text": [
      "ENter string:sam\n",
      "***********************************************sam\n"
     ]
    }
   ],
   "source": [
    "string=input(\"ENter string:\")\n",
    "string=\"{0:*>50}\".format(string)\n",
    "print(string)"
   ]
  },
  {
   "cell_type": "markdown",
   "metadata": {},
   "source": [
    "### Write a python program to remove external identation any string ."
   ]
  },
  {
   "cell_type": "code",
   "execution_count": 93,
   "metadata": {},
   "outputs": [
    {
     "name": "stdout",
     "output_type": "stream",
     "text": [
      "\n",
      "sameer\n",
      "ramesh\n",
      "shinde\n",
      "\n"
     ]
    }
   ],
   "source": [
    "import textwrap\n",
    "sample_text = '''\n",
    "        sameer\n",
    "        ramesh\n",
    "        shinde\n",
    "    '''\n",
    "b=textwrap.dedent(sample_text)       #import textwrap and use textwrap.dedent() function to remove identation\n",
    "print(b)"
   ]
  },
  {
   "cell_type": "markdown",
   "metadata": {},
   "source": [
    "### Write a python program to add prefex to all the lines in string"
   ]
  },
  {
   "cell_type": "code",
   "execution_count": 96,
   "metadata": {},
   "outputs": [
    {
     "name": "stdout",
     "output_type": "stream",
     "text": [
      "Enter string:Modern College Pune\n",
      "preModern preCollege prePune\n"
     ]
    }
   ],
   "source": [
    "string=input(\"Enter string:\")\n",
    "li=string.split()\n",
    "newli=[\"pre\"+x for x in li]\n",
    "preword=\" \".join(newli)\n",
    "print(preword)"
   ]
  },
  {
   "cell_type": "markdown",
   "metadata": {},
   "source": [
    "### Write a program to add indentation to the first line"
   ]
  },
  {
   "cell_type": "code",
   "execution_count": 97,
   "metadata": {},
   "outputs": [
    {
     "name": "stdout",
     "output_type": "stream",
     "text": [
      "will do it latter\n"
     ]
    }
   ],
   "source": [
    "print(\"will do it latter\")"
   ]
  },
  {
   "cell_type": "markdown",
   "metadata": {},
   "source": [
    "### Write a program to print following floating number upto 2 decimal places"
   ]
  },
  {
   "cell_type": "code",
   "execution_count": 107,
   "metadata": {},
   "outputs": [
    {
     "name": "stdout",
     "output_type": "stream",
     "text": [
      "Enter any floating point number-44.333433\n",
      "-44.33\n"
     ]
    }
   ],
   "source": [
    "a=float(input(\"Enter any floating point number\"))\n",
    "b=round(a,2)\n",
    "else:\n",
    "    print(b)"
   ]
  },
  {
   "cell_type": "markdown",
   "metadata": {},
   "source": [
    "### Write a program to print following floating number with sign"
   ]
  },
  {
   "cell_type": "code",
   "execution_count": 108,
   "metadata": {},
   "outputs": [
    {
     "name": "stdout",
     "output_type": "stream",
     "text": [
      "Enter floating point number:4.2322\n",
      "+4.23\n"
     ]
    }
   ],
   "source": [
    "import builtins as built\n",
    "a=float(input(\"Enter floating point number:\"))\n",
    "b=round(a,2)\n",
    "if b>0:\n",
    "    print(\"+\"+built.str(b))\n",
    "else:\n",
    "    print(b)"
   ]
  },
  {
   "cell_type": "markdown",
   "metadata": {},
   "source": [
    "### Write a program to print following floating number with no decimal"
   ]
  },
  {
   "cell_type": "code",
   "execution_count": 109,
   "metadata": {},
   "outputs": [
    {
     "name": "stdout",
     "output_type": "stream",
     "text": [
      "Enter floating point number:3.44\n",
      "3\n"
     ]
    }
   ],
   "source": [
    "a=float(input(\"Enter floating point number:\"))\n",
    "print(int(a))"
   ]
  },
  {
   "cell_type": "markdown",
   "metadata": {},
   "source": [
    "### Write a progarm to print integer with adding 0 on left side with the specidfied width"
   ]
  },
  {
   "cell_type": "code",
   "execution_count": 119,
   "metadata": {},
   "outputs": [
    {
     "name": "stdout",
     "output_type": "stream",
     "text": [
      "Enter integer:2\n",
      "Enter width19\n",
      "0000000000000000002\n"
     ]
    }
   ],
   "source": [
    "a=int(input(\"Enter integer:\"))\n",
    "w=int(input(\"Enter width\"))\n",
    "for x in range(0,w-1):\n",
    "    print(\"0\",end=\"\")\n",
    "print(a)"
   ]
  },
  {
   "cell_type": "markdown",
   "metadata": {},
   "source": [
    "### Write a program to print the follwoing number with * on right side of spedified width"
   ]
  },
  {
   "cell_type": "code",
   "execution_count": 123,
   "metadata": {},
   "outputs": [
    {
     "name": "stdout",
     "output_type": "stream",
     "text": [
      "Enter integer:2\n",
      "Enter width:10\n",
      "2*********"
     ]
    }
   ],
   "source": [
    "a=int(input(\"Enter integer:\"))\n",
    "w=int(input(\"Enter width:\"))\n",
    "print(a,end=\"\")\n",
    "for x in range(0,w-1):\n",
    "    print(\"*\",end=\"\")"
   ]
  },
  {
   "cell_type": "markdown",
   "metadata": {},
   "source": [
    "### Write a program to print number with comma seprator"
   ]
  },
  {
   "cell_type": "code",
   "execution_count": 126,
   "metadata": {},
   "outputs": [
    {
     "name": "stdout",
     "output_type": "stream",
     "text": [
      "Enter any number:30000\n",
      "30,000\n"
     ]
    }
   ],
   "source": [
    "n=int(input(\"Enter any number:\"))\n",
    "print(format(n,\",\"))"
   ]
  },
  {
   "cell_type": "markdown",
   "metadata": {},
   "source": [
    "### Write a program to format number with percentage"
   ]
  },
  {
   "cell_type": "code",
   "execution_count": 131,
   "metadata": {},
   "outputs": [
    {
     "name": "stdout",
     "output_type": "stream",
     "text": [
      "Enter any number:1\n",
      "100.000000%\n"
     ]
    }
   ],
   "source": [
    "n=int(input(\"Enter any number:\"))\n",
    "print(format(n,\"%\"))"
   ]
  },
  {
   "cell_type": "markdown",
   "metadata": {},
   "source": [
    "###  Write a number to display number in left rith and center aligned widht 10\n"
   ]
  },
  {
   "cell_type": "code",
   "execution_count": 139,
   "metadata": {},
   "outputs": [
    {
     "name": "stdout",
     "output_type": "stream",
     "text": [
      "Enter any number:2\n",
      "          2          \n"
     ]
    }
   ],
   "source": [
    "import builtins as b\n",
    "a=int(input(\"Enter any number:\"))\n",
    "print(\" \"*10+b.str(a)+\" \"*10)"
   ]
  },
  {
   "cell_type": "markdown",
   "metadata": {},
   "source": [
    "### Write a program to count occurance of substring in string"
   ]
  },
  {
   "cell_type": "code",
   "execution_count": 142,
   "metadata": {},
   "outputs": [
    {
     "name": "stdout",
     "output_type": "stream",
     "text": [
      "Enter string:samers\n",
      "Enter substrings\n",
      "2\n"
     ]
    }
   ],
   "source": [
    "string=input(\"Enter string:\")\n",
    "sub=input(\"Enter substring\")\n",
    "print(string.count(sub))"
   ]
  },
  {
   "cell_type": "markdown",
   "metadata": {},
   "source": [
    "### Write a program to reverse the string"
   ]
  },
  {
   "cell_type": "code",
   "execution_count": 143,
   "metadata": {},
   "outputs": [
    {
     "name": "stdout",
     "output_type": "stream",
     "text": [
      "Enter any string:sameer\n",
      "reemas\n"
     ]
    }
   ],
   "source": [
    "a=input('Enter any string:')\n",
    "print(a[::-1])"
   ]
  },
  {
   "cell_type": "markdown",
   "metadata": {},
   "source": [
    "### Write a proram to reverse words in string"
   ]
  },
  {
   "cell_type": "code",
   "execution_count": 155,
   "metadata": {},
   "outputs": [
    {
     "name": "stdout",
     "output_type": "stream",
     "text": [
      "Enter any string:I am sameer\n",
      "sameer am I\n"
     ]
    }
   ],
   "source": [
    "a=input(\"Enter any string:\")\n",
    "b=a.split()\n",
    "rev=[]\n",
    "for x in range(len(b)-1,-1,-1):\n",
    "    rev.append(b[x])\n",
    "revword=\" \".join(rev)\n",
    "print(revword)"
   ]
  },
  {
   "cell_type": "markdown",
   "metadata": {},
   "source": [
    "### Write a program to strip set of character"
   ]
  },
  {
   "cell_type": "code",
   "execution_count": 161,
   "metadata": {},
   "outputs": [
    {
     "name": "stdout",
     "output_type": "stream",
     "text": [
      "Enter word:sameer shinde\n",
      "Enter charcter to strip:s\n",
      "ameer hinde\n"
     ]
    }
   ],
   "source": [
    "s=input(\"Enter word:\")\n",
    "char=input(\"Enter charcter to strip:\")\n",
    "word=[]\n",
    "for x in s:\n",
    "    if x!=char:\n",
    "        word.append(x)\n",
    "final=\"\".join(word)\n",
    "print(final)"
   ]
  },
  {
   "cell_type": "markdown",
   "metadata": {},
   "source": [
    "### Write a program to count Repeated character in string"
   ]
  },
  {
   "cell_type": "code",
   "execution_count": 30,
   "metadata": {},
   "outputs": [
    {
     "name": "stdout",
     "output_type": "stream",
     "text": [
      "Enter string:abcdabcdefghijab\n",
      "a repeted 3 times\n",
      "b repeted 3 times\n",
      "c repeted 2 times\n",
      "d repeted 2 times\n"
     ]
    }
   ],
   "source": [
    "s=input(\"Enter string:\")\n",
    "count=0\n",
    "index=0\n",
    "d={}\n",
    "for x in s:           #get the element from s\n",
    "    for y in s:       #get the element from s\n",
    "        if x==y:      #check value from outer and inner for loop is same\n",
    "            count+=1  #increase count if values are same\n",
    "    if count>=2:      #if count is greater than 1 because each value is atleast 1 beacause inner for loop always start from start\n",
    "        if d.get(x)==None: #check if value doesn't availabe in dictonry d if it is present it will not enter into if\n",
    "            d.update({x:count})#append the character who has repeted more than 1 times and not already in list then add it to list\n",
    "    count=0 \n",
    "    #set the count=0 for next charcter of outer for loop\n",
    "for key,value in d.items():\n",
    "    print(key+\" repeted \"+str(value)+\" times\")"
   ]
  },
  {
   "cell_type": "markdown",
   "metadata": {},
   "source": [
    "### Write a program to print square and cube symbol for area of reactange,volume of cylinder"
   ]
  },
  {
   "cell_type": "code",
   "execution_count": 40,
   "metadata": {},
   "outputs": [
    {
     "name": "stdout",
     "output_type": "stream",
     "text": [
      "Enter length of rectangle:3\n",
      "Enter breadt of ractange:3\n",
      "Enter radius of cylinder:2\n",
      "Enter height of cylinder:4\n",
      "Area of ractange:9cm²\n",
      "Volume of cylinder:78.95683520871486cm³\n"
     ]
    }
   ],
   "source": [
    "import math\n",
    "l=int(input(\"Enter length of rectangle:\"))\n",
    "b=int(input(\"Enter breadt of ractange:\"))\n",
    "r=int(input(\"Enter radius of cylinder:\"))\n",
    "h=int(input(\"Enter height of cylinder:\"))\n",
    "\n",
    "area=l*b\n",
    "volume=2*(math.pi**2)*h\n",
    "print(\"Area of ractange:\"+str(area)+('cm\\u00b2'))           #note: \\u00b2 is the unicode value for raise 2\n",
    "print(\"Volume of cylinder:\"+str(volume)+('cm\\u00b3'))       #note: \\u00b3 is the unicode value for raise 3"
   ]
  },
  {
   "cell_type": "markdown",
   "metadata": {},
   "source": [
    "### Write a program to print index of the charcter in string"
   ]
  },
  {
   "cell_type": "code",
   "execution_count": 41,
   "metadata": {},
   "outputs": [
    {
     "name": "stdout",
     "output_type": "stream",
     "text": [
      "Enter string:sameer\n",
      "Currnet character s position at 0\n",
      "Currnet character a position at 1\n",
      "Currnet character m position at 2\n",
      "Currnet character e position at 3\n",
      "Currnet character e position at 4\n",
      "Currnet character r position at 5\n"
     ]
    }
   ],
   "source": [
    "string=input(\"Enter string:\")\n",
    "for x in range(0,len(string)):\n",
    "    print(\"Currnet character \"+string[x]+\" position at \"+str(x))"
   ]
  },
  {
   "cell_type": "markdown",
   "metadata": {},
   "source": [
    "### Write a program to check if string contains all alphabets"
   ]
  },
  {
   "cell_type": "code",
   "execution_count": 49,
   "metadata": {},
   "outputs": [
    {
     "name": "stdout",
     "output_type": "stream",
     "text": [
      "Enter String:smaee3\n",
      "String contains other than alphabet\n"
     ]
    }
   ],
   "source": [
    "string=input(\"Enter String:\")\n",
    "flag=0\n",
    "for x in string:\n",
    "    if x.isalpha():\n",
    "        continue\n",
    "    else:\n",
    "        flag+=1\n",
    "if flag>0:\n",
    "    print(\"String contains other than alphabet\")\n",
    "else:\n",
    "    print(\"String only contains alphabets\")"
   ]
  },
  {
   "cell_type": "markdown",
   "metadata": {},
   "source": [
    "### Write a program to convert string into list"
   ]
  },
  {
   "cell_type": "code",
   "execution_count": 52,
   "metadata": {},
   "outputs": [
    {
     "name": "stdout",
     "output_type": "stream",
     "text": [
      "Enter string:dsaf ds\n",
      "converted list:['dsaf', 'ds']\n"
     ]
    }
   ],
   "source": [
    "string=input(\"Enter string:\")\n",
    "li=string.split()                 #split() function returns list from string seprated by white space we can explicity change the seprator\n",
    "print(\"converted list:\"+str(li))"
   ]
  },
  {
   "cell_type": "markdown",
   "metadata": {},
   "source": [
    "### Write a program to lowercase the first n character in string"
   ]
  },
  {
   "cell_type": "code",
   "execution_count": 57,
   "metadata": {},
   "outputs": [
    {
     "name": "stdout",
     "output_type": "stream",
     "text": [
      "Enter string:SAMEER shinde PATIL\n",
      "Enter how many character should be lowercase:5\n",
      "sameeR shinde PATIL\n"
     ]
    }
   ],
   "source": [
    "string=input(\"Enter string:\")\n",
    "n=int(input(\"Enter how many character should be lowercase:\"))\n",
    "new=string[:n].lower()    #slice the string upto n index and convert it into lower\n",
    "final=new+string[n:]      #merge the new and slice string from n to end\n",
    "print(final)              #print the frinal merged string"
   ]
  },
  {
   "cell_type": "markdown",
   "metadata": {},
   "source": [
    "### Write a program to swap comma and dot"
   ]
  },
  {
   "cell_type": "code",
   "execution_count": 73,
   "metadata": {},
   "outputs": [
    {
     "name": "stdout",
     "output_type": "stream",
     "text": [
      "Enter string with comma and dot:32.054,23\n",
      "32,054.23\n"
     ]
    }
   ],
   "source": [
    "string=input(\"Enter string with comma and dot:\")\n",
    "comma=string.find(\",\")   #getting position of comma in string\n",
    "dot=string.find(\".\")     #getting position of dot in string\n",
    "l=[]                     #declaring empty list\n",
    "if comma>0 and dot>0:    #if both comma and dot are present then enter in if\n",
    "    for x in string:     # for loop for iterating in string\n",
    "        l.append(x)      #inserting(appending) the values to list l\n",
    "    l[comma], l[dot] = l[dot], l[comma] #replacing the l[commaindex],l[dotindex]=l[dotidex],l[commaindex]\n",
    "    print(''.join(l))                   #create the string from list and print it"
   ]
  },
  {
   "cell_type": "markdown",
   "metadata": {},
   "source": [
    "### Write a program to count and print vovels in string"
   ]
  },
  {
   "cell_type": "code",
   "execution_count": 75,
   "metadata": {},
   "outputs": [
    {
     "name": "stdout",
     "output_type": "stream",
     "text": [
      "Enter string:sameer shinde patil\n",
      "Number of vovels in given string:7\n"
     ]
    }
   ],
   "source": [
    "string=input(\"Enter string:\")\n",
    "vc=0\n",
    "for x in string:\n",
    "    if x in ['a','e','i','o','u','A','E','I','O','U']:\n",
    "        vc+=1\n",
    "print(\"Number of vovels in given string:\"+str(vc))\n",
    "        "
   ]
  },
  {
   "cell_type": "markdown",
   "metadata": {},
   "source": [
    "### Write a program to split the string on the last occurance of delimiter"
   ]
  },
  {
   "cell_type": "code",
   "execution_count": 79,
   "metadata": {},
   "outputs": [
    {
     "name": "stdout",
     "output_type": "stream",
     "text": [
      "Enter string:sameer shinde\n",
      "Enter delimiter:m\n",
      "['sa', 'meer shinde']\n"
     ]
    }
   ],
   "source": [
    "string=input(\"Enter string:\")\n",
    "delimiter=input(\"Enter delimiter:\")\n",
    "lastoccurance=string.rfind(delimiter)  #rfind function last occurance of passed character\n",
    "arr=[]\n",
    "firstpart=string[0:lastoccurance]     #slicing the string from start to index of delimiter\n",
    "lastpart=string[lastoccurance:]       #slicing the string from delimeter to last\n",
    "arr.append(firstpart)                 #appending to arr list\n",
    "arr.append(lastpart)                  #appending to arr list\n",
    "print(arr)                            #printing the arr"
   ]
  },
  {
   "cell_type": "markdown",
   "metadata": {},
   "source": [
    "### Write thr program to find first non repeting character in string"
   ]
  },
  {
   "cell_type": "code",
   "execution_count": 82,
   "metadata": {},
   "outputs": [
    {
     "name": "stdout",
     "output_type": "stream",
     "text": [
      "Enter String:ssaaeerm\n",
      "First non reapting character is:r\n"
     ]
    }
   ],
   "source": [
    "string=input(\"Enter String:\")\n",
    "count=0\n",
    "for x in string:\n",
    "    for y in string:\n",
    "        if x==y:\n",
    "            count+=1\n",
    "    if count==1:\n",
    "        print(\"First non reapting character is:\"+x)\n",
    "    else:\n",
    "        count=0"
   ]
  },
  {
   "cell_type": "markdown",
   "metadata": {},
   "source": [
    "### Write a program to print all permutation with given repetition number of character of a given string"
   ]
  },
  {
   "cell_type": "code",
   "execution_count": 83,
   "metadata": {},
   "outputs": [
    {
     "name": "stdout",
     "output_type": "stream",
     "text": [
      "will do it latter\n"
     ]
    }
   ],
   "source": [
    "print('will do it latter')"
   ]
  },
  {
   "cell_type": "markdown",
   "metadata": {},
   "source": [
    "### Write the program to print first repeated character in string"
   ]
  },
  {
   "cell_type": "code",
   "execution_count": 86,
   "metadata": {},
   "outputs": [
    {
     "name": "stdout",
     "output_type": "stream",
     "text": [
      "Enter the string:abcdefghijka\n",
      "First repeated charcter:a\n"
     ]
    }
   ],
   "source": [
    "string=input(\"Enter the string:\")\n",
    "count=0\n",
    "for x in string:\n",
    "    for y in string:\n",
    "        if x==y:\n",
    "            count+=1\n",
    "    if count>1:\n",
    "        print(\"First repeated charcter:\"+x)\n",
    "        break\n",
    "    else:\n",
    "        count=0"
   ]
  },
  {
   "cell_type": "markdown",
   "metadata": {},
   "source": [
    "### Write the program to find first repeated character of given string where the index of first occurance is smallest"
   ]
  },
  {
   "cell_type": "code",
   "execution_count": 87,
   "metadata": {},
   "outputs": [
    {
     "name": "stdout",
     "output_type": "stream",
     "text": [
      "will do it latter didn't understand the question\n"
     ]
    }
   ],
   "source": [
    "print(\"will do it latter didn't understand the question\")"
   ]
  },
  {
   "cell_type": "markdown",
   "metadata": {},
   "source": [
    "### Write the program first repeated word in the given string"
   ]
  },
  {
   "cell_type": "code",
   "execution_count": 89,
   "metadata": {},
   "outputs": [
    {
     "name": "stdout",
     "output_type": "stream",
     "text": [
      "Enter the String:This is my house and my city\n",
      "First repeated word:my\n"
     ]
    }
   ],
   "source": [
    "string=input(\"Enter the String:\")\n",
    "arr=string.split()\n",
    "count=0\n",
    "for x in arr:\n",
    "    for y in arr:\n",
    "        if x==y:\n",
    "            count+=1\n",
    "    if count>1:\n",
    "        print(\"First repeated word:\"+x)\n",
    "        break\n",
    "    else:\n",
    "        count=0"
   ]
  },
  {
   "cell_type": "markdown",
   "metadata": {},
   "source": [
    "### Write a program to find second most repeated word"
   ]
  },
  {
   "cell_type": "code",
   "execution_count": 93,
   "metadata": {},
   "outputs": [
    {
     "name": "stdout",
     "output_type": "stream",
     "text": [
      "Enter the string:sameer is my name my name is sameer\n",
      "Second most repeated word:is\n"
     ]
    }
   ],
   "source": [
    "string=input(\"Enter the string:\")\n",
    "arr=string.split()               #split the string into list\n",
    "count=0                          #count will count the number of occurance of word\n",
    "rep=0                            #count how many number is repeating\n",
    "for x in arr:                    #get the element from arr and store into x\n",
    "    for y in arr:                    #get the element from arr and store into y\n",
    "        if x==y:                 #if the x and y are similar\n",
    "            count+=1             #increase the count for that that word\n",
    "    if count>1:                  #if word is more than once repeated\n",
    "        rep+=1                   # increase the rep how many number is repated\n",
    "        if rep>1:                #if rep count is more than 1 means second word which is repeated\n",
    "            print(\"Second most repeated word:\"+x) #print that word\n",
    "            break\n",
    "        else:\n",
    "            count=0\n",
    "    else:\n",
    "        count=0"
   ]
  },
  {
   "cell_type": "markdown",
   "metadata": {},
   "source": [
    "### Write a program to remove spaces from string"
   ]
  },
  {
   "cell_type": "code",
   "execution_count": 97,
   "metadata": {},
   "outputs": [
    {
     "name": "stdout",
     "output_type": "stream",
     "text": [
      "Enter the string:sameer is my name\n",
      "sameerismyname\n"
     ]
    }
   ],
   "source": [
    "string=input(\"Enter the string:\")\n",
    "string=string.strip() #remove the white spaces of left and right of string\n",
    "li=string.split()     #creating list from string split function split when it find white space and do not include it so list doesn't content any white space\n",
    "final=\"\".join(li)     #joining the list without any charater so all string is trated as sigle word\n",
    "print(final)"
   ]
  },
  {
   "cell_type": "markdown",
   "metadata": {},
   "source": [
    "### Write a program to move spaces to front of given string"
   ]
  },
  {
   "cell_type": "code",
   "execution_count": 100,
   "metadata": {},
   "outputs": [
    {
     "name": "stdout",
     "output_type": "stream",
     "text": [
      "Enter string:samer is my name \n",
      "   samerismyname\n"
     ]
    }
   ],
   "source": [
    "string=input(\"Enter string:\")\n",
    "arr=string.split()            #creating list from string list without having spaces \n",
    "l=len(arr)                    #length of arr\n",
    "finalword=\"\".join(arr)        #joining arr without any character so it will genrate one single word\n",
    "wspace=l-1                    #count the whitespace from lent(arr) becoz array contains element by split() and split() function devide the words on basis of white space \n",
    "print(\" \"*wspace+finalword)"
   ]
  },
  {
   "cell_type": "markdown",
   "metadata": {},
   "source": [
    "### Write a program to print most repeated character in the given string"
   ]
  },
  {
   "cell_type": "code",
   "execution_count": 125,
   "metadata": {},
   "outputs": [
    {
     "name": "stdout",
     "output_type": "stream",
     "text": [
      "Enter the string :samer saamera\n",
      "Maximum repeating character:a\n"
     ]
    }
   ],
   "source": [
    "string=input(\"Enter the string :\")\n",
    "count=0\n",
    "maxm=0\n",
    "word=\"\"\n",
    "for x in string:\n",
    "    for y in string:\n",
    "        if x==y:\n",
    "            count+=1\n",
    "    if count>1:\n",
    "        if count>maxm:\n",
    "            maxm=count\n",
    "            word=x\n",
    "            count=0\n",
    "        else:\n",
    "            count=0\n",
    "    else:\n",
    "        count=0\n",
    "if max==1:\n",
    "    print(\"No character is repeated..!!\")\n",
    "else:\n",
    "    print(\"Maximum repeating character:\"+word)"
   ]
  },
  {
   "cell_type": "markdown",
   "metadata": {},
   "source": [
    "### Write a program to capilize first and last latter of each word in string"
   ]
  },
  {
   "cell_type": "code",
   "execution_count": 141,
   "metadata": {},
   "outputs": [
    {
     "name": "stdout",
     "output_type": "stream",
     "text": [
      "Enter the string:jai shree ram\n",
      "Updated String is:JaI ShreE RaM\n"
     ]
    }
   ],
   "source": [
    "string=input(\"Enter the string:\")\n",
    "arr=string.split()\n",
    "final=[]\n",
    "for x in arr:\n",
    "    first=(x[0:1]).upper() #slice the word and get first latter and convert it to upper\n",
    "    last=(x[-1::]).upper() #slice the word and get last latter and conver it to upper\n",
    "    mid=x[1:-1]            #sliece the word from index 1 to index (len-1)\n",
    "    f=first+mid+last       #merge all the strings   \n",
    "    final.append(f)        #append merged string to final\n",
    "string=\" \".join(final)\n",
    "print(\"Updated String is:\"+string)"
   ]
  },
  {
   "cell_type": "markdown",
   "metadata": {},
   "source": [
    "### Write a program to remove duplicate character from string"
   ]
  },
  {
   "cell_type": "code",
   "execution_count": 143,
   "metadata": {},
   "outputs": [
    {
     "name": "stdout",
     "output_type": "stream",
     "text": [
      "Enter String:sameer shinde\n",
      "After removing duplicate character string is:samer hind\n"
     ]
    }
   ],
   "source": [
    "string=input(\"Enter String:\")\n",
    "arr=[]\n",
    "for x in string:\n",
    "    for y in string:\n",
    "        if x==y and x not in arr:         #check if x==y and x is present in arr if it is in arr dont add if not then add\n",
    "            arr.append(x)\n",
    "final=\"\".join(arr)\n",
    "print(\"After removing duplicate character string is:\"+final)"
   ]
  },
  {
   "cell_type": "markdown",
   "metadata": {},
   "source": [
    "### "
   ]
  }
 ],
 "metadata": {
  "kernelspec": {
   "display_name": "Python 3",
   "language": "python",
   "name": "python3"
  },
  "language_info": {
   "codemirror_mode": {
    "name": "ipython",
    "version": 3
   },
   "file_extension": ".py",
   "mimetype": "text/x-python",
   "name": "python",
   "nbconvert_exporter": "python",
   "pygments_lexer": "ipython3",
   "version": "3.9.0"
  }
 },
 "nbformat": 4,
 "nbformat_minor": 4
}
