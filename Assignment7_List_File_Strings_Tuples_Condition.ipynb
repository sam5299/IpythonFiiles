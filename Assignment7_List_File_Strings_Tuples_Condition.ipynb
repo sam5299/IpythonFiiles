{
 "cells": [
  {
   "cell_type": "markdown",
   "metadata": {},
   "source": [
    "### Write a program GetGA.py that uses the GettheAddresses.txt to grab a text file containing the Gettysburg Address. Have the program write this to a file named ga.txt.\n",
    "\n",
    "### In short read the data from getthreaddress.txt and pest into into ga.txt\n",
    "\n",
    "### Using for loop and "
   ]
  },
  {
   "cell_type": "code",
   "execution_count": 42,
   "metadata": {},
   "outputs": [
    {
     "name": "stdout",
     "output_type": "stream",
     "text": [
      "Writing operation done..!!\n"
     ]
    }
   ],
   "source": [
    "try:\n",
    "    with open('gettheaddress.txt','r') as getaddress,open('ga.txt','w') as putaddress:  #open the files using with open function gettheaddress file is opend in read mode and ga.txt opened in write mode\n",
    "        for read_one_line in getaddress:              #read one line from getaddress \n",
    "            putaddress.write(read_one_line)           #write the lined read from getaddress \n",
    "        print('Writing operation done..!!')           #message after written in file putaddress\n",
    "except FileNotFoundError:                             #If file names are wrong then handle the FileNotFoundError and print the message\n",
    "    print('File not found error please check the file names and try again latter..!')"
   ]
  },
  {
   "cell_type": "markdown",
   "metadata": {},
   "source": [
    "### Using readlines method"
   ]
  },
  {
   "cell_type": "code",
   "execution_count": 16,
   "metadata": {},
   "outputs": [
    {
     "name": "stdout",
     "output_type": "stream",
     "text": [
      "Write operation done...!!\n"
     ]
    }
   ],
   "source": [
    "try: #try block to handle error which might be occure\n",
    "    getaddress=open('gettheaddress.txt','r')  #open the file using normal way without with method\n",
    "    putaddress=open('ga.txt','w')             #open the ga.txt file in w mode so if it is not present it will automatically create it\n",
    "    list_of_lines=getaddress.readlines()      #readlines method returns the list of all lines in the file present and store it in list_of_lines\n",
    "    for x in list_of_lines:                   #iterate the list using for loop\n",
    "        putaddress.write(x)                   #write the line from list_of_lines into putaddress which is file pointer of ga.txt file\n",
    "    print('Write operation done...!!')        #message after done write operation\n",
    "except FileNotFoundError:                     #this is error handler for try block which may produce FileNotFound error\n",
    "    print('File name not found please check file names and try again latter')#print this message if error occures"
   ]
  },
  {
   "cell_type": "markdown",
   "metadata": {},
   "source": [
    "### Write a program WordLineCounts.py that counts the number of lines and words in ga.txt, printing the resulting counts to the terminal. Annotate the output so that it is understandable:"
   ]
  },
  {
   "cell_type": "code",
   "execution_count": null,
   "metadata": {},
   "outputs": [],
   "source": [
    "try:  #try block to handle exception\n",
    "    with open('ga.txt','r') as garead: #open the ga.txt file in read mode using with function\n",
    "        lines=garead.readlines()       #using readlines() method get the list of all lines \n",
    "        print('Number of lines in file ga.txt are:{0}'.format(len(lines))) #print the number of lines using len(lines) because lines stores all the lines which are present in ga.txt file\n",
    "        total_words=0                  #total word varibale which will store the total_words in the ga.txt file\n",
    "        for x in lines:                #iterate through lines list get one by one element\n",
    "            total_words=total_words+len(x.split()) #split the line x and count its len and add its len to total_words\n",
    "        print('Number of words in file ga.txt:{0}'.format(total_words))#print the total words\n",
    "except FileNotFoundError:              #if file not found error generate then this will print the message\n",
    "    print('File not found please check file name')\n",
    "  "
   ]
  },
  {
   "cell_type": "markdown",
   "metadata": {},
   "source": [
    "### Write a program VowelCounts.py that reads in ga.txt and counts the number of each kind of vowel, printing the results for each vowel to the terminal. Annotate the output so that it is understandable."
   ]
  },
  {
   "cell_type": "code",
   "execution_count": 43,
   "metadata": {},
   "outputs": [
    {
     "name": "stdout",
     "output_type": "stream",
     "text": [
      "Number of character of vovel:a are:102\n",
      "Number of character of vovel:e are:165\n",
      "Number of character of vovel:i are:68\n",
      "Number of character of vovel: are:93\n",
      "Number of character of vovel:u are:21\n"
     ]
    }
   ],
   "source": [
    "try:\n",
    "    with open('ga.txt','r') as get: #open the ga.txt using with as alice get\n",
    "        lines_in_ga=get.readlines() #get the list of lines from ga.txt\n",
    "        vovel={'a':0,'e':0,'i':0,'o':0,'u':0} #declaring tuple for vovel count in key value pair\n",
    "        for line in lines_in_ga:              #get one by one line from lines_in_ga\n",
    "            for word in line.split():         #get one by one word by using split() function\n",
    "                for char in word:             #get one by one from word\n",
    "                    if char.lower() in ['a','e','i','o','u']: #check if the char is one from a e i o u is yes then\n",
    "                        if char.lower()=='a':  #convert then character and check if is it a if yes then\n",
    "                            vovel['a']=vovel['a']+1 #increse the tuple which having a as key and update its by 1\n",
    "                            continue           #continue this will save the time and wont execute next statement\n",
    "                        elif char.lower()=='e': #convert then character and check if is it 'e' if yes then\n",
    "                            vovel['e']=vovel['e']+1#increse the tuple which having 'e' as key and update its by 1\n",
    "                            continue\n",
    "                        elif char.lower()=='i':#convert then character and check if is it 'i' if yes then\n",
    "                            vovel['i']=vovel['i']+1#increse the tuple which having 'i' as key and update its by 1\n",
    "                            continue\n",
    "                        elif char.lower()=='o':#convert then character and check if is it 'o' if yes then\n",
    "                            vovel['o']=vovel['o']+1#increse the tuple which having 'o' as key and update its by 1\n",
    "                            continue\n",
    "                        else:\n",
    "                            vovel['u']=vovel['u']+1#increse the tuple which having 'o' as key and update its by 1\n",
    "                    else:\n",
    "                        continue\n",
    "        print('Number of character of vovel:a are:{0}'.format(vovel['a']))\n",
    "        print('Number of character of vovel:e are:{0}'.format(vovel['e']))\n",
    "        print('Number of character of vovel:i are:{0}'.format(vovel['i']))\n",
    "        print('Number of character of vovel: are:{0}'.format(vovel['o']))\n",
    "        print('Number of character of vovel:u are:{0}'.format(vovel['u']))\n",
    "except FileNotFoundError:\n",
    "    print('hi')\n"
   ]
  },
  {
   "cell_type": "markdown",
   "metadata": {},
   "source": [
    "### Write a program SortFile.py that reads in and alphabetically sorts the lines (not individual words) in ga.txt and outputs those lines to a new file ga_sorted.txt."
   ]
  },
  {
   "cell_type": "code",
   "execution_count": 60,
   "metadata": {},
   "outputs": [],
   "source": [
    "try:\n",
    "    with open('ga.txt','r') as readfile,open('ga_sorted.txt','w') as writefile:#open the files ga.txt in read mode and 'ga_sorted.txt' in write mode\n",
    "        lines=[]             #empty list for stores the lines from ga.txt\n",
    "        for line in readfile: #get the one by one line from readfile\n",
    "            lines.append(line.capitalize())#append the line by capalitize the first latter of each line using capitalize method\n",
    "        lines.sort()         #sort the lines in acceding order this will perform on first character of first latter of each line\n",
    "        for line in lines:   #get one by one line from lines\n",
    "            writefile.write(line) #write the line to ga_sorted.txt using write function\n",
    "except FileNotFoundError:    #if file not is not found then handle the FileNotFoundException and print() message\n",
    "    print('File not found..!!')"
   ]
  },
  {
   "cell_type": "markdown",
   "metadata": {},
   "source": [
    "### Iterate a chaotic one-dimensional map: Write a program OneDMapIterate.py that iterates the function f(x) = 4.0 x ( 1 - x ). First, set the initial condition x = 0.3. Then apply f(x) repeatedly to each new x. Iterate for 100 steps, printing on each line the iteration number and the successive x values to file onedmap.txt"
   ]
  },
  {
   "cell_type": "code",
   "execution_count": 25,
   "metadata": {},
   "outputs": [
    {
     "name": "stdout",
     "output_type": "stream",
     "text": [
      "File write operation done..!!\n"
     ]
    }
   ],
   "source": [
    "x=0.3          #initail value of x\n",
    "try:           #try block which might generate FileNotFoundError\n",
    "    with open(\"onedmap.txt\",'w') as writevalue: #open the file onedmap.txt in write mode if file not present it will create the file\n",
    "        for y in range(1,101):#for loop to count iteration number and update the value of x according to function given\n",
    "            x=4.0*(1-x)       #update the value of x accoding to function given\n",
    "            writevalue.write(\"{0} :  {1}\\n\".format(y,x) ) #wite the formated ouptut in the file using write method\n",
    "        print('File write operation done..!!')\n",
    "except FileNotFoundError:     #except block if FileNotFoundError will occure then this will print message\n",
    "    print('File not found please enter correct file name to write the data..!!')"
   ]
  },
  {
   "cell_type": "markdown",
   "metadata": {},
   "source": [
    "### Analyze a chaotic one-dimensional map: Write a program OneDMapAnalyze.py that reads the data in onedmap.txt. Calculate the mean value of the iterates, printing the result to the terminal; again annotate the output so that it is understandable. Determine the fraction of iterates that have x > 0.5. Also, print out that result."
   ]
  },
  {
   "cell_type": "code",
   "execution_count": 53,
   "metadata": {},
   "outputs": [
    {
     "name": "stdout",
     "output_type": "stream",
     "text": [
      "mean value:50.5\n"
     ]
    }
   ],
   "source": [
    "from fractions import Fraction\n",
    "try:                                          #try block which might generate FileNotFoundError\n",
    "    iteratevalue=[]                           #list declartion to store iterate values from the file\n",
    "    xvalues=[]                                #list declaration to store the x valeus from the file\n",
    "    with open('onedmap.txt','r') as readfile: #open the file onedmap.txt in read mode\n",
    "        temp=readfile.readlines()             #get the all lines from the onedmap using the function readlines which returns list\n",
    "        for x in temp:                        #get one by one line from temp which stores all lines present in program\n",
    "            y=x.split(\":\")                    #split the line by split function by delimeter : as iteraor and x values are seperated by :\n",
    "            #print(y)\n",
    "            iteratevalue.append(int(y[0].strip())) #append the iterate value to iteravalue list using string slicing\n",
    "            xvalues.append(float(y[1].strip()))    #append the x value to xvalues using string slicing\n",
    "    print(\"mean value:{0}\".format(sum(iteratevalue)/len(iteratevalue))) #print the mean of iterate valeus as mean is sum of total valeus divide by number of element here sum and len functions  are used\n",
    "    greatervalues=list(filter(lambda x:x>0.5,xvalues))#greater values contains the x values which are greater than 0.5\n",
    "    \n",
    "except FileNotFoundError:\n",
    "    print('File not found please check the file name and try again latter..!!')"
   ]
  },
  {
   "cell_type": "code",
   "execution_count": 35,
   "metadata": {},
   "outputs": [
    {
     "name": "stdout",
     "output_type": "stream",
     "text": [
      "50.5\n"
     ]
    }
   ],
   "source": []
  },
  {
   "cell_type": "code",
   "execution_count": null,
   "metadata": {},
   "outputs": [],
   "source": []
  }
 ],
 "metadata": {
  "kernelspec": {
   "display_name": "Python 3",
   "language": "python",
   "name": "python3"
  },
  "language_info": {
   "codemirror_mode": {
    "name": "ipython",
    "version": 3
   },
   "file_extension": ".py",
   "mimetype": "text/x-python",
   "name": "python",
   "nbconvert_exporter": "python",
   "pygments_lexer": "ipython3",
   "version": "3.9.0"
  }
 },
 "nbformat": 4,
 "nbformat_minor": 4
}
