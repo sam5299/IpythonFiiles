{
 "cells": [
  {
   "cell_type": "markdown",
   "metadata": {},
   "source": [
    "### Q.)Write a program to sum all the items in a list"
   ]
  },
  {
   "cell_type": "code",
   "execution_count": 2,
   "metadata": {},
   "outputs": [
    {
     "name": "stdout",
     "output_type": "stream",
     "text": [
      "15\n"
     ]
    }
   ],
   "source": [
    "s=[1,2,3,4,5]\n",
    "print(sum(s))      #sum() function is used to get sum of all elements in the list"
   ]
  },
  {
   "cell_type": "markdown",
   "metadata": {},
   "source": [
    "### Q.)Write a python prog to multiply all the elements in the list\n",
    "### V.1.0 Using usual method"
   ]
  },
  {
   "cell_type": "code",
   "execution_count": 5,
   "metadata": {},
   "outputs": [
    {
     "name": "stdout",
     "output_type": "stream",
     "text": [
      "1200\n"
     ]
    }
   ],
   "source": [
    "s=[1,2,3,4,5,10]\n",
    "x=1\n",
    "for p in s:\n",
    "    x=x*p\n",
    "print(x)"
   ]
  },
  {
   "cell_type": "markdown",
   "metadata": {},
   "source": [
    "### V.1.1 Using Numpy library and prod function in numpy lab which return product of all the elements in the list"
   ]
  },
  {
   "cell_type": "code",
   "execution_count": 34,
   "metadata": {},
   "outputs": [
    {
     "name": "stdout",
     "output_type": "stream",
     "text": [
      "1200\n",
      "1200\n"
     ]
    }
   ],
   "source": [
    "import numpy as np\n",
    "s=[1,2,3,4,5,10]\n",
    "print(np.product(s))         #product function return the multiplication of all the list elements\n",
    "print(np.prod(s))            #prod() function returns the multiplication of all the list element"
   ]
  },
  {
   "cell_type": "markdown",
   "metadata": {},
   "source": [
    "### Q.)Write a program to get largest number in the list\n",
    "### V.1.0"
   ]
  },
  {
   "cell_type": "code",
   "execution_count": 9,
   "metadata": {},
   "outputs": [
    {
     "name": "stdout",
     "output_type": "stream",
     "text": [
      "54\n"
     ]
    }
   ],
   "source": [
    "s=[1,2,3,4,54,3,33,3,2]\n",
    "print(max(s))               #max() function is used to get maximum element from the list"
   ]
  },
  {
   "cell_type": "markdown",
   "metadata": {},
   "source": [
    "### V.1.1.largest number in the list without using inbuilt function"
   ]
  },
  {
   "cell_type": "code",
   "execution_count": 25,
   "metadata": {},
   "outputs": [
    {
     "name": "stdout",
     "output_type": "stream",
     "text": [
      "54\n"
     ]
    }
   ],
   "source": [
    "s=[1,2,3,4,54,3,33,3,2]\n",
    "maximum_element_list=s[0]\n",
    "for i in s:\n",
    "    if maximum_element_list<=i:\n",
    "        maximum_element_list=i\n",
    "print(maximum_element_list)"
   ]
  },
  {
   "cell_type": "markdown",
   "metadata": {},
   "source": [
    "### V.1.2 largest number in the list using the another logic of sorting"
   ]
  },
  {
   "cell_type": "code",
   "execution_count": 20,
   "metadata": {},
   "outputs": [
    {
     "name": "stdout",
     "output_type": "stream",
     "text": [
      "54\n"
     ]
    }
   ],
   "source": [
    "s=[1,2,3,4,54,3,33,3,2,-2]\n",
    "s.sort()                      #sort the array in accending order so automatically maximum item will go to the last\n",
    "print(s[-1])                  #getting the last element using -1 index and last element is maximum"
   ]
  },
  {
   "cell_type": "markdown",
   "metadata": {},
   "source": [
    "### Q.) Write a program to get the smallest element from the list\n",
    "### V.1.0 Using in built function min()"
   ]
  },
  {
   "cell_type": "code",
   "execution_count": 21,
   "metadata": {},
   "outputs": [
    {
     "name": "stdout",
     "output_type": "stream",
     "text": [
      "-4\n"
     ]
    }
   ],
   "source": [
    "s=[1,2,3,4,4,3,3,-4,3434343,3232,3,54,33]\n",
    "print(min(s))"
   ]
  },
  {
   "cell_type": "markdown",
   "metadata": {},
   "source": [
    "### V.1.1 Using usual method"
   ]
  },
  {
   "cell_type": "code",
   "execution_count": 23,
   "metadata": {},
   "outputs": [
    {
     "name": "stdout",
     "output_type": "stream",
     "text": [
      "-4\n"
     ]
    }
   ],
   "source": [
    "s=[1,2,3,4,4,3,3,-4,3434343,3232,3,54,33]\n",
    "minimum_lement_list=s[0]\n",
    "for x in s:\n",
    "    if x<=low:           #element from s is less than equal to low then assign the low to current value of x in s\n",
    "        minimum_lement_list=x\n",
    "print(low)"
   ]
  },
  {
   "cell_type": "markdown",
   "metadata": {},
   "source": [
    "### V.1.2 Using sort the list in accending order logic and get the minimum element"
   ]
  },
  {
   "cell_type": "code",
   "execution_count": 28,
   "metadata": {},
   "outputs": [
    {
     "name": "stdout",
     "output_type": "stream",
     "text": [
      "-4\n"
     ]
    }
   ],
   "source": [
    "s=[1,2,3,4,4,3,3,-4,3434343,3232,3,54,33]\n",
    "s.sort()                                 #sort the list in accending order means automaticall 1st element will be minimum element from the list\n",
    "print(s[0])"
   ]
  },
  {
   "cell_type": "markdown",
   "metadata": {},
   "source": [
    "### Q.) Write the program to count number of strigns where the string length is 2 or more than and the first and last character are same from a given  list of string\n",
    "\n",
    "### V.1.0 Using usual method"
   ]
  },
  {
   "cell_type": "code",
   "execution_count": 36,
   "metadata": {},
   "outputs": [
    {
     "name": "stdout",
     "output_type": "stream",
     "text": [
      "4\n"
     ]
    }
   ],
   "source": [
    "list_of_strings=['a','bb','ccc','a','dd','ee','x']\n",
    "count=0\n",
    "for x in list_of_strings:\n",
    "    if len(x)>=2:\n",
    "        count+=1\n",
    "print(count)"
   ]
  },
  {
   "cell_type": "markdown",
   "metadata": {},
   "source": [
    "### V.1.1 Create new list which contains only elements which is len>=2 from original list"
   ]
  },
  {
   "cell_type": "code",
   "execution_count": 54,
   "metadata": {},
   "outputs": [
    {
     "name": "stdout",
     "output_type": "stream",
     "text": [
      "['bb', 'ccc', 'dd', 'ee']\n",
      "4\n"
     ]
    }
   ],
   "source": [
    "list_of_strings=['a','bb','ccc','a','dd','ee','x']\n",
    "new_list=[x for x in list_of_strings if len(x)>=2]\n",
    "print(new_list)\n",
    "print(len(new_list))"
   ]
  },
  {
   "cell_type": "markdown",
   "metadata": {},
   "source": [
    "### Q.) Write a program to get a list, sorted in incresing order by the last element in each tuple from a given list of non-empty tuples"
   ]
  },
  {
   "cell_type": "code",
   "execution_count": 91,
   "metadata": {},
   "outputs": [
    {
     "name": "stdout",
     "output_type": "stream",
     "text": [
      "key::3\n",
      "key::2\n",
      "key::1\n",
      "key::0\n",
      "[(11, 0), (2, 4), (1, 3), (2, 2), (5, 1)]\n"
     ]
    }
   ],
   "source": [
    "arr=[(2,4),(1,3),(2,2),(5,1),(11,0)]           #orignal list\n",
    "brr=arr.copy()                          #deep copy of the list\n",
    "for i in range(1,len(arr)):             #for loop from 1 to lenth of arr\n",
    "        key = arr[i][1]                 #getting the element at location arr[i][1] example if i=2 arr[2][1]\n",
    "        print(\"key::\"+str(key))\n",
    "        j = i-1                         #set j=i-1 example 1-1=0\n",
    "        while j >=0 and key < arr[j][1] :  #check whether the j>=0 and key(arr[i][1]<arr[j][1])   arr[j][1] will get from\n",
    "                                           #suppose value of j=1 then arr[1][1] check arr[i][1]<arr[1][1]\n",
    "                brr[j+1] = arr[j]          #if true then set the the brr[j+1]=arr[j] we are changing brr array\n",
    "                j -= 1\n",
    "        brr[j+1] = arr[i] \n",
    "print(brr)"
   ]
  },
  {
   "cell_type": "markdown",
   "metadata": {},
   "source": [
    "### Write a program to remove duplicate from list"
   ]
  },
  {
   "cell_type": "code",
   "execution_count": 93,
   "metadata": {},
   "outputs": [
    {
     "name": "stdout",
     "output_type": "stream",
     "text": [
      "[1, 3, 4, 6, 7, 0]\n"
     ]
    }
   ],
   "source": [
    "ori_list=[1,1,1,3,4,3,4,6,7,4,0]\n",
    "new_list=[]\n",
    "for x in ori_list:\n",
    "    for y in ori_list:\n",
    "        if x==y and x not in new_list:       #check value of x in ori and y in ori and x element is not in new_list then true\n",
    "            new_list.append(x)\n",
    "print(new_list)"
   ]
  },
  {
   "cell_type": "markdown",
   "metadata": {},
   "source": [
    "### V.1.1 Program to remove duplicate form list"
   ]
  },
  {
   "cell_type": "code",
   "execution_count": 4,
   "metadata": {},
   "outputs": [
    {
     "name": "stdout",
     "output_type": "stream",
     "text": [
      "[1, 2, 3, 4, 5, 6]\n"
     ]
    }
   ],
   "source": [
    "orignal_list=[1,2,1,1,3,2,3,4,5,6,2,3,2,3,5]      #orignal list\n",
    "unique_list=list(set(orignal_list))               #convert the orignal list into set and convert the set into list and assign it to unique_list list\n",
    "print(unique_list)                                #print the unique_list"
   ]
  },
  {
   "cell_type": "markdown",
   "metadata": {},
   "source": [
    "### Write a program to check whather the list is empty or not\n",
    "### V.1.0 Using len() function"
   ]
  },
  {
   "cell_type": "code",
   "execution_count": 5,
   "metadata": {},
   "outputs": [
    {
     "name": "stdout",
     "output_type": "stream",
     "text": [
      "list is empty\n"
     ]
    }
   ],
   "source": [
    "l=[]\n",
    "if len(l)==0:\n",
    "    print('list is empty')"
   ]
  },
  {
   "cell_type": "markdown",
   "metadata": {},
   "source": [
    "### Write a program to copy or clone the list\n",
    "### V.1.0 Using shallow copy"
   ]
  },
  {
   "cell_type": "code",
   "execution_count": 7,
   "metadata": {},
   "outputs": [
    {
     "name": "stdout",
     "output_type": "stream",
     "text": [
      "Orignal:[1, 2, 3, 4, 5]\n",
      "Duplicate:[1, 2, 3, 4, 5]\n"
     ]
    }
   ],
   "source": [
    "a=[1,2,3,4,5]\n",
    "b=a                               #id of a and b is same\n",
    "print('Orignal:{0}'.format(a))\n",
    "print('Duplicate:{0}'.format(b))"
   ]
  },
  {
   "cell_type": "markdown",
   "metadata": {},
   "source": [
    "### V.1.1 Using deep copy"
   ]
  },
  {
   "cell_type": "code",
   "execution_count": 10,
   "metadata": {},
   "outputs": [
    {
     "name": "stdout",
     "output_type": "stream",
     "text": [
      "A:[1, 2, 3, 4, 5, 6]\n",
      "B:[1, 2, 3, 4, 5, 6]\n"
     ]
    }
   ],
   "source": [
    "a=[1,2,3,4,5,6]\n",
    "b=a.copy()                   # id of a and b is different\n",
    "print(\"A:{0}\".format(a))\n",
    "print(\"B:{0}\".format(b))"
   ]
  },
  {
   "cell_type": "markdown",
   "metadata": {},
   "source": [
    "### Write a program to find list of words that are longer than n from a given list of words\n",
    "### V.1.0 Using usual way "
   ]
  },
  {
   "cell_type": "code",
   "execution_count": 14,
   "metadata": {},
   "outputs": [
    {
     "name": "stdout",
     "output_type": "stream",
     "text": [
      "Enter minimum length:5\n",
      "['afasdf', 'abcdefghi']\n"
     ]
    }
   ],
   "source": [
    "orignal_list_words=['aaa','bbb','afasdf','a','abc','xmma','abcdefghi']\n",
    "n=int(input(\"Enter minimum length:\"))\n",
    "new_list_words=[]\n",
    "for x in orignal_list_words:\n",
    "    if len(x)>=n:\n",
    "        new_list_words.append(x)\n",
    "print(new_list_words)"
   ]
  },
  {
   "cell_type": "markdown",
   "metadata": {},
   "source": [
    "### V.1.1 Using comprehension"
   ]
  },
  {
   "cell_type": "code",
   "execution_count": 18,
   "metadata": {},
   "outputs": [
    {
     "name": "stdout",
     "output_type": "stream",
     "text": [
      "Enter minimum length:8\n",
      "['aaafdfas', 'bbbbbbbbbbbb']\n"
     ]
    }
   ],
   "source": [
    "orignal_list_words=['aa','a','abc','aaaaa','aaafdfas','bbbbbbbbbbbb','av']\n",
    "n=int(input('Enter minimum length:'))\n",
    "new_list_words=[x for x in orignal_list_words if len(x)>=n]\n",
    "print(new_list_words)"
   ]
  },
  {
   "cell_type": "markdown",
   "metadata": {},
   "source": [
    "### Write a function that takes two lists and returns true if the both list containing at least one comman element\n",
    "### V.1.0 Using usual way"
   ]
  },
  {
   "cell_type": "code",
   "execution_count": 20,
   "metadata": {},
   "outputs": [
    {
     "name": "stdout",
     "output_type": "stream",
     "text": [
      "False\n"
     ]
    }
   ],
   "source": [
    "def compareList(arr,brr):\n",
    "    for x in arr:\n",
    "        if x in brr:\n",
    "            return True\n",
    "    return False\n",
    "a=[1,3,4,5,6,7]\n",
    "b=[0,2,8,9,10]\n",
    "print(compareList(a,b))"
   ]
  },
  {
   "cell_type": "markdown",
   "metadata": {},
   "source": [
    "### V.1.1 Using intersection"
   ]
  },
  {
   "cell_type": "code",
   "execution_count": 34,
   "metadata": {},
   "outputs": [
    {
     "name": "stdout",
     "output_type": "stream",
     "text": [
      "True\n"
     ]
    }
   ],
   "source": [
    "def compareList(arr,brr):\n",
    "    new_list=list(set(arr).intersection(set(brr)))   #convert the both arr and brr to set and use intersection method which return only comman element in the both list and convert the return element in list\n",
    "    if len(new_list)>0:            #check the length of new_list that is comman element is present or not\n",
    "        return True\n",
    "    return False\n",
    "a=[1,3,4,5,6,7]\n",
    "b=[0,2,8,9,10,3]\n",
    "print(compareList(a,b))"
   ]
  },
  {
   "cell_type": "markdown",
   "metadata": {},
   "source": [
    "### V.1.2 Using Comprehension"
   ]
  },
  {
   "cell_type": "code",
   "execution_count": 37,
   "metadata": {},
   "outputs": [
    {
     "name": "stdout",
     "output_type": "stream",
     "text": [
      "True\n"
     ]
    }
   ],
   "source": [
    "def compareList(arr,brr):\n",
    "    new_list=[x for x in arr if x in brr]   #for x in arr gets the one by one value from arr and check if the value is present in brr if yes then add to new_list else not\n",
    "    if len(new_list)>0:\n",
    "        return True\n",
    "    else:\n",
    "        return False\n",
    "print(compareList([1,3,4,5],[1,2,3,5,6]))"
   ]
  },
  {
   "cell_type": "markdown",
   "metadata": {},
   "source": [
    "### Program to print the specified list after removing the 0th 4th  and 5th element\n",
    "### V.1.0 Using remove function which takes element which is to remove"
   ]
  },
  {
   "cell_type": "code",
   "execution_count": 50,
   "metadata": {},
   "outputs": [
    {
     "name": "stdout",
     "output_type": "stream",
     "text": [
      "[2, 3, 4, 7]\n"
     ]
    }
   ],
   "source": [
    "arr=[1,2,3,4,5,6,7]\n",
    "if len(arr)>=5:\n",
    "    arr.remove(arr[0])        #after removing arr[0]=1 list is [2,3,4,5,6,7] so previsouly 4th index is now 3rd\n",
    "    arr.remove(arr[3])        #after removing arr[3]=4 list is [2,3,4,5,6]   so previously 4th index is now 3rd\n",
    "    arr.remove(arr[3])        #remove the 5th element in orignal list 4th element in list after removing one element and 3rd after removing 2 elements\n",
    "    print(arr)"
   ]
  },
  {
   "cell_type": "markdown",
   "metadata": {},
   "source": [
    "### V.1.1 Create new array which should contains the all other element other than element present at location 0,4,5 in orignal array"
   ]
  },
  {
   "cell_type": "code",
   "execution_count": 61,
   "metadata": {},
   "outputs": [
    {
     "name": "stdout",
     "output_type": "stream",
     "text": [
      "['green', 'white', 'black']\n"
     ]
    }
   ],
   "source": [
    "orignal_array=['red','green','white','black','pink','yellow']\n",
    "new_array=[]\n",
    "if len(orignal_array)>=5:\n",
    "    for i in range(0,len(orignal_array)):\n",
    "        if i in [0,4,5]:\n",
    "            continue\n",
    "        else:\n",
    "            new_array.append(orignal_array[i])\n",
    "print(new_array)"
   ]
  },
  {
   "cell_type": "markdown",
   "metadata": {},
   "source": [
    "### Write a program to genrate 3*5*6 3d array each elemnt having *"
   ]
  },
  {
   "cell_type": "code",
   "execution_count": 62,
   "metadata": {},
   "outputs": [
    {
     "name": "stdout",
     "output_type": "stream",
     "text": [
      "will do it latter\n"
     ]
    }
   ],
   "source": [
    "print('will do it latter')"
   ]
  },
  {
   "cell_type": "markdown",
   "metadata": {},
   "source": [
    "### Program to print the list after removing even number from list\n",
    "### V.1.0 Using normal way"
   ]
  },
  {
   "cell_type": "code",
   "execution_count": 64,
   "metadata": {},
   "outputs": [
    {
     "name": "stdout",
     "output_type": "stream",
     "text": [
      "[1, 3, 5, 7, 9]\n"
     ]
    }
   ],
   "source": [
    "mixed_number=[1,2,3,4,5,6,7,8,9,0]\n",
    "even_number=[]\n",
    "for x in mixed_number:\n",
    "    if x%2!=0:\n",
    "        even_number.append(x)\n",
    "print(even_number)"
   ]
  },
  {
   "cell_type": "markdown",
   "metadata": {},
   "source": [
    "### V.1.1 Using Comprehension"
   ]
  },
  {
   "cell_type": "code",
   "execution_count": 65,
   "metadata": {},
   "outputs": [
    {
     "name": "stdout",
     "output_type": "stream",
     "text": [
      "[1, 3, 5, 7, 7, 5, 33, 11]\n"
     ]
    }
   ],
   "source": [
    "mixed_number=[1,2,3,4,5,6,7,8,88,7,5,44,33,22,11]\n",
    "even_number=[x for x in mixed_number if x%2!=0]\n",
    "print(even_number)"
   ]
  },
  {
   "cell_type": "markdown",
   "metadata": {},
   "source": [
    "### V.1.2 Without creating new list"
   ]
  },
  {
   "cell_type": "code",
   "execution_count": 66,
   "metadata": {},
   "outputs": [
    {
     "name": "stdout",
     "output_type": "stream",
     "text": [
      "[1, 3, 5, 7, 9, 99, 77, 55, 33, 11]\n"
     ]
    }
   ],
   "source": [
    "mixed_number=[1,2,3,4,5,6,7,8,9,99,88,77,66,55,44,33,22,11]\n",
    "for x in mixed_number:\n",
    "    if x%2==0:\n",
    "        mixed_number.remove(x)\n",
    "print(mixed_number)"
   ]
  },
  {
   "cell_type": "markdown",
   "metadata": {},
   "source": [
    "### Write a program to shuffle and print the given list"
   ]
  },
  {
   "cell_type": "code",
   "execution_count": 72,
   "metadata": {},
   "outputs": [
    {
     "name": "stdout",
     "output_type": "stream",
     "text": [
      "will do it latter\n"
     ]
    }
   ],
   "source": [
    "print('will do it latter')"
   ]
  },
  {
   "cell_type": "markdown",
   "metadata": {},
   "source": [
    "### Write the program to print genrate and print a list except  first 5 element where the values are square of  number between 1 to 30"
   ]
  },
  {
   "cell_type": "code",
   "execution_count": 78,
   "metadata": {},
   "outputs": [
    {
     "name": "stdout",
     "output_type": "stream",
     "text": [
      "[1, 4, 9, 16, 25]\n",
      "[676, 729, 784, 841, 900]\n"
     ]
    }
   ],
   "source": [
    "\"\"\"\n",
    "program madhi 1 to 30 parynt square find karyche ahe ani first 5 ani last 5 square print karyche ahe\n",
    "\"\"\"\n",
    "square_list=[]\n",
    "for x in range(1,31):\n",
    "    square_list.append(x*x)\n",
    "print(square_list[0:5])\n",
    "print(square_list[-5:])"
   ]
  },
  {
   "cell_type": "markdown",
   "metadata": {},
   "source": [
    "### Write a program to print all perutation in list"
   ]
  },
  {
   "cell_type": "code",
   "execution_count": 79,
   "metadata": {},
   "outputs": [
    {
     "name": "stdout",
     "output_type": "stream",
     "text": [
      "will do it latter\n"
     ]
    }
   ],
   "source": [
    "print('will do it latter')"
   ]
  },
  {
   "cell_type": "markdown",
   "metadata": {},
   "source": [
    "### Write a program to print the list of numbers which are diffenrnt between two list"
   ]
  },
  {
   "cell_type": "code",
   "execution_count": 86,
   "metadata": {},
   "outputs": [
    {
     "name": "stdout",
     "output_type": "stream",
     "text": [
      "[1, 2, 7, 8]\n"
     ]
    }
   ],
   "source": [
    "a=[1,2,3,4,5,6]\n",
    "b=[7,8,5,3,4,6]\n",
    "new_list=[x for x in a if x not in b]\n",
    "new_list.extend([x for x in b if x not in a])\n",
    "print(new_list)"
   ]
  },
  {
   "cell_type": "markdown",
   "metadata": {},
   "source": [
    "### Write a python program to access the index of list i.e print key value pair\n",
    "### V.1.0 Using enumerate function which return key and value"
   ]
  },
  {
   "cell_type": "code",
   "execution_count": 89,
   "metadata": {},
   "outputs": [
    {
     "name": "stdout",
     "output_type": "stream",
     "text": [
      "index:0 value:1\n",
      "index:1 value:2\n",
      "index:2 value:3\n",
      "index:3 value:4\n",
      "index:4 value:44\n",
      "index:5 value:55\n",
      "index:6 value:33\n",
      "index:7 value:22\n"
     ]
    }
   ],
   "source": [
    "orignal_array=[1,2,3,4,44,55,33,22]\n",
    "for key,value in enumerate(orignal_array):\n",
    "    print(\"index:{0} value:{1}\".format(key,value))"
   ]
  },
  {
   "cell_type": "markdown",
   "metadata": {},
   "source": [
    "### V.1.1 using traditional method of loop"
   ]
  },
  {
   "cell_type": "code",
   "execution_count": 90,
   "metadata": {},
   "outputs": [
    {
     "name": "stdout",
     "output_type": "stream",
     "text": [
      "index:0 value:11\n",
      "index:1 value:33\n",
      "index:2 value:44\n",
      "index:3 value:3\n",
      "index:4 value:2\n",
      "index:5 value:444\n",
      "index:6 value:5\n",
      "index:7 value:5555\n",
      "index:8 value:3333\n"
     ]
    }
   ],
   "source": [
    "orignal_array=[11,33,44,3,2,444,5,5555,3333]\n",
    "for x in range(0,len(orignal_array)):\n",
    "    print(\"index:{0} value:{1}\".format(x,orignal_array[x]))"
   ]
  },
  {
   "cell_type": "markdown",
   "metadata": {},
   "source": [
    "### Q.) Write the program to convert character list into string\n",
    "### V.1.0 Using join method"
   ]
  },
  {
   "cell_type": "code",
   "execution_count": 1,
   "metadata": {},
   "outputs": [
    {
     "name": "stdout",
     "output_type": "stream",
     "text": [
      "abcdefghi\n"
     ]
    }
   ],
   "source": [
    "character_list=['a','b','c','d','e','f','g','h','i']\n",
    "string=\"\".join(character_list)\n",
    "print(string)"
   ]
  },
  {
   "cell_type": "markdown",
   "metadata": {},
   "source": [
    "### V.1.1 append to the string"
   ]
  },
  {
   "cell_type": "code",
   "execution_count": 4,
   "metadata": {},
   "outputs": [
    {
     "name": "stdout",
     "output_type": "stream",
     "text": [
      "abcdefg\n"
     ]
    }
   ],
   "source": [
    "character_list=['a','b','c','d','e','f','g']\n",
    "string=\"\"\n",
    "for x in character_list:\n",
    "    string=string+x\n",
    "print(string)"
   ]
  },
  {
   "cell_type": "markdown",
   "metadata": {},
   "source": [
    "### write a program to find index of specified character in list\n",
    "### Using index function which takes string as input and return its index else genrate valueError"
   ]
  },
  {
   "cell_type": "code",
   "execution_count": 8,
   "metadata": {},
   "outputs": [
    {
     "name": "stdout",
     "output_type": "stream",
     "text": [
      "Enter character to get index:this\n",
      "5\n"
     ]
    }
   ],
   "source": [
    "new_list=[1,23,4,'a','sameer','this','is','list']\n",
    "ch=input(\"Enter character to get index:\")\n",
    "print(new_list.index(ch))"
   ]
  },
  {
   "cell_type": "markdown",
   "metadata": {},
   "source": [
    "### Using usual way"
   ]
  },
  {
   "cell_type": "code",
   "execution_count": 14,
   "metadata": {},
   "outputs": [
    {
     "name": "stdout",
     "output_type": "stream",
     "text": [
      "Enter character to get index:sameer\n",
      "4\n"
     ]
    }
   ],
   "source": [
    "new_list=[1,23,4,'a','sameer','this','is','list']\n",
    "ch=input(\"Enter character to get index:\")\n",
    "found=0\n",
    "for x in range(0,len(new_list)):\n",
    "    if ch==new_list[x]:\n",
    "        print(x)\n",
    "        found=0\n",
    "        break\n",
    "    else:\n",
    "        found=1\n",
    "if found==1:\n",
    "    print(\"Element not present in list\")"
   ]
  },
  {
   "cell_type": "markdown",
   "metadata": {},
   "source": [
    "### Q.)Write a program to create flatten shallow list"
   ]
  },
  {
   "cell_type": "code",
   "execution_count": 19,
   "metadata": {},
   "outputs": [
    {
     "name": "stdout",
     "output_type": "stream",
     "text": [
      "[1, 2, 3, 4, 5, 4, 5, 6, 7, 8, 22, 33, 44, 55]\n"
     ]
    }
   ],
   "source": [
    "orignal_list=[[1,2,3,4,5],[4,5,6,7,8],[22,33,44,55]]\n",
    "flatten_list=[]\n",
    "for x in orignal_list:\n",
    "    flatten_list.extend(x)                         #extends function append the new list to another list\n",
    "print(flatten_list)"
   ]
  },
  {
   "cell_type": "markdown",
   "metadata": {},
   "source": [
    "### Write a program to append a list to the second list.\n",
    "### Using append function"
   ]
  },
  {
   "cell_type": "code",
   "execution_count": 23,
   "metadata": {},
   "outputs": [
    {
     "name": "stdout",
     "output_type": "stream",
     "text": [
      "[6, 7, 8, 9, 0]\n",
      "[6, 7, 8, 9, 0, [1, 2, 3, 4, 5]]\n"
     ]
    }
   ],
   "source": [
    "orignal_list=[1,2,3,4,5]\n",
    "new_list=[6,7,8,9,0]\n",
    "print(new_list)\n",
    "new_list.append(orignal_list)\n",
    "print(new_list)"
   ]
  },
  {
   "cell_type": "markdown",
   "metadata": {},
   "source": [
    "### Write a program to select random element from list\n",
    "### Using random module randint function"
   ]
  },
  {
   "cell_type": "code",
   "execution_count": 58,
   "metadata": {},
   "outputs": [
    {
     "name": "stdout",
     "output_type": "stream",
     "text": [
      "sam\n"
     ]
    }
   ],
   "source": [
    "import random\n",
    "random_list=['a','b','sam','shinde','xyz',2,3,3.44,3333]\n",
    "random_number=random.randint(0,len(random_list)-1)          #random.randint() function genrate one random number from 0 to len(list)-1 as index starts from 0\n",
    "print(random_list[random_number])"
   ]
  },
  {
   "cell_type": "markdown",
   "metadata": {},
   "source": [
    "### Q.)Write a program to check whather the two lists are circularly identical"
   ]
  },
  {
   "cell_type": "code",
   "execution_count": 61,
   "metadata": {},
   "outputs": [
    {
     "name": "stdout",
     "output_type": "stream",
     "text": [
      "yes\n"
     ]
    }
   ],
   "source": [
    "a=['a','b','c']\n",
    "b=['b','a','c']\n",
    "count=0\n",
    "if len(a)==len(b):\n",
    "    for x in a:\n",
    "        if x in b:\n",
    "            count+=1\n",
    "else:\n",
    "    print('for checking identity len of both string must be same')\n",
    "if count==len(a):\n",
    "    print(\"yes\")\n",
    "else:\n",
    "    print(\"no\")"
   ]
  },
  {
   "cell_type": "markdown",
   "metadata": {},
   "source": [
    "### Q.)Write a program to find second smallest number in the string\n",
    "### V.1.0. Using sorting login sort the number in assending order and second element will be second smalles"
   ]
  },
  {
   "cell_type": "code",
   "execution_count": 65,
   "metadata": {},
   "outputs": [
    {
     "name": "stdout",
     "output_type": "stream",
     "text": [
      "1\n"
     ]
    }
   ],
   "source": [
    "number_list=[1,0,0,3,4,5,6,7]\n",
    "number_list=list(set(number_list))\n",
    "number_list.sort()\n",
    "print(number_list[1])"
   ]
  },
  {
   "cell_type": "markdown",
   "metadata": {},
   "source": [
    "### V.1.1. Using regular logic"
   ]
  },
  {
   "cell_type": "code",
   "execution_count": 73,
   "metadata": {},
   "outputs": [
    {
     "name": "stdout",
     "output_type": "stream",
     "text": [
      "3\n"
     ]
    }
   ],
   "source": [
    "number_list=[8,2,3,4,5,6,7,8]\n",
    "smallest=number_list[0]\n",
    "second_smallest=None\n",
    "for x in number_list[1:]:\n",
    "    if x<smallest:\n",
    "        second_smallest=smallest\n",
    "        smallest=x\n",
    "    elif second_smallest==None or x<second_smallest:\n",
    "        second_smallest=x\n",
    "print(second_smallest)"
   ]
  },
  {
   "cell_type": "markdown",
   "metadata": {},
   "source": [
    "### Write a program to find second largest number in the list\n",
    "### V.1.0.sort the array in assending order and access the index -2"
   ]
  },
  {
   "cell_type": "code",
   "execution_count": 74,
   "metadata": {},
   "outputs": [
    {
     "name": "stdout",
     "output_type": "stream",
     "text": [
      "33\n"
     ]
    }
   ],
   "source": [
    "number_list=[33,4,5,66,33,9,6,3,2,5]\n",
    "number_list=list(set(number_list))\n",
    "number_list.sort()\n",
    "print(number_list[-2])"
   ]
  },
  {
   "cell_type": "markdown",
   "metadata": {},
   "source": [
    "### V.1.1 Using usual method"
   ]
  },
  {
   "cell_type": "code",
   "execution_count": 76,
   "metadata": {},
   "outputs": [
    {
     "name": "stdout",
     "output_type": "stream",
     "text": [
      "333\n"
     ]
    }
   ],
   "source": [
    "number_list=[3333,22,44,3,4,5,333,55]\n",
    "longest=number_list[0]\n",
    "second_long=None\n",
    "for x in number_list[1:]:\n",
    "    if x>longest:\n",
    "        second_long=longest\n",
    "        longest=x\n",
    "    elif second_long==None or x>second_long:\n",
    "        second_long=x\n",
    "print(second_long)"
   ]
  },
  {
   "cell_type": "markdown",
   "metadata": {},
   "source": [
    "### Write a program to get unique element from list\n",
    "### V.1.0 Convert the list to set because set deals with unique element"
   ]
  },
  {
   "cell_type": "code",
   "execution_count": 79,
   "metadata": {},
   "outputs": [
    {
     "name": "stdout",
     "output_type": "stream",
     "text": [
      "[33, 4, 5, 6, 8, 9, 11, 22]\n"
     ]
    }
   ],
   "source": [
    "number_list=[11,33,22,22,11,22,33,4,5,6,4,5,6,8,9]\n",
    "number_list=list(set(number_list))\n",
    "print(number_list)"
   ]
  },
  {
   "cell_type": "markdown",
   "metadata": {},
   "source": [
    "### V.1.1 Create empty list and append one by one element check condition if it is already present in new list or not if yes don't add if no then add"
   ]
  },
  {
   "cell_type": "code",
   "execution_count": 87,
   "metadata": {},
   "outputs": [
    {
     "name": "stdout",
     "output_type": "stream",
     "text": [
      "[11, 33, 444, 55, 555, 7, 8, 9, 3, 2]\n"
     ]
    }
   ],
   "source": [
    "num_list=[11,33,444,55,33,11,555,33,444,7,8,9,3,2,11]\n",
    "unique_list=[]\n",
    "for x in num_list:\n",
    "    if x not in unique_list:\n",
    "        unique_list.append(x)\n",
    "print(unique_list)\n"
   ]
  },
  {
   "cell_type": "markdown",
   "metadata": {},
   "source": [
    "### Q.)Write a program to print frequency of numbers in list"
   ]
  },
  {
   "cell_type": "code",
   "execution_count": 88,
   "metadata": {},
   "outputs": [
    {
     "name": "stdout",
     "output_type": "stream",
     "text": [
      "Element 11 Frequancy:3\n",
      "Element 33 Frequancy:3\n",
      "Element 444 Frequancy:2\n",
      "Element 55 Frequancy:1\n",
      "Element 555 Frequancy:1\n",
      "Element 7 Frequancy:1\n",
      "Element 8 Frequancy:1\n",
      "Element 9 Frequancy:1\n",
      "Element 3 Frequancy:1\n",
      "Element 2 Frequancy:1\n",
      "[11, 33, 444, 55, 555, 7, 8, 9, 3, 2]\n"
     ]
    }
   ],
   "source": [
    "num_list=[11,33,444,55,33,11,555,33,444,7,8,9,3,2,11]\n",
    "unique_list=[]\n",
    "for x in num_list:\n",
    "    if x not in unique_list:\n",
    "        unique_list.append(x)\n",
    "        print(\"Element {0} Frequancy:{1}\".format(x,num_list.count(x)))\n",
    "print(unique_list)"
   ]
  },
  {
   "cell_type": "markdown",
   "metadata": {},
   "source": [
    "### Write a program to count number of element in list within a specified range\n",
    "### V.1.0 Using normal way"
   ]
  },
  {
   "cell_type": "code",
   "execution_count": 90,
   "metadata": {},
   "outputs": [
    {
     "name": "stdout",
     "output_type": "stream",
     "text": [
      "Enter min range:5\n",
      "Enter max range:70\n",
      "6\n"
     ]
    }
   ],
   "source": [
    "num_list=[1,2,3,4,33,223,4,5,32,2,23,45,66]\n",
    "range1=int(input(\"Enter min range:\"))\n",
    "range2=int(input(\"Enter max range:\"))\n",
    "count=0\n",
    "for x in num_list:\n",
    "    if x in range(range1,range2):\n",
    "        count+=1\n",
    "print(count)"
   ]
  },
  {
   "cell_type": "markdown",
   "metadata": {},
   "source": [
    "### V.1.1 Using comprehention and create new list and return len of list"
   ]
  },
  {
   "cell_type": "code",
   "execution_count": 91,
   "metadata": {},
   "outputs": [
    {
     "name": "stdout",
     "output_type": "stream",
     "text": [
      "Enter min range:10\n",
      "Enter max range:150\n",
      "7\n"
     ]
    }
   ],
   "source": [
    "num_list=[1,2,3,4,10,29,30,40,50,100,110,200,220]\n",
    "minrange=int(input(\"Enter min range:\"))\n",
    "maxrange=int(input('Enter max range:'))\n",
    "new_list=[x for x in num_list if x in range(minrange,maxrange)]\n",
    "print(len(new_list))"
   ]
  },
  {
   "cell_type": "markdown",
   "metadata": {},
   "source": [
    "### Q.)Write a program to check whether list contains sublist or not\n",
    "### V.1.0 Using comprehension"
   ]
  },
  {
   "cell_type": "code",
   "execution_count": 104,
   "metadata": {},
   "outputs": [
    {
     "name": "stdout",
     "output_type": "stream",
     "text": [
      "List contains sublist\n"
     ]
    }
   ],
   "source": [
    "orignal_list=[1,2,3,[4,5,6,7],8,9]\n",
    "new_list=[x for x in orignal_list if type(x)==type(orignal_list)]   #check type of each element in orignal_list if type of element is equal to type(orignal list) means element is list so add it to new_lsit\n",
    "if len(new_list)>0:                        #if len(new_list)>0 means it contains at least one list so print result\n",
    "    print(\"List contains sublist\")\n",
    "else:\n",
    "    print(\"List doesn't contains sublist\")"
   ]
  },
  {
   "cell_type": "markdown",
   "metadata": {},
   "source": [
    "###  V.1.1 Using normal for loop and count variable"
   ]
  },
  {
   "cell_type": "code",
   "execution_count": 106,
   "metadata": {},
   "outputs": [
    {
     "name": "stdout",
     "output_type": "stream",
     "text": [
      "List contains sublist\n"
     ]
    }
   ],
   "source": [
    "orignal_list=[1,2,3,4,[5,6,7],8,9]\n",
    "count=0\n",
    "for x in orignal_list:\n",
    "    if type(x)==type(orignal_list):\n",
    "        count+=1\n",
    "if count>0:\n",
    "    print('List contains sublist')\n",
    "else:\n",
    "    print(\"List doesn't contains  sublist\")"
   ]
  },
  {
   "cell_type": "markdown",
   "metadata": {},
   "source": [
    "### Q.)Write a python program using Siece of Eratosthenes method for computing primes upto a specified number\n",
    "### V.1.0 Usual logic"
   ]
  },
  {
   "cell_type": "code",
   "execution_count": 25,
   "metadata": {},
   "outputs": [
    {
     "name": "stdout",
     "output_type": "stream",
     "text": [
      "Enter the number:30\n",
      "[1, 2, 3, 5, 7, 11, 13, 17, 19, 23, 29]\n"
     ]
    }
   ],
   "source": [
    "n=int(input(\"Enter the number:\"))\n",
    "number_list=list(range(1,n+1))\n",
    "prime_list=[1,2]\n",
    "count=0\n",
    "for x in number_list[2:]:\n",
    "    for i in range(2,x):\n",
    "        if x%i==0 and x!=i:\n",
    "            count=1\n",
    "            break\n",
    "    if count==0:\n",
    "        prime_list.append(x)\n",
    "    else:\n",
    "        count=0\n",
    "print(prime_list)"
   ]
  },
  {
   "cell_type": "markdown",
   "metadata": {},
   "source": [
    "### V.1.1 Prime Number using comprehension"
   ]
  },
  {
   "cell_type": "code",
   "execution_count": 35,
   "metadata": {},
   "outputs": [
    {
     "name": "stdout",
     "output_type": "stream",
     "text": [
      "50\n",
      "[1, 2, 3, 5, 7, 11, 13, 17, 19, 23, 29, 31, 37, 41, 43, 47]\n"
     ]
    }
   ],
   "source": [
    "n=int(input())\n",
    "\n",
    "'''first for loop genarate the number form 1 to n then if condition'''\n",
    "prime_list=[x for x in range(1,n) if all(x%1==0 and x%x==0 and x%j!=0 for j in range(2,x))]\n",
    "print(prime_list)"
   ]
  },
  {
   "cell_type": "markdown",
   "metadata": {},
   "source": [
    "### Q.)Write a python program to create a list by concatnating a given list which ranges from 0 to n\n"
   ]
  },
  {
   "cell_type": "code",
   "execution_count": 40,
   "metadata": {},
   "outputs": [
    {
     "name": "stdout",
     "output_type": "stream",
     "text": [
      "Enter number of time repatiation5\n",
      "['a', 'b', 'c', 'a', 'b', 'c', 'a', 'b', 'c', 'a', 'b', 'c', 'a', 'b', 'c']\n"
     ]
    }
   ],
   "source": [
    "sample_list=['a','b','c']\n",
    "n=int(input(\"Enter number of time repatiation\"))\n",
    "final_list=[]\n",
    "if n>0:\n",
    "    final_list.extend(sample_list*n)\n",
    "    print(final_list)\n",
    "else:\n",
    "    print('Number must be geater than equal to 0')"
   ]
  },
  {
   "cell_type": "markdown",
   "metadata": {},
   "source": [
    "### Q.) Write a python program to get unique identification number or string of variable"
   ]
  },
  {
   "cell_type": "code",
   "execution_count": 45,
   "metadata": {},
   "outputs": [
    {
     "name": "stdout",
     "output_type": "stream",
     "text": [
      "Enter any number3\n",
      "Unique identification number of variable:a is:2415598987632\n",
      "2326ceb6970\n"
     ]
    }
   ],
   "source": [
    "a=int(input(\"Enter any number\"))\n",
    "print(\"Unique identification number of variable:a is:{0}\".format(id(a)))     #id function returns process id or memory location of variable\n",
    "print(format(id(a),'x'))"
   ]
  },
  {
   "cell_type": "markdown",
   "metadata": {},
   "source": [
    "### Q.) Write a program to find comman items in two lists"
   ]
  },
  {
   "cell_type": "code",
   "execution_count": 46,
   "metadata": {},
   "outputs": [
    {
     "name": "stdout",
     "output_type": "stream",
     "text": [
      "[1, 2, 5, 6, 8]\n"
     ]
    }
   ],
   "source": [
    "list1=[1,2,3,4,5,6,7,8]\n",
    "list2=[5,6,44,33,9,8,9,1,2]\n",
    "print(list(set(list1).intersection(list2)))"
   ]
  },
  {
   "cell_type": "markdown",
   "metadata": {},
   "source": [
    "### Q.)Write a program to change every nth position with n+1th position"
   ]
  },
  {
   "cell_type": "code",
   "execution_count": 66,
   "metadata": {},
   "outputs": [
    {
     "name": "stdout",
     "output_type": "stream",
     "text": [
      "[2, 1, 4, 3, 6, 5, 2, 1]\n"
     ]
    }
   ],
   "source": [
    "sample_list=[1,2,3,4,5,6,1,2]\n",
    "new_list=sample_list\n",
    "if(len(sample_list)%2!=0):\n",
    "    for x in range(0,len(sample_list)-1,2):\n",
    "        temp1=sample_list[x]  #get the element at xth position in sample_list\n",
    "        temp2=sample_list[x+1] #get the elment at x+1th position from sample_list\n",
    "        new_list[x]=temp2 #assign the temp2 to new_list xth position\n",
    "        new_list[x+1]=temp1  #assing the temp1 to new_list x+2th position\n",
    "else:\n",
    "    for x in range(0,len(sample_list),2):\n",
    "        temp1=sample_list[x]  #get the element at xth position in sample_list\n",
    "        temp2=sample_list[x+1] #get the elment at x+1th position from sample_list\n",
    "        new_list[x]=temp2 #assign the temp2 to new_list xth position\n",
    "        new_list[x+1]=temp1  #assing the temp1 to new_list x+2th position\n",
    "    \n",
    "                     \n",
    "                           \n",
    "print(new_list)"
   ]
  },
  {
   "cell_type": "markdown",
   "metadata": {},
   "source": [
    "### Q.)Write a program to conver list of multiple integer into one integer"
   ]
  },
  {
   "cell_type": "code",
   "execution_count": 100,
   "metadata": {},
   "outputs": [
    {
     "name": "stdout",
     "output_type": "stream",
     "text": [
      "122\n"
     ]
    }
   ],
   "source": [
    "l=[1,2,2]\n",
    "new_list=[str(x) for x in l]      #convert the integer list into string list\n",
    "final=int(\"\".join(new_list))      #join the string array using join() function and convert it into integer\n",
    "print(final)"
   ]
  },
  {
   "cell_type": "markdown",
   "metadata": {},
   "source": [
    "### Q.)Write a program to split a list based on first character of word"
   ]
  },
  {
   "cell_type": "code",
   "execution_count": 105,
   "metadata": {},
   "outputs": [
    {
     "name": "stdout",
     "output_type": "stream",
     "text": [
      "do it latter\n"
     ]
    }
   ],
   "source": [
    "print('do it latter')\n"
   ]
  },
  {
   "cell_type": "markdown",
   "metadata": {},
   "source": [
    "### Q.)Write a program to create multiple list"
   ]
  },
  {
   "cell_type": "code",
   "execution_count": 111,
   "metadata": {},
   "outputs": [
    {
     "name": "stdout",
     "output_type": "stream",
     "text": [
      "[['0'], ['1'], ['2'], ['3'], ['4'], ['5'], ['6'], ['7'], ['8'], ['9'], ['1', '0'], ['1', '1'], ['1', '2'], ['1', '3'], ['1', '4']]\n"
     ]
    }
   ],
   "source": [
    "l=[]\n",
    "for x in range(0,15):\n",
    "    l.append(list(str(x)))\n",
    "print(l)"
   ]
  },
  {
   "cell_type": "markdown",
   "metadata": {},
   "source": [
    "### Q.)Write the missing and extra values in list 2"
   ]
  },
  {
   "cell_type": "code",
   "execution_count": 126,
   "metadata": {},
   "outputs": [
    {
     "name": "stdout",
     "output_type": "stream",
     "text": [
      "Enter first string:abcd\n",
      "Enter second string:abefg\n",
      "Missing values:c d\n",
      "Extra vlaues:e f g\n"
     ]
    }
   ],
   "source": [
    "str1=input(\"Enter first string:\")\n",
    "str2=input(\"Enter second string:\")\n",
    "missing=[]\n",
    "extra=[]\n",
    "for x in str1:\n",
    "    count=str2.count(x)\n",
    "    if count==0:\n",
    "        missing.append(x)\n",
    "for x in str2:\n",
    "    if x not in str1:\n",
    "        extra.append(x)\n",
    "print(\"Missing values:{0}\".format(\" \".join(missing)))\n",
    "print(\"Extra vlaues:{0}\".format(\" \".join(extra)))"
   ]
  },
  {
   "cell_type": "markdown",
   "metadata": {},
   "source": [
    "### Write a program to print list into diffent variables"
   ]
  },
  {
   "cell_type": "code",
   "execution_count": 131,
   "metadata": {},
   "outputs": [
    {
     "name": "stdout",
     "output_type": "stream",
     "text": [
      "(1, 2, 3, 4)\n",
      "('a', 'b')\n",
      "('sameer', 'shinde')\n"
     ]
    }
   ],
   "source": [
    "sample_list=[(1,2,3,4),('a','b'),('sameer','shinde')]\n",
    "var1,var2,var3=sample_list\n",
    "print(var1)\n",
    "print(var2)\n",
    "print(var3)"
   ]
  },
  {
   "cell_type": "markdown",
   "metadata": {},
   "source": [
    "### Q.)Write a program to generate group of consicative number in list"
   ]
  },
  {
   "cell_type": "code",
   "execution_count": 152,
   "metadata": {},
   "outputs": [
    {
     "name": "stdout",
     "output_type": "stream",
     "text": [
      "[[1, 2, 3, 4, 5], [6, 7, 8, 9, 10], [11, 12, 13, 14, 15], [16, 17, 18, 19, 20], [21, 22, 23, 24, 25]]\n"
     ]
    }
   ],
   "source": [
    "sample=[]\n",
    "newarr=[]\n",
    "for x in range(1,26):\n",
    "    if x%5!=0:\n",
    "        newarr.append(x)\n",
    "    else:\n",
    "        newarr.append(x)\n",
    "        sample.append(newarr)\n",
    "        newarr=[]\n",
    "print(sample)"
   ]
  },
  {
   "cell_type": "markdown",
   "metadata": {},
   "source": [
    "### Q.)Write a program to convert pair of values into sorted unique array"
   ]
  },
  {
   "cell_type": "code",
   "execution_count": 194,
   "metadata": {},
   "outputs": [
    {
     "name": "stdout",
     "output_type": "stream",
     "text": [
      "[0, 1, 2, 3, 4, 5, 6, 7, 8, 9, 10, 11]\n"
     ]
    }
   ],
   "source": [
    "sample_list=[(1,2),(3,4),(6,7),(5,6),(8,9),(9,10),(0,11)]\n",
    "number_list=[]\n",
    "for x in sample_list:\n",
    "    number_list.extend(list(x)) #coverting the set into list and extends means creating one list from all sets\n",
    "unique_sorted_list=(list(set(number_list)))   #convert the number_list into set and again covert set into list\n",
    "print(unique_sorted_list)"
   ]
  },
  {
   "cell_type": "markdown",
   "metadata": {},
   "source": [
    "### Q.)Write a python progarm to select odd numbers in the list\n",
    "### V.1.0 Using comprehension"
   ]
  },
  {
   "cell_type": "code",
   "execution_count": 196,
   "metadata": {},
   "outputs": [
    {
     "name": "stdout",
     "output_type": "stream",
     "text": [
      "[1, 3, 5, 7, 9, 99, 77, 55, 33, 11, 121, 343, 545, 767]\n"
     ]
    }
   ],
   "source": [
    "random_list=[1,2,3,4,5,6,7,8,9,99,88,77,66,55,44,33,22,11,121,232,343,545,656,767]\n",
    "odd_list=[x for x in random_list if x%2!=0]\n",
    "print(odd_list)"
   ]
  },
  {
   "cell_type": "markdown",
   "metadata": {},
   "source": [
    "### V.1.1 Using normal way"
   ]
  },
  {
   "cell_type": "code",
   "execution_count": 199,
   "metadata": {},
   "outputs": [
    {
     "name": "stdout",
     "output_type": "stream",
     "text": [
      "[1, 3, 9, 99, 33, 11, 121, 343, 545, 767]\n"
     ]
    }
   ],
   "source": [
    "random_list=[1,2,3,9,99,33,22,11,121,232,343,545,656,767]\n",
    "odd_list=[]\n",
    "for x in random_list:\n",
    "    if x%2!=0:\n",
    "        odd_list.append(x)\n",
    "print(odd_list)"
   ]
  },
  {
   "cell_type": "code",
   "execution_count": null,
   "metadata": {},
   "outputs": [],
   "source": [
    "### Q.)Write a program to insert element before each element of list"
   ]
  },
  {
   "cell_type": "code",
   "execution_count": 2,
   "metadata": {},
   "outputs": [
    {
     "name": "stdout",
     "output_type": "stream",
     "text": [
      "['x', 1, 'x', 2, 'x', 3, 'x', 4, 'x', 'a', 'x', 'b', 'x', 'bc', 'x', 'xyz', 'x', 'sameer']\n"
     ]
    }
   ],
   "source": [
    "sample_list=[1,2,3,4,'a','b','bc','xyz','sameer']\n",
    "new_list=[]\n",
    "for x in sample_list:\n",
    "    new_list.append('x')\n",
    "    new_list.append(x)\n",
    "print(new_list)"
   ]
  },
  {
   "cell_type": "markdown",
   "metadata": {},
   "source": [
    "### Q.)Program to convert list to list of dictnoary"
   ]
  },
  {
   "cell_type": "code",
   "execution_count": 223,
   "metadata": {},
   "outputs": [
    {
     "name": "stdout",
     "output_type": "stream",
     "text": [
      "do it latter\n"
     ]
    }
   ],
   "source": [
    "print('do it latter')"
   ]
  },
  {
   "cell_type": "markdown",
   "metadata": {},
   "source": [
    "### Q.)Write a program to compute similarity between two list"
   ]
  },
  {
   "cell_type": "code",
   "execution_count": 229,
   "metadata": {},
   "outputs": [
    {
     "name": "stdout",
     "output_type": "stream",
     "text": [
      "Color1-Color2:['red', 'orange', 'white']\n",
      "Color2-Color1:['black', 'yellow']\n"
     ]
    }
   ],
   "source": [
    "list1=['red','orange','green','blue','white']\n",
    "list2=['black','yellow','green','blue']\n",
    "color1_color2=[]\n",
    "color2_color1=[]\n",
    "for x in list1:\n",
    "    if x not in list2:\n",
    "        color1_color2.append(x)\n",
    "for y in list2:\n",
    "    if y not in list1:\n",
    "        color2_color1.append(y)\n",
    "print('Color1-Color2:{0}'.format(color1_color2))\n",
    "print('Color2-Color1:{0}'.format(color2_color1))"
   ]
  },
  {
   "cell_type": "markdown",
   "metadata": {},
   "source": [
    "### Q.) Write a prgoram to create list with infinite element"
   ]
  },
  {
   "cell_type": "code",
   "execution_count": 2,
   "metadata": {},
   "outputs": [
    {
     "name": "stdout",
     "output_type": "stream",
     "text": [
      "dont try this program it will hang your pc\n"
     ]
    }
   ],
   "source": [
    "print('dont try this program it will hang your pc')"
   ]
  },
  {
   "cell_type": "markdown",
   "metadata": {},
   "source": [
    "### Q.) Write a prgram to split every nth element"
   ]
  },
  {
   "cell_type": "code",
   "execution_count": 4,
   "metadata": {},
   "outputs": [
    {
     "ename": "IndentationError",
     "evalue": "expected an indented block (<ipython-input-4-08cee311a82a>, line 8)",
     "output_type": "error",
     "traceback": [
      "\u001b[1;36m  File \u001b[1;32m\"<ipython-input-4-08cee311a82a>\"\u001b[1;36m, line \u001b[1;32m8\u001b[0m\n\u001b[1;33m    \u001b[0m\n\u001b[1;37m    ^\u001b[0m\n\u001b[1;31mIndentationError\u001b[0m\u001b[1;31m:\u001b[0m expected an indented block\n"
     ]
    }
   ],
   "source": [
    "orignal_list=['a','b','c','d','e','f','g','h','i','j','k','l','m','n']\n",
    "new_list=[]\n",
    "temp_list=[]\n",
    "print(len(orignal_list))\n",
    "for x in range(0,len(orignal_list)):\n",
    "    temp_list.append(orignal_list[x])\n",
    "    for j in range(0,len(orignal_list)):\n",
    "        "
   ]
  },
  {
   "cell_type": "markdown",
   "metadata": {},
   "source": [
    "### Q.)Write a program to concat elements of list"
   ]
  },
  {
   "cell_type": "code",
   "execution_count": 8,
   "metadata": {},
   "outputs": [
    {
     "name": "stdout",
     "output_type": "stream",
     "text": [
      "123456abc\n"
     ]
    }
   ],
   "source": [
    "orignal_list=[1,2,3,4,5,6,'a','b','c']\n",
    "concated_list=[str(x) for x in orignal_list]\n",
    "concated_string=\"\".join(concated_list)\n",
    "print(concated_string)"
   ]
  },
  {
   "cell_type": "markdown",
   "metadata": {},
   "source": [
    "### Q.) Write a program to remove key value pair from dictonary"
   ]
  },
  {
   "cell_type": "code",
   "execution_count": 24,
   "metadata": {},
   "outputs": [
    {
     "name": "stdout",
     "output_type": "stream",
     "text": [
      "{'key1': 5, 'sam': 'sameer', 'a': 'A', 'b': 'B', 'c': 'C', 'd': 'D'}\n"
     ]
    }
   ],
   "source": [
    "dic={'key':4,'key1':5,'sam':'sameer','a':'A','b':'B','c':'C','d':'D','e':'E'}\n",
    "dic.pop('key')                             #pop method deletes the key value pair of passed key\n",
    "dic.popitem()                              #popitem mehtod removes the last element in the list\n",
    "print(dic)"
   ]
  },
  {
   "cell_type": "markdown",
   "metadata": {},
   "source": [
    "### Write a program to convert string to list"
   ]
  },
  {
   "cell_type": "code",
   "execution_count": 26,
   "metadata": {},
   "outputs": [
    {
     "name": "stdout",
     "output_type": "stream",
     "text": [
      "Enter string:sameer\n",
      "['sameer']\n"
     ]
    }
   ],
   "source": [
    "string=input(\"Enter string:\")\n",
    "string_list=string.split()           #by default split the string when white space encounters we can mention a spliting symbol\n",
    "print(string_list)"
   ]
  },
  {
   "cell_type": "markdown",
   "metadata": {},
   "source": [
    "### Write program to check all item in the list is equal to string"
   ]
  },
  {
   "cell_type": "code",
   "execution_count": 33,
   "metadata": {},
   "outputs": [
    {
     "name": "stdout",
     "output_type": "stream",
     "text": [
      "Enter search string:g\n",
      "List doesnt contains same element\n"
     ]
    }
   ],
   "source": [
    "string_list=['sameer','sameer','sameer','sameer']\n",
    "search_string=input('Enter search string:')\n",
    "count=0\n",
    "for x in string_list:\n",
    "    if x==search_string:\n",
    "        count+=1                           #count increses if it encounters similar element\n",
    "if count==len(string_list):                #if count==len(string_list) means all element in the list is matching the given string\n",
    "    print('List contains all items equal to string')\n",
    "else:\n",
    "    print('List doesnt contains same element')"
   ]
  },
  {
   "cell_type": "markdown",
   "metadata": {},
   "source": [
    "### Write a program to replace last element in the list with onother list "
   ]
  },
  {
   "cell_type": "code",
   "execution_count": 47,
   "metadata": {},
   "outputs": [
    {
     "name": "stdout",
     "output_type": "stream",
     "text": [
      "Enter number of element in list 1:4\n",
      "Enter list1 element1\n",
      "Enter list1 element2\n",
      "Enter list1 element3\n",
      "Enter list1 element4\n",
      "Enter number of element in list 2:5\n",
      "Enter list2 elements:6\n",
      "Enter list2 elements:7\n",
      "Enter list2 elements:8\n",
      "Enter list2 elements:8\n",
      "Enter list2 elements:9\n",
      "[1, 2, 3, 6, 7, 8, 8, 9]\n"
     ]
    }
   ],
   "source": [
    "list1_number=int(input(\"Enter number of element in list 1:\"))\n",
    "list1=[]\n",
    "for x in range(list1_number):\n",
    "    list1.append(int(input(\"Enter list1 element\")))\n",
    "list2_number=int(input('Enter number of element in list 2:'))\n",
    "list2=[]\n",
    "for x in range(list2_number):\n",
    "    list2.append(int(input('Enter list2 elements:')))\n",
    "list1.remove(list1[-1])\n",
    "list1.extend(list2)\n",
    "print(list1)"
   ]
  },
  {
   "cell_type": "markdown",
   "metadata": {},
   "source": [
    "### Q.)Write a program to check nth element is present in list or not"
   ]
  },
  {
   "cell_type": "code",
   "execution_count": 51,
   "metadata": {},
   "outputs": [
    {
     "name": "stdout",
     "output_type": "stream",
     "text": [
      "Enter nth index to access:9\n",
      "Nth element is not present\n"
     ]
    }
   ],
   "source": [
    "sample_list=[1,2,3,4,5,6,7,8,9]\n",
    "nth_position=int(input(\"Enter nth index to access:\"))\n",
    "if len(sample_list)-1>=nth_position:\n",
    "    print(\"Nth element is present\")\n",
    "else:\n",
    "    print('Nth element is not present')"
   ]
  },
  {
   "cell_type": "markdown",
   "metadata": {},
   "source": [
    "### Q.) Write a program to create list of empty dictnory"
   ]
  },
  {
   "cell_type": "code",
   "execution_count": 55,
   "metadata": {},
   "outputs": [
    {
     "name": "stdout",
     "output_type": "stream",
     "text": [
      "Enter how many empty dictnory in list:10\n",
      "[{}, {}, {}, {}, {}, {}, {}, {}, {}, {}]\n"
     ]
    }
   ],
   "source": [
    "n=int(input('Enter how many empty dictnory in list:'))\n",
    "new_list=[{} for x in range(n)]\n",
    "print(new_list)"
   ]
  },
  {
   "cell_type": "markdown",
   "metadata": {},
   "source": [
    "### Q.) Write a program to find a tuple, smallest second index value  from list of tuple"
   ]
  },
  {
   "cell_type": "code",
   "execution_count": 58,
   "metadata": {},
   "outputs": [
    {
     "name": "stdout",
     "output_type": "stream",
     "text": [
      "(6, 7)\n"
     ]
    }
   ],
   "source": [
    "tuple_list=[(5,6),(6,7),(1,2),(3,4)]\n",
    "print(tuple_list[1])"
   ]
  },
  {
   "cell_type": "markdown",
   "metadata": {},
   "source": [
    "### Q.) Write a python program to print a list of space seprated elements"
   ]
  },
  {
   "cell_type": "code",
   "execution_count": 66,
   "metadata": {},
   "outputs": [
    {
     "name": "stdout",
     "output_type": "stream",
     "text": [
      "a b c d 1 2 3\n"
     ]
    }
   ],
   "source": [
    "lis=['a','b','c','d',1,2,3]\n",
    "strlist=[str(x) for x in lis]      #convert the list into str list so that int also get converted to str and no error will genarate by join method\n",
    "string=\" \".join(strlist)           #join the list by \" \"\n",
    "print(string)"
   ]
  },
  {
   "cell_type": "markdown",
   "metadata": {},
   "source": [
    "### Q.) Write a program to insert a given string at begining of all item in list"
   ]
  },
  {
   "cell_type": "code",
   "execution_count": 71,
   "metadata": {},
   "outputs": [
    {
     "name": "stdout",
     "output_type": "stream",
     "text": [
      "Enter string to append:ram\n",
      "['ram1', 'ram2', 'ram3', 'ram4', 'ram5']\n"
     ]
    }
   ],
   "source": [
    "orignal_list=[1,2,3,4,5]\n",
    "string=input('Enter string to append:')\n",
    "newlist=[string+str(x) for x in orignal_list] #create a new list only containing string\n",
    "print(newlist)"
   ]
  },
  {
   "cell_type": "markdown",
   "metadata": {},
   "source": [
    "### Q.) Write a program to iterate over two list simultaniouly"
   ]
  },
  {
   "cell_type": "code",
   "execution_count": 77,
   "metadata": {},
   "outputs": [
    {
     "name": "stdout",
     "output_type": "stream",
     "text": [
      "[7, 8, 9, 0]\n",
      "[1, 2, 3, 4, 5, 6]\n"
     ]
    }
   ],
   "source": [
    "list1=[1,2,3,4,5,6]\n",
    "list2=[7,8,9,0]\n",
    "for x in list2,list1:        #this x will first store list1 element and after finishing list will it will store list2\n",
    "    print(x)\n",
    "    "
   ]
  },
  {
   "cell_type": "markdown",
   "metadata": {},
   "source": [
    "### Q.)Write a program to access dictonary keys by element"
   ]
  },
  {
   "cell_type": "code",
   "execution_count": 91,
   "metadata": {},
   "outputs": [
    {
     "name": "stdout",
     "output_type": "stream",
     "text": [
      "Enter value to get key:A\n",
      "a\n"
     ]
    }
   ],
   "source": [
    "dic={'a':'A','b':'B','c':'C','d':'D','e':'E'}\n",
    "value=input('Enter value to get key:')\n",
    "for key,val in dic.items():            #dic.items() create list of dic and then return key value like enumerate method\n",
    "    if value==val:\n",
    "        print(key)\n",
    "#print(dic.items())"
   ]
  },
  {
   "cell_type": "markdown",
   "metadata": {},
   "source": [
    "### Q.)Find the list in list whose sum of element is high"
   ]
  },
  {
   "cell_type": "code",
   "execution_count": 102,
   "metadata": {},
   "outputs": [
    {
     "name": "stdout",
     "output_type": "stream",
     "text": [
      "[[111, 111]]\n"
     ]
    }
   ],
   "source": [
    "sample_list=[[1,2,3],[111,111],[4,5,6],[7,8,9],[10,11,12]]      #orignal list\n",
    "high_list=[[0]]                                       #high_list stores the higest list from the orignal list whose sum is high and this only contains one element\n",
    "\n",
    "for x in sample_list:                                 #getting one by one element in x from sample_list \n",
    "    addition=sum(x)                                   #getting teh sum of list in x\n",
    "    if sum(high_list[0])<addition:                    #checking if sum of list in high list is less than current list sum if yes\n",
    "        high_list[0]=x                                #then update the high_list and assign current list to 0th position\n",
    "print(high_list)                                      #print the list"
   ]
  },
  {
   "cell_type": "markdown",
   "metadata": {},
   "source": [
    "### Q.)Write value to find all number greater than specified number"
   ]
  },
  {
   "cell_type": "code",
   "execution_count": 105,
   "metadata": {},
   "outputs": [
    {
     "name": "stdout",
     "output_type": "stream",
     "text": [
      "Enter the specified number:55\n",
      "[5566, 78, 544, 343, 456, 339]\n"
     ]
    }
   ],
   "source": [
    "sample_list_of_numbers=[1,2,3,4,5,6,7,33,44,5566,78,544,343,6,456,339]\n",
    "n=int(input('Enter the specified number:'))\n",
    "max_number_list=[x for x in sample_list_of_numbers if x>=n]\n",
    "print(max_number_list)"
   ]
  },
  {
   "cell_type": "markdown",
   "metadata": {},
   "source": [
    "### Q.)Write a program to extend the list without appending it\n",
    "### Using append fucntion"
   ]
  },
  {
   "cell_type": "code",
   "execution_count": 109,
   "metadata": {},
   "outputs": [
    {
     "name": "stdout",
     "output_type": "stream",
     "text": [
      "[5, 6, 7, 8, 1, 2, 3, 4]\n"
     ]
    }
   ],
   "source": [
    "list1=[1,2,3,4]\n",
    "list2=[5,6,7,8]\n",
    "list2.extend(list1)\n",
    "print(list2)"
   ]
  },
  {
   "cell_type": "markdown",
   "metadata": {},
   "source": [
    "### Using for loop"
   ]
  },
  {
   "cell_type": "code",
   "execution_count": 108,
   "metadata": {},
   "outputs": [
    {
     "name": "stdout",
     "output_type": "stream",
     "text": [
      "[1, 2, 3, 4, 5, 6, 7, 8]\n"
     ]
    }
   ],
   "source": [
    "list1=[1,2,3,4,5]\n",
    "list2=[6,7,8]\n",
    "for x in list2:\n",
    "    list1.append(x)\n",
    "print(list1)"
   ]
  },
  {
   "cell_type": "markdown",
   "metadata": {},
   "source": [
    "### Q.) Write a program to remove duplicates from list of lists"
   ]
  },
  {
   "cell_type": "code",
   "execution_count": 118,
   "metadata": {},
   "outputs": [
    {
     "name": "stdout",
     "output_type": "stream",
     "text": [
      "[[1, 2, 3], [5, 6], [4, 5, 6], [4, 5]]\n"
     ]
    }
   ],
   "source": [
    "orignal_list=[[1,2,3],[5,6],[1,2,3],[4,5,6],[4,5],[5,6]]\n",
    "unique_list=[]\n",
    "for x in orignal_list:\n",
    "    cnt=orignal_list.count(x)\n",
    "    if cnt>=1 and x not in unique_list:\n",
    "        unique_list.append(x)\n",
    "print(unique_list)"
   ]
  },
  {
   "cell_type": "markdown",
   "metadata": {},
   "source": [
    "### Q.)Write a program to find depth of dictnory"
   ]
  },
  {
   "cell_type": "code",
   "execution_count": 132,
   "metadata": {},
   "outputs": [
    {
     "name": "stdout",
     "output_type": "stream",
     "text": [
      "depth of string:3\n"
     ]
    }
   ],
   "source": [
    "dic={'a':'A','b':{'b':{'B':'c'}}}\n",
    "string=str(dic)\n",
    "count=string.count('{')\n",
    "print('depth of string:{0}'.format(count))"
   ]
  },
  {
   "cell_type": "markdown",
   "metadata": {},
   "source": [
    "### Q.)Write if all dictionarys in list are empty or not"
   ]
  },
  {
   "cell_type": "code",
   "execution_count": 139,
   "metadata": {},
   "outputs": [
    {
     "name": "stdout",
     "output_type": "stream",
     "text": [
      "All dictionary in list are empty\n"
     ]
    }
   ],
   "source": [
    "empty_dic=[1,2,3,{},{},{}] #empty_dic contains list element which may be only dic or others to\n",
    "dictionary_count=0         #variable stores number of dictionary in empty_dic\n",
    "empty_dictionary=0         #variable stores number of empty dictionary in empty_dic\n",
    "for x in empty_dic:        #for loop to visit each element in empty_dic\n",
    "    if type(x)==dict:      #if type of element in empty_dic is dictionary then \n",
    "        dictionary_count+=1#increase dictionary count by 1 and\n",
    "        if len(x)==0:      #check if the dictionary is empty or not by len method if len==0 means dic is empty if it is empty then\n",
    "            empty_dictionary+=1 #increase empty_dictionary by 1\n",
    "if dictionary_count==empty_dictionary:   #check dictionary_count==empty_dictionary means number of dictionary we found is all empty or not if yes print message \n",
    "    print('All dictionary in list are empty')\n",
    "else:                                            #if all dictionary in list are not empty then print message\n",
    "    print('No all dictionary in list are empty')"
   ]
  },
  {
   "cell_type": "code",
   "execution_count": null,
   "metadata": {},
   "outputs": [],
   "source": []
  }
 ],
 "metadata": {
  "kernelspec": {
   "display_name": "Python 3",
   "language": "python",
   "name": "python3"
  },
  "language_info": {
   "codemirror_mode": {
    "name": "ipython",
    "version": 3
   },
   "file_extension": ".py",
   "mimetype": "text/x-python",
   "name": "python",
   "nbconvert_exporter": "python",
   "pygments_lexer": "ipython3",
   "version": "3.9.0"
  }
 },
 "nbformat": 4,
 "nbformat_minor": 4
}
